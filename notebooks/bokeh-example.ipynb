{
 "cells": [
  {
   "cell_type": "code",
   "execution_count": null,
   "id": "c9d1c4bd",
   "metadata": {},
   "outputs": [],
   "source": [
    "import os\n",
    "import sys\n",
    "\n",
    "import numpy as np\n",
    "import pandas as pd\n",
    "\n",
    "from bokeh.plotting import show\n",
    "from bokeh.io import output_notebook\n",
    "from bokeh.models.widgets import RangeSlider\n",
    "\n",
    "import msprime\n",
    "\n",
    "sys.path.append(\"../src\")\n",
    "import util\n",
    "import vis\n",
    "\n",
    "output_notebook()\n"
   ]
  },
  {
   "cell_type": "code",
   "execution_count": null,
   "id": "ab40e155",
   "metadata": {},
   "outputs": [],
   "source": [
    "os.environ[\"BOKEH_ALLOW_WS_ORIGIN\"] = '0aaf0agotd3etfja916liv2etcl4ul9j3fk8kav1m1a16m18da6b'\n"
   ]
  },
  {
   "cell_type": "code",
   "execution_count": null,
   "id": "2d92abff",
   "metadata": {},
   "outputs": [],
   "source": [
    "ts = msprime.sim_mutations(\n",
    "    msprime.sim_ancestry(\n",
    "        100,\n",
    "        sequence_length=1e7,\n",
    "        ploidy=2,\n",
    "        recombination_rate=1e-8,\n",
    "        random_seed=1234\n",
    "    ),\n",
    "    rate=1e-7,\n",
    "    random_seed=1234\n",
    ")\n",
    "ts\n"
   ]
  },
  {
   "cell_type": "code",
   "execution_count": null,
   "id": "7d2fe7a8",
   "metadata": {},
   "outputs": [],
   "source": [
    "path = util.SamplePath(\n",
    "    individual=\"test\",\n",
    "    nodes=np.concatenate((\n",
    "        np.repeat( 80, 5),\n",
    "        np.repeat(100, 6),\n",
    "        np.repeat(240, 6),\n",
    "        np.repeat(350, 5),\n",
    "        np.repeat( 70, 4),\n",
    "        np.repeat(260, 5),\n",
    "    )),\n",
    "    site_positions=ts.sites_position,\n",
    ")\n",
    "path\n"
   ]
  },
  {
   "cell_type": "code",
   "execution_count": null,
   "id": "21af10b1",
   "metadata": {},
   "outputs": [],
   "source": [
    "np.random.seed(1234)\n",
    "fwd_prob_mat_ar = np.random.uniform(size=(ts.num_nodes, ts.num_sites))\n",
    "fwd_prob_mat_df = pd.DataFrame({\n",
    "    'node_id' : np.array([np.repeat(i, ts.num_sites) for i in np.arange(ts.num_nodes)]).flatten(),\n",
    "    'site_id' : np.array([np.arange(ts.num_sites) for _ in np.arange(ts.num_nodes)]).flatten(),\n",
    "    'site_pos': np.tile(ts.sites_position, ts.num_nodes).flatten(),\n",
    "    'prob'    : fwd_prob_mat_ar.flatten(),\n",
    "})\n",
    "fwd_prob_mat_df\n"
   ]
  },
  {
   "cell_type": "code",
   "execution_count": null,
   "id": "2a896eed",
   "metadata": {},
   "outputs": [],
   "source": [
    "# TODO: Use toggle buttons for the different views.\n",
    "controls = {\n",
    "    \"interval\": RangeSlider(\n",
    "        start=0, end=len(path), step=1,\n",
    "        value=(0, len(path)),\n",
    "        title=\"Genomic interval\"\n",
    "    )\n",
    "}\n",
    "\n",
    "tracks_site_pos = [\n",
    "    path.site_positions,\n",
    "    path.site_positions,\n",
    "    path.site_positions,\n",
    "    path.site_positions,\n",
    "]\n",
    "tracks_site_id = [\n",
    "    np.arange(len(path)),\n",
    "    np.arange(len(path)),\n",
    "    np.arange(len(path)),\n",
    "    np.arange(len(path)),\n",
    "]\n",
    "\n",
    "app = vis.create_step_chart_app(\n",
    "    path,\n",
    "    ts,\n",
    "    markers=path.site_positions[::2],\n",
    "    tracks=tracks_site_pos,\n",
    "    legend_labels=[\n",
    "        'BEAGLE',\n",
    "        'tskit',\n",
    "        'truth',\n",
    "        'chip',\n",
    "    ],\n",
    "    colors=[\n",
    "        'blue',\n",
    "        'orange',\n",
    "        'green',\n",
    "        'grey',\n",
    "    ],\n",
    "    #matrix=fwd_prob_mat_df,\n",
    "    controls=controls,\n",
    ")\n",
    "\n",
    "show(app)\n"
   ]
  },
  {
   "cell_type": "code",
   "execution_count": null,
   "id": "caf1096d",
   "metadata": {},
   "outputs": [],
   "source": []
  }
 ],
 "metadata": {
  "kernelspec": {
   "display_name": "Python 3 (ipykernel)",
   "language": "python",
   "name": "python3"
  },
  "language_info": {
   "codemirror_mode": {
    "name": "ipython",
    "version": 3
   },
   "file_extension": ".py",
   "mimetype": "text/x-python",
   "name": "python",
   "nbconvert_exporter": "python",
   "pygments_lexer": "ipython3",
   "version": "3.9.16"
  }
 },
 "nbformat": 4,
 "nbformat_minor": 5
}
