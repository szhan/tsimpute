{
 "cells": [
  {
   "cell_type": "code",
   "execution_count": 1,
   "id": "54ed4858",
   "metadata": {},
   "outputs": [],
   "source": [
    "import os\n",
    "\n",
    "import pandas as pd\n",
    "import numpy as np\n",
    "from scipy import stats\n",
    "\n",
    "import seaborn as sns\n",
    "import matplotlib.pyplot as plt\n",
    "sns.set_theme(style=\"whitegrid\")"
   ]
  },
  {
   "cell_type": "code",
   "execution_count": 16,
   "id": "9406c35a",
   "metadata": {},
   "outputs": [],
   "source": [
    "in_prefix = \"ten_ceu_ceu_t0_p90\"\n",
    "\n",
    "num_reps = 100\n",
    "metric = \"iqs\"\n",
    "\n",
    "max_maf = 0.01\n",
    "\n",
    "out_file = \".\".join([in_prefix, metric, \"m\" + str(int(max_maf * 100)), \"png\"])"
   ]
  },
  {
   "cell_type": "code",
   "execution_count": 17,
   "id": "2ffb06c9",
   "metadata": {},
   "outputs": [],
   "source": [
    "base_dir = \"/Users/szhan/Projects/tsimpute/analysis/genealogy_only/\"\n",
    "\n",
    "results = None\n",
    "scores = []\n",
    "\n",
    "for i in np.arange(1, num_reps + 1):\n",
    "    # i1.csv_1.csv\n",
    "    in_file = base_dir + in_prefix + \"/\"\n",
    "    in_file += \"i\" + str(i) + \".csv\" + \"_\" + str(i) + \".csv\"\n",
    "    \n",
    "    if os.path.exists(in_file):\n",
    "        df = pd.read_csv(in_file, skiprows=20)\n",
    "        df = df[[\"maf\", metric]].dropna(axis=0)\n",
    "        scores.append(np.mean(df[metric]))\n",
    "        results = df if results is None else pd.concat([results, df])\n",
    "    else:\n",
    "        print(f\"Not found {in_file}\")"
   ]
  },
  {
   "cell_type": "code",
   "execution_count": null,
   "id": "ac40306f",
   "metadata": {},
   "outputs": [],
   "source": [
    "values = np.vstack([results[\"maf\"], results[metric]])\n",
    "kernel = stats.gaussian_kde(values)\n",
    "x = kernel(np.vstack([results[\"maf\"], results[metric]]))"
   ]
  },
  {
   "cell_type": "code",
   "execution_count": null,
   "id": "fc47d065",
   "metadata": {},
   "outputs": [],
   "source": [
    "fig, ax = plt.subplots(figsize=(10, 10))\n",
    "\n",
    "ax.set_title(\n",
    "    f\"MAF 0.00 to {max_maf}\",\n",
    "    size=\"xx-large\"\n",
    ")\n",
    "\n",
    "ax.set_xlim([0, max_maf])\n",
    "\n",
    "ax.set_ylabel(metric.upper(), size=\"xx-large\")\n",
    "ax.set_xlabel(\"MAF\", size=\"xx-large\")\n",
    "\n",
    "g = sns.scatterplot(\n",
    "    y=metric,\n",
    "    x=\"maf\",\n",
    "    data=results,\n",
    "    c=x,\n",
    "    cmap=\"viridis\",\n",
    "    x_jitter=True,\n",
    "    ax=ax\n",
    ");\n",
    "\n",
    "g.get_figure().savefig(out_file)"
   ]
  },
  {
   "cell_type": "code",
   "execution_count": null,
   "id": "a79d53ab",
   "metadata": {},
   "outputs": [],
   "source": []
  }
 ],
 "metadata": {
  "kernelspec": {
   "display_name": "Python 3 (ipykernel)",
   "language": "python",
   "name": "python3"
  },
  "language_info": {
   "codemirror_mode": {
    "name": "ipython",
    "version": 3
   },
   "file_extension": ".py",
   "mimetype": "text/x-python",
   "name": "python",
   "nbconvert_exporter": "python",
   "pygments_lexer": "ipython3",
   "version": "3.8.12"
  }
 },
 "nbformat": 4,
 "nbformat_minor": 5
}
