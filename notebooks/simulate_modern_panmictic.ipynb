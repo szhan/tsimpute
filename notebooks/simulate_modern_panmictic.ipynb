{
 "cells": [
  {
   "cell_type": "code",
   "execution_count": 1,
   "id": "9cd850b8",
   "metadata": {},
   "outputs": [],
   "source": [
    "import tskit\n",
    "import msprime\n",
    "import time"
   ]
  },
  {
   "cell_type": "markdown",
   "id": "ea99b48e",
   "metadata": {},
   "source": [
    "### Simulate ancestry and mutations along the ancestry for chr20 using human-like parameters, assuming a panmictic population (Ne = 10,000)"
   ]
  },
  {
   "cell_type": "code",
   "execution_count": 2,
   "id": "98a63cd4",
   "metadata": {},
   "outputs": [],
   "source": [
    "# Set msprime simulation parameters\n",
    "full_cohort_size = 20_000\n",
    "ploidy_level = 2\n",
    "eff_pop_size = 10_000"
   ]
  },
  {
   "cell_type": "code",
   "execution_count": 3,
   "id": "cd02107e",
   "metadata": {},
   "outputs": [],
   "source": [
    "# Set the recombination map to the HapMap Phase II map.\n",
    "# The map was downloaded from https://ftp.ncbi.nlm.nih.gov/hapmap/recombination/2011-01_phaseII_B37/\n",
    "# \n",
    "# Notes:\n",
    "# 1. 'sequence_length' is automatically set to the end coordinate in the HapMap file.\n",
    "# 2. The default map is \"flat\", i.e., the recombination rate is uniform along the entire genome.\n",
    "rate_map = msprime.RateMap.read_hapmap(\n",
    "    fileobj = \"../hapmap/genetic_map_GRCh37_chr20_reduced.txt\"\n",
    ")"
   ]
  },
  {
   "cell_type": "code",
   "execution_count": 4,
   "id": "9dba5cd0",
   "metadata": {},
   "outputs": [
    {
     "name": "stderr",
     "output_type": "stream",
     "text": [
      "The provenance information for the resulting tree sequence is 2.76MB. This is nothing to worry about as provenance is a good thing to have, but if you want to save this memory/storage space you can disable provenance recording by setting record_provenance=False\n"
     ]
    },
    {
     "name": "stdout",
     "output_type": "stream",
     "text": [
      "Simulating ancestry and mutations took 60 seconds.\n"
     ]
    }
   ],
   "source": [
    "# Simulate a tree sequence that contains both the ancestry and mutations along the ancestry.\n",
    "# \n",
    "# Notes:\n",
    "# 1. In humans, the genome-wide recombination rate and mutation rate are roughly equal (~1e-8).\n",
    "# 2. The Hudson coalescent approximates the discrete-time Wright-Fisher model.\n",
    "# \n",
    "# Simulate only geneaological trees\n",
    "tic = time.time()\n",
    "\n",
    "ts = msprime.sim_ancestry(\n",
    "    samples = full_cohort_size, # i.e., individuals\n",
    "    population_size = eff_pop_size, # effective population size\n",
    "    ploidy = ploidy_level,\n",
    "    model = \"hudson\",\n",
    "    recombination_rate = rate_map,\n",
    "    \n",
    ")\n",
    "\n",
    "# Simulate mutations along the trees in the tree sequence\n",
    "mts = msprime.sim_mutations(\n",
    "    ts,\n",
    "    rate = 1e-8 # human-like genome-wide mutation rate\n",
    ")\n",
    "\n",
    "toc = time.time()\n",
    "print(f\"Simulating ancestry and mutations took {round(toc - tic)} seconds.\")"
   ]
  },
  {
   "cell_type": "code",
   "execution_count": 5,
   "id": "090defab",
   "metadata": {},
   "outputs": [
    {
     "name": "stdout",
     "output_type": "stream",
     "text": [
      "Number of individuals of 2x ploidy is 20000.\n",
      "Number of sample nodes is 40000.\n",
      "Number of all nodes is 371730.\n",
      "Number of trees in the tree sequence is 438836.\n",
      "Number of mutations before mutation simulation is 0.\n",
      "Number of mutations after  mutation simulation is 281568.\n",
      "Number of sites with genetic variation before mutation simulation is 0.\n",
      "Number of sites with genetic variation after mutation simulation  is 280901.\n",
      "Number of bytes to store the tree sequence without mutations is 86.381855.\n",
      "Number of bytes to store the tree sequence with mutations is 103.823137.\n"
     ]
    }
   ],
   "source": [
    "# Check the tree sequences\n",
    "print(f\"Number of individuals of {ploidy_level}x ploidy is {ts.num_individuals}.\")\n",
    "print(f\"Number of sample nodes is {ts.num_samples}.\")\n",
    "print(f\"Number of all nodes is {ts.num_nodes}.\")\n",
    "# ts.num_nodes - ts.num_samples equal the number of non-sample nodes\n",
    "print(f\"Number of trees in the tree sequence is {ts.num_trees}.\")\n",
    "\n",
    "print(f\"Number of mutations before mutation simulation is {ts.num_mutations}.\")\n",
    "print(f\"Number of mutations after  mutation simulation is {mts.num_mutations}.\")\n",
    "\n",
    "print(f\"Number of sites with genetic variation before mutation simulation is {ts.num_sites}.\")\n",
    "print(f\"Number of sites with genetic variation after mutation simulation  is {mts.num_sites}.\")\n",
    "\n",
    "print(f\"Number of bytes to store the tree sequence without mutations is {ts.nbytes / 1e6}.\")\n",
    "print(f\"Number of bytes to store the tree sequence with mutations is {mts.nbytes / 1e6}.\")"
   ]
  },
  {
   "cell_type": "code",
   "execution_count": 6,
   "id": "e259e464",
   "metadata": {},
   "outputs": [],
   "source": [
    "# Store the simulated tree sequence\n",
    "mts_file = \"./data/simulated_tree_sequences/simulated_source_panmictic.trees\"\n",
    "mts.dump(mts_file)"
   ]
  },
  {
   "cell_type": "code",
   "execution_count": null,
   "id": "27dae333",
   "metadata": {},
   "outputs": [],
   "source": []
  }
 ],
 "metadata": {
  "kernelspec": {
   "display_name": "Python 3 (ipykernel)",
   "language": "python",
   "name": "python3"
  },
  "language_info": {
   "codemirror_mode": {
    "name": "ipython",
    "version": 3
   },
   "file_extension": ".py",
   "mimetype": "text/x-python",
   "name": "python",
   "nbconvert_exporter": "python",
   "pygments_lexer": "ipython3",
   "version": "3.8.12"
  }
 },
 "nbformat": 4,
 "nbformat_minor": 5
}
