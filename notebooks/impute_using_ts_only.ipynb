{
 "cells": [
  {
   "cell_type": "code",
   "execution_count": 1,
   "id": "bfccae17",
   "metadata": {},
   "outputs": [
    {
     "name": "stdout",
     "output_type": "stream",
     "text": [
      "tskit 0.5.2.dev0\n",
      "tsinfer 0.2.3\n",
      "msprime 1.1.1\n",
      "demes 0.2.1\n",
      "cyvcf2 0.30.14\n"
     ]
    }
   ],
   "source": [
    "import math\n",
    "import os\n",
    "import random\n",
    "import sys\n",
    "import time\n",
    "\n",
    "import gzip\n",
    "\n",
    "import numpy as np\n",
    "\n",
    "import msprime\n",
    "import tskit\n",
    "import tsinfer\n",
    "from tsinfer import make_ancestors_ts\n",
    "\n",
    "import cyvcf2\n",
    "import demes\n",
    "import demesdraw\n",
    "\n",
    "print(f\"tskit {tskit.__version__}\")\n",
    "print(f\"tsinfer {tsinfer.__version__}\")\n",
    "print(f\"msprime {msprime.__version__}\")\n",
    "print(f\"demes {demes.__version__}\")\n",
    "print(f\"cyvcf2 {cyvcf2.__version__}\")"
   ]
  },
  {
   "cell_type": "markdown",
   "id": "e72c0a99",
   "metadata": {},
   "source": [
    "### Helper functions"
   ]
  },
  {
   "cell_type": "code",
   "execution_count": 18,
   "id": "2b5f8167",
   "metadata": {},
   "outputs": [],
   "source": [
    "def count_sites_by_type(ts_or_sd):\n",
    "    \"\"\"\n",
    "    Take a tree sequence or sample data,\n",
    "    because those two types of objects have a .variant() function.\n",
    "    \"\"\"\n",
    "    sites_mono = 0\n",
    "    sites_bi = 0\n",
    "    sites_bi_singleton = 0\n",
    "    sites_tri = 0\n",
    "    sites_quad = 0\n",
    "    \n",
    "    for v in ts_or_sd.variants():\n",
    "        num_alleles = len(set(v.alleles) - {None})\n",
    "        if num_alleles == 1:\n",
    "            sites_mono += 1\n",
    "        elif num_alleles == 2:\n",
    "            sites_bi += 1\n",
    "            if np.sum(v.genotypes) == 1:\n",
    "                sites_bi_singleton += 1\n",
    "        elif num_alleles == 3:\n",
    "            sites_tri += 1\n",
    "        else:\n",
    "            sites_quad += 1\n",
    "            \n",
    "    print(f\"\\tsites mono : {sites_mono}\")\n",
    "    print(f\"\\tsites bi   : {sites_bi} ({sites_bi_singleton} singletons)\")\n",
    "    print(f\"\\tsites tri  : {sites_tri}\")\n",
    "    print(f\"\\tsites quad : {sites_quad}\")\n",
    "    print(f\"\\tsites total: {sites_mono + sites_bi + sites_tri + sites_quad}\")\n",
    "    \n",
    "    return None"
   ]
  },
  {
   "cell_type": "markdown",
   "id": "97d141a7",
   "metadata": {},
   "source": [
    "### Simulation parameters"
   ]
  },
  {
   "cell_type": "code",
   "execution_count": 3,
   "id": "abd9bc2d",
   "metadata": {},
   "outputs": [],
   "source": [
    "replicate_index = 0\n",
    "\n",
    "sampling_time_query = 100\n",
    "\n",
    "proportion_missing_sites = 0.80"
   ]
  },
  {
   "cell_type": "markdown",
   "id": "5ee82bff",
   "metadata": {},
   "source": [
    "### Simulate genealogy and genetic variation"
   ]
  },
  {
   "cell_type": "code",
   "execution_count": 4,
   "id": "fcfdd437",
   "metadata": {},
   "outputs": [],
   "source": [
    "# For simulations\n",
    "# size_ref   = 1e4\n",
    "# size_query = 1e3\n",
    "\n",
    "# eff_pop_size = 10_000\n",
    "# mutation_rate = 1e-8\n",
    "# recombination_rate = 1e-8\n",
    "\n",
    "# contig_id = '1'\n",
    "# ploidy_level = 1\n",
    "# sequence_length = 1_000_000"
   ]
  },
  {
   "cell_type": "code",
   "execution_count": 5,
   "id": "f6a9ce12",
   "metadata": {},
   "outputs": [],
   "source": [
    "# For testing\n",
    "size_ref   = 5\n",
    "size_query = 5\n",
    "\n",
    "eff_pop_size = 10_000\n",
    "mutation_rate = 1e-6\n",
    "recombination_rate = 1e-7\n",
    "\n",
    "contig_id = '1'\n",
    "ploidy_level = 1\n",
    "sequence_length = 10_000"
   ]
  },
  {
   "cell_type": "code",
   "execution_count": 6,
   "id": "ab44e381",
   "metadata": {},
   "outputs": [],
   "source": [
    "# Uniform recombination rate\n",
    "recomb_rate_map = msprime.RateMap.uniform(\n",
    "    sequence_length=sequence_length,\n",
    "    rate=recombination_rate,\n",
    ")\n",
    "\n",
    "# Uniform mutation rate\n",
    "mut_rate_map = msprime.RateMap.uniform(\n",
    "    sequence_length=sequence_length,\n",
    "    rate=mutation_rate,\n",
    ")"
   ]
  },
  {
   "cell_type": "code",
   "execution_count": 7,
   "id": "1fa1ef99",
   "metadata": {},
   "outputs": [],
   "source": [
    "sample_set = [\n",
    "    # Reference genomes\n",
    "    msprime.SampleSet(num_samples=size_ref,\n",
    "                      time=0,\n",
    "                      ploidy=ploidy_level),\n",
    "    # Query genomes\n",
    "    msprime.SampleSet(num_samples=size_query,\n",
    "                      time=sampling_time_query,\n",
    "                      ploidy=ploidy_level),\n",
    "]"
   ]
  },
  {
   "cell_type": "code",
   "execution_count": 19,
   "id": "66ebc2f0",
   "metadata": {},
   "outputs": [
    {
     "name": "stdout",
     "output_type": "stream",
     "text": [
      "TS full\n",
      "\tsites mono : 0\n",
      "\tsites bi   : 996 (376 singletons)\n",
      "\tsites tri  : 47\n",
      "\tsites quad : 0\n",
      "\tsites total: 1043\n"
     ]
    }
   ],
   "source": [
    "# A simulated tree sequence does not contain any monoallelic sites,\n",
    "# but there may be multiallelic sites.\n",
    "ts_full = msprime.sim_mutations(\n",
    "    msprime.sim_ancestry(\n",
    "        samples=sample_set,\n",
    "        population_size=eff_pop_size,\n",
    "        model=\"hudson\",\n",
    "        recombination_rate=recomb_rate_map,\n",
    "        discrete_genome=True,\n",
    "        random_seed=123,\n",
    "    ),\n",
    "    rate=mut_rate_map,\n",
    "    discrete_genome=True,\n",
    "    random_seed=123,\n",
    ")\n",
    "\n",
    "# Remove populations\n",
    "tables = ts_full.dump_tables()\n",
    "tables.populations.clear()\n",
    "tables.nodes.population = np.full_like(tables.nodes.population, tskit.NULL)\n",
    "ts_full = tables.tree_sequence()\n",
    "\n",
    "print(\"TS full\")\n",
    "count_sites_by_type(ts_full)"
   ]
  },
  {
   "cell_type": "code",
   "execution_count": 9,
   "id": "376e22a9",
   "metadata": {},
   "outputs": [],
   "source": [
    "individuals_ref = np.arange(size_ref, dtype=int)\n",
    "samples_ref = np.arange(ploidy_level * size_ref, dtype=int)\n",
    "\n",
    "individuals_query = np.arange(size_ref, size_ref + size_query, dtype=int)\n",
    "samples_query = np.arange(ploidy_level * size_ref, ploidy_level * (size_ref + size_query), dtype=int)"
   ]
  },
  {
   "cell_type": "markdown",
   "id": "e1f070b0",
   "metadata": {},
   "source": [
    "### Create an ancestor ts from the reference genomes"
   ]
  },
  {
   "cell_type": "code",
   "execution_count": 20,
   "id": "4a50b3bf",
   "metadata": {},
   "outputs": [
    {
     "name": "stdout",
     "output_type": "stream",
     "text": [
      "TS ref has 5 sample genomes (10000.0 bp)\n",
      "TS ref has 1043 sites and 80 trees\n",
      "TS ref\n",
      "\tsites mono : 180\n",
      "\tsites bi   : 826 (356 singletons)\n",
      "\tsites tri  : 37\n",
      "\tsites quad : 0\n",
      "\tsites total: 1043\n"
     ]
    }
   ],
   "source": [
    "# Remove all the branches leading to the query genomes\n",
    "ts_ref = ts_full.simplify(samples_ref, filter_sites=False)\n",
    "\n",
    "print(f\"TS ref has {ts_ref.num_samples} sample genomes ({ts_ref.sequence_length} bp)\")\n",
    "print(f\"TS ref has {ts_ref.num_sites} sites and {ts_ref.num_trees} trees\")\n",
    "print(\"TS ref\")\n",
    "count_sites_by_type(ts_ref)"
   ]
  },
  {
   "cell_type": "code",
   "execution_count": 21,
   "id": "b06cf0f7",
   "metadata": {},
   "outputs": [
    {
     "name": "stdout",
     "output_type": "stream",
     "text": [
      "TS anc has 59 sample genomes (10000.0 bp)\n",
      "TS anc has 455 sites and 65 trees\n",
      "TS anc\n",
      "\tsites mono : 0\n",
      "\tsites bi   : 455 (0 singletons)\n",
      "\tsites tri  : 0\n",
      "\tsites quad : 0\n",
      "\tsites total: 455\n"
     ]
    }
   ],
   "source": [
    "# Multiallelic sites are automatically removed when generating an ancestor ts.\n",
    "# Sites which are biallelic in the full sample set but monoallelic in the ref. sample set are removed.\n",
    "# So, only biallelic sites are retained in the ancestor ts.\n",
    "ts_anc = make_ancestors_ts(ts=ts_ref, remove_leaves=True, samples=None)\n",
    "\n",
    "print(f\"TS anc has {ts_anc.num_samples} sample genomes ({ts_anc.sequence_length} bp)\")\n",
    "print(f\"TS anc has {ts_anc.num_sites} sites and {ts_anc.num_trees} trees\")\n",
    "print(\"TS anc\")\n",
    "count_sites_by_type(ts_anc)"
   ]
  },
  {
   "cell_type": "markdown",
   "id": "c198e49f",
   "metadata": {},
   "source": [
    "### Create a SampleData object holding the query genomes "
   ]
  },
  {
   "cell_type": "code",
   "execution_count": 22,
   "id": "1551a140",
   "metadata": {},
   "outputs": [
    {
     "name": "stdout",
     "output_type": "stream",
     "text": [
      "SD query has 5 sample genomes (10000.0 bp)\n",
      "SD query has 1043 sites\n",
      "SD query\n",
      "\tsites mono : 0\n",
      "\tsites bi   : 996 (202 singletons)\n",
      "\tsites tri  : 47\n",
      "\tsites quad : 0\n",
      "\tsites total: 1043\n"
     ]
    }
   ],
   "source": [
    "sd_full = tsinfer.SampleData.from_tree_sequence(ts_full)\n",
    "sd_query = sd_full.subset(individuals_query)\n",
    "\n",
    "print(f\"SD query has {sd_query.num_samples} sample genomes ({sd_query.sequence_length} bp)\")\n",
    "print(f\"SD query has {sd_query.num_sites} sites\")\n",
    "print(\"SD query\")\n",
    "count_sites_by_type(sd_query)"
   ]
  },
  {
   "cell_type": "code",
   "execution_count": 40,
   "id": "ba8d08c2",
   "metadata": {},
   "outputs": [],
   "source": [
    "def make_compatible_sample_data(sample_data, ancestors_ts):\n",
    "    \"\"\"\n",
    "    Make an editable copy of SD query, and edit it so that:\n",
    "    (1) the derived alleles in the original SD query not found in TS anc are marked as MISSING; and\n",
    "    (2) the allele list in the new SD query corresponds to the allele list in TS anc.\n",
    "    \n",
    "    N.B.\n",
    "      Two SampleData attributes sites_alleles and sites_genotypes,\n",
    "      which are not explained in the tsinfer API doc,\n",
    "      are used to facilitate the editing.\n",
    "    \"\"\"\n",
    "    \n",
    "    new_sample_data = sample_data.copy()\n",
    "    sd_variants = sample_data.variants()\n",
    "    \n",
    "    # Iterate through the sites in the TS anc using one generator,\n",
    "    # while iterating through the sites in the SD query using another generator,\n",
    "    # letting the latter generator catch up.\n",
    "    sd_var = next(sd_variants)\n",
    "    for ref_site in ancestors_ts.sites():\n",
    "        while sd_var.site.position != ref_site.position:\n",
    "            # Sites found in SD query but not in TS anc are not imputed.\n",
    "            # Also, leave them as is in the SD query.\n",
    "            sd_var = next(sd_variants)\n",
    "            \n",
    "        site_id = sd_var.site.id # Site id in SD query\n",
    "        assert len(ref_site.alleles) == 2 # Must be biallelic in TS anc\n",
    "        \n",
    "        # Get the derived allele in TS anc in nucleotide space\n",
    "        derived_allele = ref_site.alleles - {ref_site.ancestral_state}\n",
    "        #assert len(derived_allele) == 1\n",
    "        derived_allele = tuple(derived_allele)[0]\n",
    "\n",
    "        # Ancestral allele should be the same in TS anc and SD query,\n",
    "        # and it is at index 0 in allele list in both.\n",
    "        assert ref_site.ancestral_state == sd_var.alleles[0]\n",
    "        \n",
    "        if derived_allele not in sd_var.alleles:\n",
    "            # Case 1:\n",
    "            #   If the derived alleles in the SD query are not found in TS anc,\n",
    "            #   then mark them as missing.\n",
    "            # \n",
    "            #   We cannot determine whether the extra derived alleles in SD query\n",
    "            #   are derived from 0 or 1 in TS anc anyway.\n",
    "            # \n",
    "            new_sample_data.sites_genotypes[site_id] = np.where(\n",
    "                sd_var.genotypes != 0, # Keep if ancestral\n",
    "                tskit.MISSING_DATA, # Otherwise, flag as missing\n",
    "                0,\n",
    "            )\n",
    "            print(\"Site\", site_id, \"has no matching derived alleles in the query set\")\n",
    "            \n",
    "            # Make sure the allele list in SD query reflects above.\n",
    "            new_sample_data.sites_alleles[site_id] = [ref_site.ancestral_state]\n",
    "        else:\n",
    "            # The allele lists in TS anc and SD query may be different.\n",
    "            derived_allele_index = sd_var.alleles.index(derived_allele)\n",
    "            \n",
    "            if derived_allele_index == 1:\n",
    "                # Case 2:\n",
    "                #   Both the ancestral and derived alleles correspond exactly\n",
    "                #   in TS anc and SD query.\n",
    "                if len(sd_var.alleles) == 2:\n",
    "                    continue\n",
    "                    \n",
    "                # Case 3:\n",
    "                #   The derived allele in TS anc is indexed as 1 in SD query,\n",
    "                #   so mark alleles >= 2 as missing.\n",
    "                new_sample_data.sites_genotypes[site_id] = np.where(\n",
    "                    sd_var.genotypes > 1, # Anything 0 or 1 should be retained as is\n",
    "                    tskit.MISSING_DATA, # Otherwise, flag as missing\n",
    "                    sd_var.genotypes,\n",
    "                )\n",
    "                print(\"Site\", site_id, \"has extra derived alleles in the query set, which have been set as missing\")\n",
    "            else:\n",
    "                # Case 4:\n",
    "                #   The derived allele in TS anc is NOT indexed as 1 in SD query,\n",
    "                #   so the alleles in SD query needs to be reordered,\n",
    "                #   such that the indexed-1 allele is also indexed as 1 in TS anc.\n",
    "                new_sample_data.sites_genotypes[site_id] = np.where(\n",
    "                    sd_var.genotypes == 0, # Leave ancestral allele as is\n",
    "                    0,\n",
    "                    np.where(\n",
    "                        sd_var.genotypes == derived_allele_index,\n",
    "                        1, # Change it to 1 so that it corresponds to TS anc\n",
    "                        tskit.MISSING_DATA # Otherwise, it is not found in TS anc so mark as missing\n",
    "                    )\n",
    "                )\n",
    "                print(\"Site\", site_id, \"has the target derived allele at a different index\")\n",
    "                \n",
    "            # Make sure the allele list in SD query reflects above.\n",
    "            new_sample_data.sites_alleles[site_id] = [ref_site.ancestral_state, derived_allele]\n",
    "            \n",
    "    new_sample_data.finalise()\n",
    "    \n",
    "    return(new_sample_data)"
   ]
  },
  {
   "cell_type": "code",
   "execution_count": 41,
   "id": "9b01fe2b",
   "metadata": {},
   "outputs": [
    {
     "name": "stdout",
     "output_type": "stream",
     "text": [
      "Site 57 has extra derived alleles in the query set, which have been set as missing\n",
      "Site 569 has extra derived alleles in the query set, which have been set as missing\n",
      "Site 663 has extra derived alleles in the query set, which have been set as missing\n",
      "Site 834 has the target derived allele at a different index\n"
     ]
    }
   ],
   "source": [
    "new_sd_query = make_compatible_sample_data(\n",
    "    sample_data=sd_query,\n",
    "    ancestors_ts=ts_anc,\n",
    ")"
   ]
  },
  {
   "cell_type": "code",
   "execution_count": 42,
   "id": "d3b7556c",
   "metadata": {
    "scrolled": true
   },
   "outputs": [],
   "source": [
    "# Check that matching works.\n",
    "ts_matched = tsinfer.match_samples(\n",
    "    sample_data=new_sd_query,\n",
    "    ancestors_ts=ts_anc,\n",
    ")"
   ]
  },
  {
   "cell_type": "markdown",
   "id": "5b286eed",
   "metadata": {},
   "source": [
    "### Create a SampleData object with masked sites"
   ]
  },
  {
   "cell_type": "code",
   "execution_count": 45,
   "id": "bfd35e23",
   "metadata": {},
   "outputs": [],
   "source": [
    "def sample_sites(sample_data, proportion_missing_sites):\n",
    "    \"\"\"\n",
    "    Draw N sites stored in a SampleData object at random\n",
    "    by site id, where N is the number of sites to mask\n",
    "    based on a specified proportion of missing sites.\n",
    "    \n",
    "    TODO: Specify random seed.\n",
    "    \n",
    "    :param sample_data: SampleData object\n",
    "    :param proportion_missing_sites: float between 0 and 1\n",
    "    :return: list of site ids\n",
    "    \"\"\"\n",
    "    assert proportion_missing_sites >= 0 and proportion_missing_sites <= 1, \\\n",
    "        \"Proportion of missing sites must be between 0 and 1.\"\n",
    "    \n",
    "    num_masked_sites = int(np.floor(sample_data.num_sites * proportion_missing_sites))\n",
    "    \n",
    "    masked_site_ids = np.sort(\n",
    "        np.random.choice(\n",
    "            np.arange(sample_data.num_sites),\n",
    "            num_masked_sites,\n",
    "            replace=False,\n",
    "        )\n",
    "    )\n",
    "    \n",
    "    return(masked_site_ids)"
   ]
  },
  {
   "cell_type": "code",
   "execution_count": 46,
   "id": "66192602",
   "metadata": {},
   "outputs": [],
   "source": [
    "def mask_sites_in_sample_data(sample_data, masked_sites=None):\n",
    "    \"\"\"\n",
    "    Create and return a SampleData object from an existing SampleData object,\n",
    "    which contain masked sites as listed in masked_sites (site ids).\n",
    "    \n",
    "    :param sample_data: SampleData object\n",
    "    :param masked_sites: list of site ids (NOT positions)\n",
    "    :return: SampleData object\n",
    "    \"\"\"\n",
    "    new_sample_data = sample_data.copy()\n",
    "    \n",
    "    for v in sample_data.variants():\n",
    "        if v.site.id in masked_sites:\n",
    "            new_sample_data.sites_genotypes[v.site.id] = np.full_like(v.genotypes, tskit.MISSING_DATA)\n",
    "    \n",
    "    new_sample_data.finalise()\n",
    "    \n",
    "    return(new_sample_data)"
   ]
  },
  {
   "cell_type": "code",
   "execution_count": 47,
   "id": "1f4619fb",
   "metadata": {},
   "outputs": [],
   "source": [
    "masked_site_ids = sample_sites(sd_query, proportion_missing_sites)\n",
    "\n",
    "sd_query_masked = mask_sites_in_sample_data(\n",
    "    new_sd_query,\n",
    "    masked_sites=masked_site_ids,\n",
    ")"
   ]
  },
  {
   "cell_type": "markdown",
   "id": "5de37c9c",
   "metadata": {},
   "source": [
    "### Impute the query genomes"
   ]
  },
  {
   "cell_type": "code",
   "execution_count": 48,
   "id": "126d79fc",
   "metadata": {},
   "outputs": [],
   "source": [
    "ts_imputed = tsinfer.match_samples(\n",
    "    sample_data=sd_query_masked,\n",
    "    ancestors_ts=ts_anc,\n",
    ")"
   ]
  },
  {
   "cell_type": "markdown",
   "id": "71dc3d01",
   "metadata": {},
   "source": [
    "### Write VCF"
   ]
  },
  {
   "cell_type": "code",
   "execution_count": 21,
   "id": "bdbea55c",
   "metadata": {},
   "outputs": [],
   "source": [
    "ref_vcf_file = \".\".join([\"ref\", str(replicate_index), \"vcf\", \"gz\"])\n",
    "\n",
    "query_true_vcf_file = \".\".join([\"query_true\", str(replicate_index), \"vcf\", \"gz\"])\n",
    "query_miss_vcf_file = \".\".join([\"query_miss\", str(replicate_index), \"vcf\", \"gz\"])\n",
    "\n",
    "imputed_vcf_file = \".\".join([\"imputed\", str(replicate_index), \"vcf\", \"gz\"])"
   ]
  },
  {
   "cell_type": "code",
   "execution_count": 22,
   "id": "bbaec761",
   "metadata": {},
   "outputs": [],
   "source": [
    "with gzip.open(ref_vcf_file, \"wt\") as f:\n",
    "    ts_ref.write_vcf(f)"
   ]
  },
  {
   "cell_type": "code",
   "execution_count": 36,
   "id": "66f4307e",
   "metadata": {},
   "outputs": [],
   "source": [
    "# TODO:\n",
    "#   Write VCF from SD query\n",
    "#   Write VCF from SD query masked"
   ]
  },
  {
   "cell_type": "code",
   "execution_count": 29,
   "id": "ef838056",
   "metadata": {},
   "outputs": [],
   "source": [
    "with gzip.open(imputed_vcf_file, \"wt\") as f:\n",
    "    ts_imputed.write_vcf(f)"
   ]
  },
  {
   "cell_type": "code",
   "execution_count": null,
   "id": "a1213d7c",
   "metadata": {},
   "outputs": [],
   "source": []
  }
 ],
 "metadata": {
  "kernelspec": {
   "display_name": "Python 3 (ipykernel)",
   "language": "python",
   "name": "python3"
  },
  "language_info": {
   "codemirror_mode": {
    "name": "ipython",
    "version": 3
   },
   "file_extension": ".py",
   "mimetype": "text/x-python",
   "name": "python",
   "nbconvert_exporter": "python",
   "pygments_lexer": "ipython3",
   "version": "3.8.12"
  }
 },
 "nbformat": 4,
 "nbformat_minor": 5
}
