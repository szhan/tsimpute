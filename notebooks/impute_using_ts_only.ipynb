{
 "cells": [
  {
   "cell_type": "code",
   "execution_count": 1,
   "id": "bfccae17",
   "metadata": {},
   "outputs": [
    {
     "name": "stdout",
     "output_type": "stream",
     "text": [
      "tskit 0.5.0\n",
      "tsinfer 0.2.3\n",
      "msprime 1.1.1\n",
      "demes 0.2.1\n",
      "cyvcf2 0.30.14\n"
     ]
    }
   ],
   "source": [
    "import math\n",
    "import os\n",
    "import random\n",
    "import sys\n",
    "import time\n",
    "\n",
    "import gzip\n",
    "\n",
    "import numpy as np\n",
    "\n",
    "import msprime\n",
    "import tskit\n",
    "import tsinfer\n",
    "from tsinfer import make_ancestors_ts\n",
    "\n",
    "import cyvcf2\n",
    "import demes\n",
    "import demesdraw\n",
    "\n",
    "print(f\"tskit {tskit.__version__}\")\n",
    "print(f\"tsinfer {tsinfer.__version__}\")\n",
    "print(f\"msprime {msprime.__version__}\")\n",
    "print(f\"demes {demes.__version__}\")\n",
    "print(f\"cyvcf2 {cyvcf2.__version__}\")"
   ]
  },
  {
   "cell_type": "markdown",
   "id": "97d141a7",
   "metadata": {},
   "source": [
    "### Simulation parameters"
   ]
  },
  {
   "cell_type": "code",
   "execution_count": 2,
   "id": "abd9bc2d",
   "metadata": {},
   "outputs": [],
   "source": [
    "replicate_index = 0\n",
    "\n",
    "sampling_time_query = 100\n",
    "\n",
    "proportion_missing_sites = 0.80"
   ]
  },
  {
   "cell_type": "markdown",
   "id": "5ee82bff",
   "metadata": {},
   "source": [
    "### Simulate genealogy and genetic variation"
   ]
  },
  {
   "cell_type": "code",
   "execution_count": 3,
   "id": "fcfdd437",
   "metadata": {},
   "outputs": [],
   "source": [
    "size_query = 100\n",
    "size_ref   = 1_000\n",
    "\n",
    "eff_pop_size = 10_000\n",
    "mutation_rate = 1e-8\n",
    "recombination_rate = 1e-8\n",
    "\n",
    "contig_id = '1'\n",
    "ploidy_level = 1 # Haploid genomes\n",
    "sequence_length = 1_000_000 # 1 Mbp"
   ]
  },
  {
   "cell_type": "code",
   "execution_count": 4,
   "id": "ab44e381",
   "metadata": {},
   "outputs": [],
   "source": [
    "# Uniform recombination rate\n",
    "recomb_rate_map = msprime.RateMap.uniform(\n",
    "    sequence_length=sequence_length,\n",
    "    rate=recombination_rate,\n",
    ")\n",
    "\n",
    "# Uniform mutation rate\n",
    "mut_rate_map = msprime.RateMap.uniform(\n",
    "    sequence_length=sequence_length,\n",
    "    rate=mutation_rate,\n",
    ")"
   ]
  },
  {
   "cell_type": "code",
   "execution_count": 5,
   "id": "1fa1ef99",
   "metadata": {},
   "outputs": [],
   "source": [
    "sample_set = [\n",
    "    # Query genomes\n",
    "    msprime.SampleSet(num_samples=size_query,\n",
    "                      time=sampling_time_query,\n",
    "                      ploidy=ploidy_level),\n",
    "    # Reference panel\n",
    "    msprime.SampleSet(num_samples=size_ref,\n",
    "                      time=0,\n",
    "                      ploidy=ploidy_level),\n",
    "]"
   ]
  },
  {
   "cell_type": "code",
   "execution_count": 6,
   "id": "66ebc2f0",
   "metadata": {},
   "outputs": [],
   "source": [
    "# A simulated tree sequence does not contain any monoallelic sites,\n",
    "# but there may be multiallelic sites.\n",
    "ts_full = msprime.sim_mutations(\n",
    "    msprime.sim_ancestry(\n",
    "        samples=sample_set,\n",
    "        population_size=eff_pop_size,\n",
    "        model=\"hudson\",\n",
    "        recombination_rate=recomb_rate_map,\n",
    "        discrete_genome=True,\n",
    "    ),\n",
    "    rate=mut_rate_map,\n",
    "    discrete_genome=True,\n",
    ")"
   ]
  },
  {
   "cell_type": "code",
   "execution_count": 7,
   "id": "376e22a9",
   "metadata": {},
   "outputs": [],
   "source": [
    "individuals_query = np.arange(size_query, dtype=int)\n",
    "individual_names_query = [\"query_\" + str(i) for i in individuals_query]\n",
    "\n",
    "samples_query = np.arange(ploidy_level * size_query, dtype=int)"
   ]
  },
  {
   "cell_type": "code",
   "execution_count": 8,
   "id": "64b6402c",
   "metadata": {},
   "outputs": [],
   "source": [
    "individuals_ref = np.arange(size_query, size_query + size_ref, dtype=int)\n",
    "individual_names_ref = [\"ref_\" + str(i) for i in individuals_ref]\n",
    "\n",
    "samples_ref = np.arange(ploidy_level * size_query, ploidy_level * (size_query + size_ref), dtype=int)"
   ]
  },
  {
   "cell_type": "markdown",
   "id": "e1f070b0",
   "metadata": {},
   "source": [
    "### Match query genomes to an ancestor tree sequence"
   ]
  },
  {
   "cell_type": "code",
   "execution_count": 15,
   "id": "6c470dda",
   "metadata": {},
   "outputs": [],
   "source": [
    "def create_sample_data_from_tree_sequence(ts, skip_multiallelic_sites=False):\n",
    "    \"\"\"\n",
    "    Match samples in a SampleData object to an ancestors ts,\n",
    "    without the need to read from a VCF file.\n",
    "    \n",
    "    Optionally, skip multi-allelic sites.\n",
    "    \"\"\"\n",
    "    with tsinfer.SampleData(ts.sequence_length) as sample_data:\n",
    "        for variant in ts.variants():\n",
    "            if skip_multiallelic_sites and len(variant.alleles) > 2:\n",
    "                continue\n",
    "            sample_data.add_site(\n",
    "                position=variant.site.position,\n",
    "                genotypes=variant.genotypes,\n",
    "                alleles=variant.alleles,\n",
    "            )\n",
    "    return(sample_data)"
   ]
  },
  {
   "cell_type": "code",
   "execution_count": 16,
   "id": "1551a140",
   "metadata": {},
   "outputs": [],
   "source": [
    "# This step excludes sites that are multiallelic across the whole data set,\n",
    "# i.e. both the reference panel and query set combined.\n",
    "# It may exclude some sites that are biallelic in either the reference panel or query set.\n",
    "sd_full = create_sample_data_from_tree_sequence(ts_full, skip_multiallelic_sites=True)"
   ]
  },
  {
   "cell_type": "code",
   "execution_count": 17,
   "id": "65c028c9",
   "metadata": {},
   "outputs": [],
   "source": [
    "# Multiallelic sites are excluded.\n",
    "sd_query = sd_full.subset(individuals=individuals_query) # Used for matching"
   ]
  },
  {
   "cell_type": "code",
   "execution_count": 22,
   "id": "e831aff2",
   "metadata": {},
   "outputs": [],
   "source": [
    "# Multiallelic sites are included.\n",
    "ts_ref = ts_full.simplify(samples_ref, filter_sites=False) # Remove private branches"
   ]
  },
  {
   "cell_type": "code",
   "execution_count": 45,
   "id": "a92786fa",
   "metadata": {},
   "outputs": [],
   "source": [
    "# Multiallelic sites are automatically removed when generating an ancestor tree sequence.\n",
    "ts_anc = make_ancestors_ts(ts=ts_ref, remove_leaves=True, samples=None)\n",
    "\n",
    "# Identify sites unique to ts_anc but not in sd_query\n",
    "sites_ts_anc = set(ts_anc.tables.sites.position)\n",
    "sites_sd_query = set(list(sd_query.sites_position))\n",
    "site_positions_to_remove = list(sites_ts_anc.difference(sites_sd_query))\n",
    "site_ids_to_remove = [ts_anc.site(position=p).id for p in site_positions_to_remove]\n",
    "\n",
    "tmp_tables = ts_anc.dump_tables()\n",
    "tmp_tables.delete_sites(site_ids_to_remove) # Remove sites unique to ts_anc\n",
    "tmp_tables.individuals.clear()\n",
    "tmp_tables.populations.metadata_schema = tskit.MetadataSchema(schema=None)\n",
    "\n",
    "ts_anc = tmp_tables.tree_sequence() # Used for matching"
   ]
  },
  {
   "cell_type": "code",
   "execution_count": 46,
   "id": "d3b7556c",
   "metadata": {
    "scrolled": true
   },
   "outputs": [],
   "source": [
    "ts_matched = tsinfer.match_samples(sample_data=sd_query, ancestors_ts=ts_anc)"
   ]
  },
  {
   "cell_type": "code",
   "execution_count": 47,
   "id": "455bec45",
   "metadata": {},
   "outputs": [
    {
     "name": "stdout",
     "output_type": "stream",
     "text": [
      "SD whole   : 3054\n",
      "SD query   : 3054\n",
      "TS ref     : 3059\n",
      "TS anc     : 2549\n",
      "TS matched : 3054\n"
     ]
    }
   ],
   "source": [
    "print(f\"SD whole   : {sd_full.num_sites}\")\n",
    "print(f\"SD query   : {sd_query.num_sites}\")\n",
    "print(f\"TS ref     : {ts_ref.num_sites}\")\n",
    "print(f\"TS anc     : {ts_anc.num_sites}\")\n",
    "print(f\"TS matched : {ts_matched.num_sites}\")"
   ]
  },
  {
   "cell_type": "markdown",
   "id": "5b286eed",
   "metadata": {},
   "source": [
    "### Impute into query genomes from the ancestor tree sequence"
   ]
  },
  {
   "cell_type": "code",
   "execution_count": 85,
   "id": "bfd35e23",
   "metadata": {},
   "outputs": [],
   "source": [
    "def sample_sites(sample_data, proportion_missing_sites):\n",
    "    \"\"\"\n",
    "    Draw N sites stored in a SampleData object at random\n",
    "    by site id, where N is the number of sites to mask\n",
    "    based on a specified proportion of missing sites.\n",
    "    \n",
    "    Return a boolean array of size sample_data.num_sites,\n",
    "    where True indicates that the site is masked.\n",
    "    \n",
    "    TODO: Specify random seed.\n",
    "    \"\"\"\n",
    "    assert proportion_missing_sites >= 0 and proportion_missing_sites <= 1, \\\n",
    "        \"Proportion of missing sites must be between 0 and 1.\"\n",
    "    \n",
    "    num_masked_sites = int(np.floor(sample_data.num_sites * proportion_missing_sites))\n",
    "    \n",
    "    masked_site_ids = np.sort(\n",
    "        np.random.default_rng().integers(\n",
    "            low=0,\n",
    "            high=sample_data.num_sites,\n",
    "            size=num_masked_sites,\n",
    "        )\n",
    "    )\n",
    "    \n",
    "    masked_site_bool = np.zeros(sample_data.num_sites, dtype=bool)\n",
    "    masked_site_bool[masked_site_ids] = True\n",
    "    \n",
    "    return(masked_site_bool)"
   ]
  },
  {
   "cell_type": "code",
   "execution_count": 86,
   "id": "7a4913b1",
   "metadata": {},
   "outputs": [],
   "source": [
    "def mask_sites_in_sample_data(sample_data, sites_to_mask=None):\n",
    "    \"\"\"\n",
    "    Create a SampleData object from an existing SampleData object,\n",
    "    while masking specified sites listed in sites_to_mask (site ids).\n",
    "    \"\"\"\n",
    "    if sites_to_mask is None:\n",
    "        # By default, no site is masked\n",
    "        sites_to_mask = np.zeros(sample_data.num_sites, dtype=bool)\n",
    "    \n",
    "    num_variants = 0 # Check the number of sites and number of variants are identical\n",
    "    with tsinfer.SampleData(sample_data.sequence_length) as sample_data_new:\n",
    "        for i, variant in enumerate(sample_data.variants()):\n",
    "            num_variants += 1\n",
    "            if sites_to_mask[i]:\n",
    "                genotypes = np.repeat(tskit.MISSING_DATA, len(variant.genotypes))\n",
    "            else:\n",
    "                genotypes = variant.genotypes\n",
    "            sample_data_new.add_site(\n",
    "                position=variant.site.position,\n",
    "                genotypes=genotypes,\n",
    "                alleles=variant.alleles, # Keep the same\n",
    "            )\n",
    "    \n",
    "    assert sample_data.num_sites == num_variants,\\\n",
    "        \"Number of sites is not equal to the number of variants.\"\n",
    "    \n",
    "    return(sample_data_new)"
   ]
  },
  {
   "cell_type": "code",
   "execution_count": 87,
   "id": "1f4619fb",
   "metadata": {},
   "outputs": [],
   "source": [
    "masked_site_bool = sample_sites(sd_query, proportion_missing_sites)\n",
    "sd_query_masked = mask_sites_in_sample_data(sd_query, sites_to_mask=masked_site_bool)"
   ]
  },
  {
   "cell_type": "code",
   "execution_count": 52,
   "id": "126d79fc",
   "metadata": {},
   "outputs": [],
   "source": [
    "ts_imputed = tsinfer.match_samples(\n",
    "    sample_data=sd_query_masked,\n",
    "    ancestors_ts=ts_anc,\n",
    ")"
   ]
  },
  {
   "cell_type": "code",
   "execution_count": 53,
   "id": "8a8862c0",
   "metadata": {},
   "outputs": [
    {
     "name": "stdout",
     "output_type": "stream",
     "text": [
      "SD whole   : 3054\n",
      "SD query   : 3054\n",
      "TS ref     : 3059\n",
      "TS anc     : 2549\n",
      "TS imputed : 3054\n"
     ]
    }
   ],
   "source": [
    "print(f\"SD whole   : {sd_full.num_sites}\")\n",
    "print(f\"SD query   : {sd_query.num_sites}\")\n",
    "print(f\"TS ref     : {ts_ref.num_sites}\")\n",
    "print(f\"TS anc     : {ts_anc.num_sites}\")\n",
    "print(f\"TS imputed : {ts_imputed.num_sites}\")"
   ]
  },
  {
   "cell_type": "markdown",
   "id": "67697949",
   "metadata": {},
   "source": [
    "### Write results to VCF"
   ]
  },
  {
   "cell_type": "code",
   "execution_count": 54,
   "id": "6572e226",
   "metadata": {},
   "outputs": [],
   "source": [
    "true_vcf_file = \".\".join([\"true\", str(replicate_index), \"vcf\", \"gz\"])\n",
    "imputed_vcf_file = \".\".join([\"imputed\", str(replicate_index), \"vcf\", \"gz\"])"
   ]
  },
  {
   "cell_type": "code",
   "execution_count": 55,
   "id": "e73f3ad7",
   "metadata": {},
   "outputs": [],
   "source": [
    "with gzip.open(true_vcf_file, \"wt\") as f:\n",
    "    ts_matched.write_vcf(f)"
   ]
  },
  {
   "cell_type": "code",
   "execution_count": 56,
   "id": "90e63b26",
   "metadata": {},
   "outputs": [],
   "source": [
    "with gzip.open(imputed_vcf_file, \"wt\") as f:\n",
    "    ts_imputed.write_vcf(f)"
   ]
  },
  {
   "cell_type": "markdown",
   "id": "63377815",
   "metadata": {},
   "source": [
    "### Prepare VCF for BEAGLE and GLIMPSE"
   ]
  },
  {
   "cell_type": "code",
   "execution_count": 57,
   "id": "e910ae1a",
   "metadata": {},
   "outputs": [],
   "source": [
    "ts_ref = ts_full.simplify(samples_ref, filter_sites=False)\n",
    "ts_query = ts_full.simplify(samples_query, filter_sites=False)"
   ]
  },
  {
   "cell_type": "code",
   "execution_count": 58,
   "id": "cba98364",
   "metadata": {},
   "outputs": [],
   "source": [
    "ref_vcf_file = \".\".join([\"ref\", str(replicate_index), \"vcf\", \"gz\"])\n",
    "query_true_vcf_file = \".\".join([\"query_true\", str(replicate_index), \"vcf\", \"gz\"])\n",
    "query_miss_vcf_file = \".\".join([\"query_miss\", str(replicate_index), \"vcf\", \"gz\"])"
   ]
  },
  {
   "cell_type": "code",
   "execution_count": 59,
   "id": "d85b987a",
   "metadata": {},
   "outputs": [],
   "source": [
    "with gzip.open(ref_vcf_file, \"wt\") as f:\n",
    "    ts_ref.write_vcf(f)"
   ]
  },
  {
   "cell_type": "code",
   "execution_count": 60,
   "id": "f0dd2957",
   "metadata": {},
   "outputs": [],
   "source": [
    "with gzip.open(query_true_vcf_file, \"wt\") as f:\n",
    "    ts_query.write_vcf(f)"
   ]
  },
  {
   "cell_type": "code",
   "execution_count": 61,
   "id": "b99a9810",
   "metadata": {},
   "outputs": [
    {
     "ename": "ValueError",
     "evalue": "Sample mask must be a numpy array of size num_samples",
     "output_type": "error",
     "traceback": [
      "\u001b[0;31m---------------------------------------------------------------------------\u001b[0m",
      "\u001b[0;31mValueError\u001b[0m                                Traceback (most recent call last)",
      "Input \u001b[0;32mIn [61]\u001b[0m, in \u001b[0;36m<module>\u001b[0;34m\u001b[0m\n\u001b[1;32m      1\u001b[0m \u001b[38;5;28;01mwith\u001b[39;00m gzip\u001b[38;5;241m.\u001b[39mopen(query_miss_vcf_file, \u001b[38;5;124m\"\u001b[39m\u001b[38;5;124mwt\u001b[39m\u001b[38;5;124m\"\u001b[39m) \u001b[38;5;28;01mas\u001b[39;00m f:\n\u001b[0;32m----> 2\u001b[0m     \u001b[43mts_query\u001b[49m\u001b[38;5;241;43m.\u001b[39;49m\u001b[43mwrite_vcf\u001b[49m\u001b[43m(\u001b[49m\u001b[43mf\u001b[49m\u001b[43m,\u001b[49m\u001b[43m \u001b[49m\u001b[43msample_mask\u001b[49m\u001b[38;5;241;43m=\u001b[39;49m\u001b[43mmasked_sites\u001b[49m\u001b[43m)\u001b[49m\n",
      "File \u001b[0;32m~/opt/anaconda3/envs/tskit-play/lib/python3.8/site-packages/tskit/trees.py:5722\u001b[0m, in \u001b[0;36mTreeSequence.write_vcf\u001b[0;34m(self, output, ploidy, contig_id, individuals, individual_names, position_transform, site_mask, sample_mask, isolated_as_missing)\u001b[0m\n\u001b[1;32m   5521\u001b[0m \u001b[38;5;124;03m\"\"\"\u001b[39;00m\n\u001b[1;32m   5522\u001b[0m \u001b[38;5;124;03mWrites a VCF formatted file to the specified file-like object.\u001b[39;00m\n\u001b[1;32m   5523\u001b[0m \u001b[38;5;124;03mIf there is individual information present in the tree sequence\u001b[39;00m\n\u001b[0;32m   (...)\u001b[0m\n\u001b[1;32m   5709\u001b[0m \u001b[38;5;124;03m    See :meth:`.variants` for more information. Default: True.\u001b[39;00m\n\u001b[1;32m   5710\u001b[0m \u001b[38;5;124;03m\"\"\"\u001b[39;00m\n\u001b[1;32m   5711\u001b[0m writer \u001b[38;5;241m=\u001b[39m vcf\u001b[38;5;241m.\u001b[39mVcfWriter(\n\u001b[1;32m   5712\u001b[0m     \u001b[38;5;28mself\u001b[39m,\n\u001b[1;32m   5713\u001b[0m     ploidy\u001b[38;5;241m=\u001b[39mploidy,\n\u001b[0;32m   (...)\u001b[0m\n\u001b[1;32m   5720\u001b[0m     isolated_as_missing\u001b[38;5;241m=\u001b[39misolated_as_missing,\n\u001b[1;32m   5721\u001b[0m )\n\u001b[0;32m-> 5722\u001b[0m \u001b[43mwriter\u001b[49m\u001b[38;5;241;43m.\u001b[39;49m\u001b[43mwrite\u001b[49m\u001b[43m(\u001b[49m\u001b[43moutput\u001b[49m\u001b[43m)\u001b[49m\n",
      "File \u001b[0;32m~/opt/anaconda3/envs/tskit-play/lib/python3.8/site-packages/tskit/vcf.py:234\u001b[0m, in \u001b[0;36mVcfWriter.write\u001b[0;34m(self, output)\u001b[0m\n\u001b[1;32m    232\u001b[0m     sample_mask \u001b[38;5;241m=\u001b[39m np\u001b[38;5;241m.\u001b[39marray(\u001b[38;5;28mself\u001b[39m\u001b[38;5;241m.\u001b[39msample_mask(variant), dtype\u001b[38;5;241m=\u001b[39m\u001b[38;5;28mbool\u001b[39m)\n\u001b[1;32m    233\u001b[0m     \u001b[38;5;28;01mif\u001b[39;00m sample_mask\u001b[38;5;241m.\u001b[39mshape \u001b[38;5;241m!=\u001b[39m genotypes\u001b[38;5;241m.\u001b[39mshape:\n\u001b[0;32m--> 234\u001b[0m         \u001b[38;5;28;01mraise\u001b[39;00m \u001b[38;5;167;01mValueError\u001b[39;00m(\n\u001b[1;32m    235\u001b[0m             \u001b[38;5;124m\"\u001b[39m\u001b[38;5;124mSample mask must be a numpy array of size num_samples\u001b[39m\u001b[38;5;124m\"\u001b[39m\n\u001b[1;32m    236\u001b[0m         )\n\u001b[1;32m    237\u001b[0m     genotypes[sample_mask] \u001b[38;5;241m=\u001b[39m \u001b[38;5;241m-\u001b[39m\u001b[38;5;241m1\u001b[39m\n\u001b[1;32m    238\u001b[0m \u001b[38;5;28;01mif\u001b[39;00m \u001b[38;5;28mself\u001b[39m\u001b[38;5;241m.\u001b[39msample_mask \u001b[38;5;129;01mis\u001b[39;00m \u001b[38;5;129;01mnot\u001b[39;00m \u001b[38;5;28;01mNone\u001b[39;00m \u001b[38;5;129;01mor\u001b[39;00m variant\u001b[38;5;241m.\u001b[39mhas_missing_data:\n",
      "\u001b[0;31mValueError\u001b[0m: Sample mask must be a numpy array of size num_samples"
     ]
    }
   ],
   "source": [
    "with gzip.open(query_miss_vcf_file, \"wt\") as f:\n",
    "    ts_query.write_vcf(\n",
    "        f,\n",
    "        sample_mask=masked_site_bool, # Mark sites as *\n",
    "    )"
   ]
  }
 ],
 "metadata": {
  "kernelspec": {
   "display_name": "Python 3 (ipykernel)",
   "language": "python",
   "name": "python3"
  },
  "language_info": {
   "codemirror_mode": {
    "name": "ipython",
    "version": 3
   },
   "file_extension": ".py",
   "mimetype": "text/x-python",
   "name": "python",
   "nbconvert_exporter": "python",
   "pygments_lexer": "ipython3",
   "version": "3.8.12"
  }
 },
 "nbformat": 4,
 "nbformat_minor": 5
}
