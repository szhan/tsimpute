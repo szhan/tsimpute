{
 "cells": [
  {
   "cell_type": "code",
   "execution_count": 1,
   "id": "bfccae17",
   "metadata": {},
   "outputs": [
    {
     "name": "stdout",
     "output_type": "stream",
     "text": [
      "tskit 0.5.0\n",
      "tsinfer 0.2.3\n",
      "msprime 1.1.1\n",
      "demes 0.2.1\n",
      "cyvcf2 0.30.14\n"
     ]
    }
   ],
   "source": [
    "import math\n",
    "import os\n",
    "import random\n",
    "import sys\n",
    "import time\n",
    "\n",
    "import gzip\n",
    "\n",
    "import numpy as np\n",
    "\n",
    "import msprime\n",
    "import tskit\n",
    "import tsinfer\n",
    "from tsinfer import make_ancestors_ts\n",
    "\n",
    "import cyvcf2\n",
    "import demes\n",
    "import demesdraw\n",
    "\n",
    "print(f\"tskit {tskit.__version__}\")\n",
    "print(f\"tsinfer {tsinfer.__version__}\")\n",
    "print(f\"msprime {msprime.__version__}\")\n",
    "print(f\"demes {demes.__version__}\")\n",
    "print(f\"cyvcf2 {cyvcf2.__version__}\")"
   ]
  },
  {
   "cell_type": "markdown",
   "id": "97d141a7",
   "metadata": {},
   "source": [
    "### Simulation parameters"
   ]
  },
  {
   "cell_type": "code",
   "execution_count": 2,
   "id": "abd9bc2d",
   "metadata": {},
   "outputs": [],
   "source": [
    "replicate_index = 0\n",
    "\n",
    "sampling_time_query = 100\n",
    "\n",
    "proportion_missing_sites = 0.80"
   ]
  },
  {
   "cell_type": "markdown",
   "id": "5ee82bff",
   "metadata": {},
   "source": [
    "### Simulate genealogy and genetic variation"
   ]
  },
  {
   "cell_type": "code",
   "execution_count": 3,
   "id": "fcfdd437",
   "metadata": {},
   "outputs": [],
   "source": [
    "size_query = 100\n",
    "size_ref   = 1_000\n",
    "\n",
    "eff_pop_size = 10_000\n",
    "mutation_rate = 1e-8\n",
    "recombination_rate = 1e-8\n",
    "\n",
    "contig_id = '1'\n",
    "ploidy_level = 1 # Haploid genomes\n",
    "sequence_length = 1_000_000 # 1 Mbp"
   ]
  },
  {
   "cell_type": "code",
   "execution_count": 4,
   "id": "ab44e381",
   "metadata": {},
   "outputs": [],
   "source": [
    "# Uniform recombination rate\n",
    "recomb_rate_map = msprime.RateMap.uniform(\n",
    "    sequence_length=sequence_length,\n",
    "    rate=recombination_rate,\n",
    ")\n",
    "\n",
    "# Uniform mutation rate\n",
    "mut_rate_map = msprime.RateMap.uniform(\n",
    "    sequence_length=sequence_length,\n",
    "    rate=mutation_rate,\n",
    ")"
   ]
  },
  {
   "cell_type": "code",
   "execution_count": 5,
   "id": "1fa1ef99",
   "metadata": {},
   "outputs": [],
   "source": [
    "sample_set = [\n",
    "    # Query genomes\n",
    "    msprime.SampleSet(num_samples=size_query,\n",
    "                      time=sampling_time_query,\n",
    "                      ploidy=ploidy_level),\n",
    "    # Reference panel\n",
    "    msprime.SampleSet(num_samples=size_ref,\n",
    "                      time=0,\n",
    "                      ploidy=ploidy_level),\n",
    "]"
   ]
  },
  {
   "cell_type": "code",
   "execution_count": 6,
   "id": "66ebc2f0",
   "metadata": {},
   "outputs": [],
   "source": [
    "# A simulated tree sequence does not contain any monoallelic sites,\n",
    "# but there may be multiallelic sites.\n",
    "ts_full = msprime.sim_mutations(\n",
    "    msprime.sim_ancestry(\n",
    "        samples=sample_set,\n",
    "        population_size=eff_pop_size,\n",
    "        model=\"hudson\",\n",
    "        recombination_rate=recomb_rate_map,\n",
    "        discrete_genome=True,\n",
    "    ),\n",
    "    rate=mut_rate_map,\n",
    "    discrete_genome=True,\n",
    ")"
   ]
  },
  {
   "cell_type": "code",
   "execution_count": 7,
   "id": "376e22a9",
   "metadata": {},
   "outputs": [],
   "source": [
    "individuals_query = np.arange(size_query, dtype=int)\n",
    "individual_names_query = [\"query_\" + str(i) for i in individuals_query]\n",
    "\n",
    "samples_query = np.arange(ploidy_level * size_query, dtype=int)"
   ]
  },
  {
   "cell_type": "code",
   "execution_count": 8,
   "id": "64b6402c",
   "metadata": {},
   "outputs": [],
   "source": [
    "individuals_ref = np.arange(size_query, size_query + size_ref, dtype=int)\n",
    "individual_names_ref = [\"ref_\" + str(i) for i in individuals_ref]\n",
    "\n",
    "samples_ref = np.arange(ploidy_level * size_query, ploidy_level * (size_query + size_ref), dtype=int)"
   ]
  },
  {
   "cell_type": "markdown",
   "id": "e1f070b0",
   "metadata": {},
   "source": [
    "### Match query genomes to an ancestor tree sequence"
   ]
  },
  {
   "cell_type": "code",
   "execution_count": 19,
   "id": "d2c5a72e",
   "metadata": {},
   "outputs": [
    {
     "name": "stdout",
     "output_type": "stream",
     "text": [
      "3226 1000\n",
      "3226 100\n"
     ]
    }
   ],
   "source": [
    "ts_ref = ts_full.simplify(samples_ref, filter_sites=False)\n",
    "ts_query = ts_full.simplify(samples_query, filter_sites=False)\n",
    "\n",
    "print(f\"{ts_ref.num_sites} {ts_ref.num_samples}\")\n",
    "print(f\"{ts_query.num_sites} {ts_query.num_samples}\")"
   ]
  },
  {
   "cell_type": "code",
   "execution_count": 20,
   "id": "1551a140",
   "metadata": {},
   "outputs": [
    {
     "name": "stdout",
     "output_type": "stream",
     "text": [
      "3226 1000\n",
      "3226 100\n"
     ]
    }
   ],
   "source": [
    "# Multiallelic sites are included.\n",
    "sd_full = tsinfer.SampleData.from_tree_sequence(ts_ref)\n",
    "sd_query = sd_full.subset(individuals_query) # Used for matching\n",
    "\n",
    "print(f\"{sd_full.num_sites} {sd_full.num_samples}\")\n",
    "print(f\"{sd_query.num_sites} {sd_query.num_samples}\")"
   ]
  },
  {
   "cell_type": "code",
   "execution_count": 21,
   "id": "a92786fa",
   "metadata": {},
   "outputs": [],
   "source": [
    "# Multiallelic sites are automatically removed when generating an ancestor tree sequence.\n",
    "ts_anc = make_ancestors_ts(ts=ts_ref, remove_leaves=True, samples=None)\n",
    "\n",
    "# Identify sites unique to ts_anc but not in sd_query\n",
    "sites_ts_anc = set(ts_anc.tables.sites.position)\n",
    "sites_sd_query = set(list(sd_query.sites_position))\n",
    "site_positions_to_remove = list(sites_ts_anc.difference(sites_sd_query))\n",
    "site_ids_to_remove = [ts_anc.site(position=p).id for p in site_positions_to_remove]\n",
    "\n",
    "tmp_tables = ts_anc.dump_tables()\n",
    "tmp_tables.delete_sites(site_ids_to_remove) # Remove sites unique to ts_anc\n",
    "tmp_tables.individuals.clear()\n",
    "tmp_tables.populations.metadata_schema = tskit.MetadataSchema(schema=None)\n",
    "\n",
    "ts_anc = tmp_tables.tree_sequence() # Used for matching"
   ]
  },
  {
   "cell_type": "code",
   "execution_count": 22,
   "id": "d3b7556c",
   "metadata": {
    "scrolled": true
   },
   "outputs": [],
   "source": [
    "ts_matched = tsinfer.match_samples(sample_data=sd_query, ancestors_ts=ts_anc)"
   ]
  },
  {
   "cell_type": "code",
   "execution_count": 23,
   "id": "47dfe471",
   "metadata": {},
   "outputs": [
    {
     "name": "stdout",
     "output_type": "stream",
     "text": [
      "SD whole   : 3226\n",
      "SD query   : 3226\n",
      "TS ref     : 3226\n",
      "TS anc     : 2652\n",
      "TS matched : 3226\n"
     ]
    }
   ],
   "source": [
    "print(f\"SD whole   : {sd_full.num_sites}\")\n",
    "print(f\"SD query   : {sd_query.num_sites}\")\n",
    "print(f\"TS ref     : {ts_ref.num_sites}\")\n",
    "print(f\"TS anc     : {ts_anc.num_sites}\")\n",
    "print(f\"TS matched : {ts_matched.num_sites}\")"
   ]
  },
  {
   "cell_type": "markdown",
   "id": "5b286eed",
   "metadata": {},
   "source": [
    "### Impute into query genomes from the ancestor tree sequence"
   ]
  },
  {
   "cell_type": "code",
   "execution_count": 24,
   "id": "bfd35e23",
   "metadata": {},
   "outputs": [],
   "source": [
    "def sample_sites(sample_data, proportion_missing_sites):\n",
    "    \"\"\"\n",
    "    Draw N sites stored in a SampleData object at random\n",
    "    by site id, where N is the number of sites to mask\n",
    "    based on a specified proportion of missing sites.\n",
    "    \n",
    "    Return a boolean array of size sample_data.num_sites,\n",
    "    where True indicates that the site is masked.\n",
    "    \n",
    "    TODO: Specify random seed.\n",
    "    \"\"\"\n",
    "    assert proportion_missing_sites >= 0 and proportion_missing_sites <= 1, \\\n",
    "        \"Proportion of missing sites must be between 0 and 1.\"\n",
    "    \n",
    "    num_masked_sites = int(np.floor(sample_data.num_sites * proportion_missing_sites))\n",
    "    \n",
    "    masked_site_ids = np.sort(\n",
    "        np.random.default_rng().integers(\n",
    "            low=0,\n",
    "            high=sample_data.num_sites,\n",
    "            size=num_masked_sites,\n",
    "        )\n",
    "    )\n",
    "    \n",
    "    masked_site_bool = np.zeros(sample_data.num_sites, dtype=bool)\n",
    "    masked_site_bool[masked_site_ids] = True\n",
    "    \n",
    "    return(masked_site_bool)"
   ]
  },
  {
   "cell_type": "code",
   "execution_count": 25,
   "id": "573d171a",
   "metadata": {},
   "outputs": [],
   "source": [
    "def mask_sites_in_sample_data(sample_data, sites_to_mask=None):\n",
    "    \"\"\"\n",
    "    Create a SampleData object from an existing SampleData object,\n",
    "    while masking specified sites listed in sites_to_mask (site ids).\n",
    "    \"\"\"\n",
    "    if sites_to_mask is None:\n",
    "        # By default, no site is masked\n",
    "        sites_to_mask = np.zeros(sample_data.num_sites, dtype=bool)\n",
    "    \n",
    "    num_variants = 0 # Check the number of sites and number of variants are identical\n",
    "    with tsinfer.SampleData(sample_data.sequence_length) as sample_data_new:\n",
    "        for i, variant in enumerate(sample_data.variants()):\n",
    "            num_variants += 1\n",
    "            if sites_to_mask[i]:\n",
    "                genotypes = np.repeat(tskit.MISSING_DATA, len(variant.genotypes))\n",
    "            else:\n",
    "                genotypes = variant.genotypes\n",
    "            sample_data_new.add_site(\n",
    "                position=variant.site.position,\n",
    "                genotypes=genotypes,\n",
    "                alleles=variant.alleles, # Keep the same\n",
    "            )\n",
    "    \n",
    "    assert sample_data.num_sites == num_variants,\\\n",
    "        \"Number of sites is not equal to the number of variants.\"\n",
    "    \n",
    "    return(sample_data_new)"
   ]
  },
  {
   "cell_type": "code",
   "execution_count": 26,
   "id": "1f4619fb",
   "metadata": {},
   "outputs": [],
   "source": [
    "masked_site_bool = sample_sites(sd_query, proportion_missing_sites)\n",
    "sd_query_masked = mask_sites_in_sample_data(sd_query, sites_to_mask=masked_site_bool)"
   ]
  },
  {
   "cell_type": "code",
   "execution_count": 27,
   "id": "126d79fc",
   "metadata": {},
   "outputs": [],
   "source": [
    "ts_imputed = tsinfer.match_samples(\n",
    "    sample_data=sd_query_masked,\n",
    "    ancestors_ts=ts_anc,\n",
    ")"
   ]
  },
  {
   "cell_type": "code",
   "execution_count": 28,
   "id": "5b62a555",
   "metadata": {},
   "outputs": [
    {
     "name": "stdout",
     "output_type": "stream",
     "text": [
      "SD whole   : 3226\n",
      "SD query   : 3226\n",
      "TS ref     : 3226\n",
      "TS anc     : 2652\n",
      "TS imputed : 3226\n"
     ]
    }
   ],
   "source": [
    "print(f\"SD whole   : {sd_full.num_sites}\")\n",
    "print(f\"SD query   : {sd_query.num_sites}\")\n",
    "print(f\"TS ref     : {ts_ref.num_sites}\")\n",
    "print(f\"TS anc     : {ts_anc.num_sites}\")\n",
    "print(f\"TS imputed : {ts_imputed.num_sites}\")"
   ]
  },
  {
   "cell_type": "markdown",
   "id": "59a615cb",
   "metadata": {},
   "source": [
    "### Write VCF"
   ]
  },
  {
   "cell_type": "code",
   "execution_count": 29,
   "id": "29b78a40",
   "metadata": {},
   "outputs": [],
   "source": [
    "ref_vcf_file = \".\".join([\"ref\", str(replicate_index), \"vcf\", \"gz\"])\n",
    "query_true_vcf_file = \".\".join([\"query_true\", str(replicate_index), \"vcf\", \"gz\"])\n",
    "query_miss_vcf_file = \".\".join([\"query_miss\", str(replicate_index), \"vcf\", \"gz\"])\n",
    "imputed_vcf_file = \".\".join([\"imputed\", str(replicate_index), \"vcf\", \"gz\"])"
   ]
  },
  {
   "cell_type": "code",
   "execution_count": 30,
   "id": "bd70f789",
   "metadata": {},
   "outputs": [],
   "source": [
    "with gzip.open(ref_vcf_file, \"wt\") as f:\n",
    "    ts_ref.write_vcf(f)"
   ]
  },
  {
   "cell_type": "code",
   "execution_count": 31,
   "id": "a46c5fa5",
   "metadata": {},
   "outputs": [],
   "source": [
    "with gzip.open(query_true_vcf_file, \"wt\") as f:\n",
    "    ts_query.write_vcf(f)"
   ]
  },
  {
   "cell_type": "code",
   "execution_count": 32,
   "id": "7962fcd0",
   "metadata": {},
   "outputs": [],
   "source": [
    "def sample_mask(variant):\n",
    "    num_samples = len(variant.genotypes)\n",
    "    if masked_site_bool[variant.site.id]:\n",
    "        sample_mask = np.ones(num_samples, dtype=bool)\n",
    "    else:\n",
    "        sample_mask = np.zeros(num_samples, dtype=bool)\n",
    "    return sample_mask\n",
    "\n",
    "\n",
    "with gzip.open(query_miss_vcf_file, \"wt\") as f:\n",
    "    ts_query.write_vcf(f, sample_mask=sample_mask)"
   ]
  },
  {
   "cell_type": "code",
   "execution_count": 33,
   "id": "65040478",
   "metadata": {},
   "outputs": [],
   "source": [
    "with gzip.open(imputed_vcf_file, \"wt\") as f:\n",
    "    ts_imputed.write_vcf(f)"
   ]
  },
  {
   "cell_type": "code",
   "execution_count": null,
   "id": "0263f8d6",
   "metadata": {},
   "outputs": [],
   "source": []
  }
 ],
 "metadata": {
  "kernelspec": {
   "display_name": "Python 3 (ipykernel)",
   "language": "python",
   "name": "python3"
  },
  "language_info": {
   "codemirror_mode": {
    "name": "ipython",
    "version": 3
   },
   "file_extension": ".py",
   "mimetype": "text/x-python",
   "name": "python",
   "nbconvert_exporter": "python",
   "pygments_lexer": "ipython3",
   "version": "3.8.12"
  }
 },
 "nbformat": 4,
 "nbformat_minor": 5
}
