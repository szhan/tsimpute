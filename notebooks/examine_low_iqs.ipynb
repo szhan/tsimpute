{
 "cells": [
  {
   "cell_type": "markdown",
   "metadata": {},
   "source": [
    "### Examine poorly imputed sites"
   ]
  },
  {
   "cell_type": "code",
   "execution_count": null,
   "metadata": {},
   "outputs": [],
   "source": [
    "import os\n",
    "from pathlib import Path\n",
    "\n",
    "import pandas as pd\n",
    "import numpy as np\n",
    "from scipy import stats\n",
    "\n",
    "import seaborn as sns\n",
    "import matplotlib.pyplot as plt\n",
    "sns.set_theme(style=\"whitegrid\")"
   ]
  },
  {
   "cell_type": "code",
   "execution_count": null,
   "metadata": {},
   "outputs": [],
   "source": [
    "base_dir = Path(\"/Users/szhan/Projects/tsimpute\")\n",
    "csv_file = base_dir / \"viz\" / \"pass_3_examine_2.imputation.results.csv\""
   ]
  },
  {
   "cell_type": "markdown",
   "metadata": {},
   "source": [
    "### How many poorly imputed sites are among sites with MAF at least 0.05?"
   ]
  },
  {
   "cell_type": "code",
   "execution_count": null,
   "metadata": {},
   "outputs": [],
   "source": [
    "df = pd.read_csv(csv_file, comment=\"#\")\n",
    "\n",
    "zoom = False\n",
    "if zoom:\n",
    "    left_coord = 5e6 - 5e5\n",
    "    right_coord = 5e6 + 5e5\n",
    "    df = df[df[\"position\"] >= left_coord]\n",
    "    df = df[df[\"position\"] <= right_coord]\n",
    "    df = df.reset_index()\n",
    "\n",
    "df"
   ]
  },
  {
   "cell_type": "code",
   "execution_count": null,
   "metadata": {},
   "outputs": [],
   "source": [
    "type(df[\"is_aa_ref\"])"
   ]
  },
  {
   "cell_type": "markdown",
   "metadata": {},
   "source": [
    "### Are there clusters of sites with low IQS?"
   ]
  },
  {
   "cell_type": "code",
   "execution_count": null,
   "metadata": {},
   "outputs": [],
   "source": [
    "plt.figure(figsize=(10, 5,))\n",
    "plt.ylabel(\"IQS\", fontsize=\"xx-large\")\n",
    "plt.xlabel(\"Genomic position\", fontsize=\"xx-large\")\n",
    "plt.yticks(fontsize=\"xx-large\")\n",
    "plt.xticks(fontsize=\"xx-large\")\n",
    "plt.plot(\n",
    "    df[\"position\"],\n",
    "    df[\"iqs\"],\n",
    "    linestyle=\"none\",\n",
    "    marker=\"+\",\n",
    "    markersize=6,\n",
    ");"
   ]
  },
  {
   "cell_type": "markdown",
   "metadata": {},
   "source": [
    "### How many mutations are there per site?"
   ]
  },
  {
   "cell_type": "code",
   "execution_count": null,
   "metadata": {},
   "outputs": [],
   "source": [
    "plt.figure(figsize=(10, 5,))\n",
    "plt.ylabel(\"Site count\", fontsize=\"xx-large\")\n",
    "plt.xlabel(\"Number of mutations at site\", fontsize=\"xx-large\")\n",
    "plt.yticks(fontsize=\"xx-large\")\n",
    "plt.xticks(fontsize=\"xx-large\")\n",
    "plt.hist(\n",
    "    df[\"num_muts\"],\n",
    "    bins=50,\n",
    ");\n"
   ]
  },
  {
   "cell_type": "markdown",
   "metadata": {},
   "source": [
    "### How often are the ancestral alleles REF or ALT?"
   ]
  },
  {
   "cell_type": "code",
   "execution_count": null,
   "metadata": {},
   "outputs": [],
   "source": [
    "perc_aa_ref = np.sum(df[\"is_aa_ref\"] == 1) / df.shape[0]\n",
    "perc_aa_alt = np.sum(df[\"is_aa_ref\"] == 0) / df.shape[0]\n",
    "print(f\"Perc. sites where AA is REF = {round(perc_aa_ref * 100, 2)}\")\n",
    "print(f\"Perc. sites where AA is ALT = {round(perc_aa_alt * 100, 2)}\")"
   ]
  },
  {
   "cell_type": "markdown",
   "metadata": {},
   "source": [
    "### How often are the ancestral alleles parsimonious?"
   ]
  },
  {
   "cell_type": "code",
   "execution_count": null,
   "metadata": {},
   "outputs": [],
   "source": [
    "perc_aa_parsimonious = np.sum(df[\"is_aa_parsimonious\"] == 1) / df.shape[0] * 100\n",
    "perc_aa_not_parsimonious = np.sum(df[\"is_aa_parsimonious\"] == 0) / df.shape[0] * 100\n",
    "print(f\"Perc. sites where AA is     parsimonious = {round(perc_aa_parsimonious, 2)}\")\n",
    "print(f\"Perc. sites where AA is not parsimonious = {round(perc_aa_not_parsimonious, 2)}\")"
   ]
  },
  {
   "cell_type": "markdown",
   "metadata": {},
   "source": [
    "### How often are the wrongly imputed alleles ancestral?"
   ]
  },
  {
   "cell_type": "code",
   "execution_count": null,
   "metadata": {},
   "outputs": [],
   "source": [
    "plt.figure(figsize=(10, 5,))\n",
    "plt.ylabel(\"Site count\", fontsize=\"xx-large\")\n",
    "plt.xlabel(\"Proportion of wrongly imputed alleles that are ancestral\",\n",
    "           fontsize=\"xx-large\")\n",
    "plt.yticks(fontsize=\"xx-large\")\n",
    "plt.xticks(fontsize=\"xx-large\")\n",
    "plt.xlim(0, 1)\n",
    "plt.hist(\n",
    "    df[\"prop_wrong_alleles_0\"],\n",
    "    bins=50,\n",
    ");"
   ]
  },
  {
   "cell_type": "markdown",
   "metadata": {},
   "source": [
    "### How often are the wrongly imputed alleles REF?"
   ]
  },
  {
   "cell_type": "code",
   "execution_count": null,
   "metadata": {},
   "outputs": [],
   "source": [
    "prop_wrong_alleles_REF = np.empty(df.shape[0])\n",
    "for i in np.arange(df.shape[0]):\n",
    "    if df[\"is_aa_ref\"][i] == 1:\n",
    "        prop_wrong_alleles_REF[i] = df[\"prop_wrong_alleles_0\"][i]\n",
    "    else:\n",
    "        prop_wrong_alleles_REF[i] = 1 - df[\"prop_wrong_alleles_0\"][i]"
   ]
  },
  {
   "cell_type": "code",
   "execution_count": null,
   "metadata": {},
   "outputs": [],
   "source": [
    "plt.figure(figsize=(10, 5,))\n",
    "plt.ylabel(\"Site count\", fontsize=\"xx-large\")\n",
    "plt.xlabel(\"Proportion of wrongly imputed alleles that are REF\",\n",
    "           fontsize=\"xx-large\")\n",
    "plt.yticks(fontsize=\"xx-large\")\n",
    "plt.xticks(fontsize=\"xx-large\")\n",
    "plt.xlim(0, 1)\n",
    "plt.hist(\n",
    "    prop_wrong_alleles_REF,\n",
    "    bins=50,\n",
    ");"
   ]
  },
  {
   "cell_type": "code",
   "execution_count": null,
   "metadata": {},
   "outputs": [],
   "source": []
  }
 ],
 "metadata": {
  "kernelspec": {
   "display_name": "Python 3.8.12 ('tskit-play')",
   "language": "python",
   "name": "python3"
  },
  "language_info": {
   "codemirror_mode": {
    "name": "ipython",
    "version": 3
   },
   "file_extension": ".py",
   "mimetype": "text/x-python",
   "name": "python",
   "nbconvert_exporter": "python",
   "pygments_lexer": "ipython3",
   "version": "3.8.12"
  },
  "orig_nbformat": 4,
  "vscode": {
   "interpreter": {
    "hash": "eb113df21e86d0d3285e00d2b797ac04a99a0d10196b81a01bbc3abb92b92d53"
   }
  }
 },
 "nbformat": 4,
 "nbformat_minor": 2
}
