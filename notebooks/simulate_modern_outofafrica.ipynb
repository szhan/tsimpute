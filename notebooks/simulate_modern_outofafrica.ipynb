{
 "cells": [
  {
   "cell_type": "code",
   "execution_count": 1,
   "id": "085b9439",
   "metadata": {},
   "outputs": [
    {
     "name": "stdout",
     "output_type": "stream",
     "text": [
      "tskit 0.4.1\n",
      "msprime 1.1.1\n",
      "stdpopsim 0.1.2\n"
     ]
    }
   ],
   "source": [
    "import tskit\n",
    "import msprime\n",
    "import stdpopsim\n",
    "\n",
    "import time\n",
    "\n",
    "print(f\"tskit {tskit.__version__}\")\n",
    "print(f\"msprime {msprime.__version__}\")\n",
    "print(f\"stdpopsim {stdpopsim.__version__}\")"
   ]
  },
  {
   "cell_type": "markdown",
   "id": "c40f7843",
   "metadata": {},
   "source": [
    "### Simulate ancestry and mutations along the ancestry using an Out-of-Africa demographic model."
   ]
  },
  {
   "cell_type": "code",
   "execution_count": 2,
   "id": "b4e36254",
   "metadata": {},
   "outputs": [
    {
     "name": "stdout",
     "output_type": "stream",
     "text": [
      "Number of (sampling and non-sampling) populations is 5.\n",
      "Number of sampling populations is 3.\n",
      "Populations in this model are: ['YRI', 'CEU', 'CHB', 'Neanderthal', 'ArchaicAFR'].\n"
     ]
    }
   ],
   "source": [
    "species = stdpopsim.get_species(\"HomSap\")\n",
    "contig  = species.get_contig(\"chr20\")\n",
    "model  = species.get_demographic_model('OutOfAfricaArchaicAdmixture_5R19')\n",
    "\n",
    "print(f\"Number of (sampling and non-sampling) populations is {model.num_populations}.\")\n",
    "print(f\"Number of sampling populations is {model.num_sampling_populations}.\")\n",
    "print(f\"Populations in this model are: {[pop.id for pop in model.populations]}.\")"
   ]
  },
  {
   "cell_type": "code",
   "execution_count": 13,
   "id": "54fb6cc4",
   "metadata": {},
   "outputs": [],
   "source": [
    "num_samples_yri = 1_000 # Ne = 12,300\n",
    "num_samples_ceu = 1_000 # Ne =  1,000\n",
    "num_samples_chb = 1_000 # Ne =    510\n",
    "\n",
    "samples = model.get_samples(2 * num_samples_yri,\n",
    "                            2 * num_samples_ceu,\n",
    "                            2 * num_samples_chb)\n",
    "\n",
    "engine = stdpopsim.get_engine('msprime')\n",
    "\n",
    "ts = engine.simulate(model,\n",
    "                     contig,\n",
    "                     samples,\n",
    "                     discrete_genome = False)"
   ]
  },
  {
   "cell_type": "code",
   "execution_count": 14,
   "id": "da2d6c61",
   "metadata": {},
   "outputs": [
    {
     "name": "stdout",
     "output_type": "stream",
     "text": [
      "Number of individuals of is 0.\n",
      "Number of sample nodes is 6000.\n",
      "Number of all nodes is 556652.\n",
      "Number of trees in the tree sequence is 962356.\n",
      "Number of mutations is 746811.\n",
      "Number of sites with genetic variation is 746811.\n",
      "Number of bytes to store the tree sequence is 214.119115.\n"
     ]
    }
   ],
   "source": [
    "# Check the tree sequences\n",
    "print(f\"Number of individuals of is {ts.num_individuals}.\")\n",
    "print(f\"Number of sample nodes is {ts.num_samples}.\")\n",
    "print(f\"Number of all nodes is {ts.num_nodes}.\")\n",
    "# ts.num_nodes - ts.num_samples equal the number of non-sample nodes\n",
    "print(f\"Number of trees in the tree sequence is {ts.num_trees}.\")\n",
    "\n",
    "print(f\"Number of mutations is {ts.num_mutations}.\")\n",
    "print(f\"Number of sites with genetic variation is {ts.num_sites}.\")\n",
    "print(f\"Number of bytes to store the tree sequence is {ts.nbytes / 1e6}.\")"
   ]
  },
  {
   "cell_type": "code",
   "execution_count": 8,
   "id": "e1268d93",
   "metadata": {},
   "outputs": [],
   "source": [
    "# Store the simulated tree sequence\n",
    "ts_file = \"../data/simulated_tree_sequences/OutOfAfricaArchaicAdmixture_5R19.trees\"\n",
    "ts.dump(ts_file)"
   ]
  },
  {
   "cell_type": "code",
   "execution_count": null,
   "id": "45edee97",
   "metadata": {},
   "outputs": [],
   "source": []
  }
 ],
 "metadata": {
  "kernelspec": {
   "display_name": "Python 3 (ipykernel)",
   "language": "python",
   "name": "python3"
  },
  "language_info": {
   "codemirror_mode": {
    "name": "ipython",
    "version": 3
   },
   "file_extension": ".py",
   "mimetype": "text/x-python",
   "name": "python",
   "nbconvert_exporter": "python",
   "pygments_lexer": "ipython3",
   "version": "3.8.12"
  }
 },
 "nbformat": 4,
 "nbformat_minor": 5
}
