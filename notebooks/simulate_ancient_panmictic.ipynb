{
 "cells": [
  {
   "cell_type": "code",
   "execution_count": 1,
   "id": "c2989730",
   "metadata": {},
   "outputs": [
    {
     "name": "stdout",
     "output_type": "stream",
     "text": [
      "tskit 0.4.1\n",
      "msprime 1.1.1\n",
      "stdpopsim 0.1.2\n"
     ]
    }
   ],
   "source": [
    "import tskit\n",
    "import msprime\n",
    "import stdpopsim\n",
    "\n",
    "from IPython.display import SVG\n",
    "import time\n",
    "\n",
    "print(f\"tskit {tskit.__version__}\")\n",
    "print(f\"msprime {msprime.__version__}\")\n",
    "print(f\"stdpopsim {stdpopsim.__version__}\")"
   ]
  },
  {
   "cell_type": "markdown",
   "id": "3e1084de",
   "metadata": {},
   "source": [
    "### Simulate ancestry and mutations along the ancestry for chr20 using human-like parameters, assuming a panmictic population (Ne = 10,000)"
   ]
  },
  {
   "cell_type": "code",
   "execution_count": 95,
   "id": "1ab337cf",
   "metadata": {},
   "outputs": [],
   "source": [
    "size_ref   = 1_000\n",
    "size_query =   100\n",
    "\n",
    "ploidy_level = 2\n",
    "eff_pop_size = 10_000\n",
    "\n",
    "num_replicates = 10"
   ]
  },
  {
   "cell_type": "code",
   "execution_count": 96,
   "id": "ab096642",
   "metadata": {},
   "outputs": [],
   "source": [
    "rate_map = msprime.RateMap.read_hapmap(\n",
    "    fileobj = \"../hapmap/genetic_map_GRCh37_chr20_reduced.txt\"\n",
    ")"
   ]
  },
  {
   "cell_type": "code",
   "execution_count": 97,
   "id": "726dc618",
   "metadata": {},
   "outputs": [],
   "source": [
    "sample_set = [\n",
    "    msprime.SampleSet(num_samples = size_ref,\n",
    "                      time = 0,\n",
    "                      ploidy = 2),\n",
    "    msprime.SampleSet(num_samples = size_query,\n",
    "                      time = 100_000,\n",
    "                      ploidy = 2)\n",
    "]"
   ]
  },
  {
   "cell_type": "code",
   "execution_count": 98,
   "id": "3b70925b",
   "metadata": {},
   "outputs": [
    {
     "name": "stdout",
     "output_type": "stream",
     "text": [
      "Simulating mutations on tree sequence 0.\n",
      "Simulating mutations on tree sequence 1.\n",
      "Simulating mutations on tree sequence 2.\n",
      "Simulating mutations on tree sequence 3.\n",
      "Simulating mutations on tree sequence 4.\n",
      "Simulating mutations on tree sequence 5.\n",
      "Simulating mutations on tree sequence 6.\n",
      "Simulating mutations on tree sequence 7.\n",
      "Simulating mutations on tree sequence 8.\n",
      "Simulating mutations on tree sequence 9.\n",
      "Simulating ancestry and mutations took 3 seconds.\n"
     ]
    }
   ],
   "source": [
    "src_ts = []\n",
    "\n",
    "tic = time.time()\n",
    "\n",
    "sim_ts = msprime.sim_ancestry(\n",
    "    samples = sample_set,\n",
    "    population_size = eff_pop_size,\n",
    "    ploidy = ploidy_level,\n",
    "    model = \"hudson\",\n",
    "    recombination_rate = rate_map,\n",
    "    num_replicates = num_replicates\n",
    ")\n",
    "\n",
    "for i, tmp_ts in enumerate(sim_ts):\n",
    "    print(f\"Simulating mutations on tree sequence {i}.\")\n",
    "    tmp_mts = msprime.sim_mutations(\n",
    "        tmp_ts,\n",
    "        rate = 1e-8\n",
    "    )\n",
    "    src_ts.append(tmp_mts)\n",
    "    \n",
    "toc = time.time()\n",
    "print(f\"Simulating ancestry and mutations took {round(toc - tic)} seconds.\")"
   ]
  },
  {
   "cell_type": "code",
   "execution_count": null,
   "id": "eee6e83c",
   "metadata": {},
   "outputs": [],
   "source": []
  }
 ],
 "metadata": {
  "kernelspec": {
   "display_name": "Python 3 (ipykernel)",
   "language": "python",
   "name": "python3"
  },
  "language_info": {
   "codemirror_mode": {
    "name": "ipython",
    "version": 3
   },
   "file_extension": ".py",
   "mimetype": "text/x-python",
   "name": "python",
   "nbconvert_exporter": "python",
   "pygments_lexer": "ipython3",
   "version": "3.8.12"
  }
 },
 "nbformat": 4,
 "nbformat_minor": 5
}
