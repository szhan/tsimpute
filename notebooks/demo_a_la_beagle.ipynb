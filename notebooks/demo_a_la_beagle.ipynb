{
 "cells": [
  {
   "cell_type": "code",
   "execution_count": null,
   "metadata": {},
   "outputs": [],
   "source": [
    "import numpy as np\n",
    "import matplotlib.pyplot as plt\n",
    "\n",
    "import _tskit\n",
    "import tskit\n",
    "\n",
    "import sys\n",
    "sys.path.append(\"/Users/szhan/Projects/tskit/python/tests/\")\n",
    "import beagle_numba\n",
    "\n",
    "sys.path.append(\"/Users/szhan/Projects/tsimpute/src/\")\n",
    "import impute_viterbi as tsimpute\n",
    "import parallelise\n"
   ]
  },
  {
   "cell_type": "code",
   "execution_count": null,
   "metadata": {},
   "outputs": [],
   "source": [
    "in_dir = \"/Users/szhan/Projects/tsimpute/notebooks/\"\n",
    "prefix = \"jacobs_ceu_ceu_2k\"\n"
   ]
  },
  {
   "cell_type": "code",
   "execution_count": null,
   "metadata": {},
   "outputs": [],
   "source": [
    "#ref_ts_file = in_dir + \"/\" + prefix + \".ref.trees\"\n",
    "ref_ts_file = \"./jacobs_ceu_ceu_2k/default.inferred.trees\"\n",
    "ref_ts = tskit.load(ref_ts_file)\n",
    "ref_ts\n"
   ]
  },
  {
   "cell_type": "code",
   "execution_count": null,
   "metadata": {},
   "outputs": [],
   "source": [
    "npy_query_file = in_dir + \"/\" + prefix + \".query.npy\"\n",
    "with open(npy_query_file, 'rb') as f:\n",
    "    query_h = np.load(f)\n",
    "    query_h_masked = np.load(f)\n",
    "    site_idx_m = np.load(f)\n",
    "    site_idx_x = np.load(f)\n",
    "    site_pos_m = np.load(f)\n",
    "    site_pos_x = np.load(f)\n"
   ]
  },
  {
   "cell_type": "code",
   "execution_count": null,
   "metadata": {},
   "outputs": [],
   "source": [
    "ref_ts_m = ref_ts.delete_sites(site_ids=site_idx_x)\n",
    "ref_ts_x = ref_ts.delete_sites(site_ids=site_idx_x)\n",
    "ref_h_x = ref_ts_x.genotype_matrix(alleles=tskit.ALLELES_ACGT)\n"
   ]
  },
  {
   "cell_type": "markdown",
   "metadata": {},
   "source": [
    "### Impute a la BEAGLE"
   ]
  },
  {
   "cell_type": "code",
   "execution_count": null,
   "metadata": {},
   "outputs": [],
   "source": [
    "# ACGT encoding\n",
    "query_h_m = query_h[site_idx_m, :].T\n",
    "print(query_h_m.shape)\n"
   ]
  },
  {
   "cell_type": "code",
   "execution_count": null,
   "metadata": {},
   "outputs": [],
   "source": [
    "mu = beagle_numba.get_mismatch_prob(site_idx_m, miscall_rate=1e-8)\n",
    "rho = beagle_numba.get_switch_prob(site_idx_m, h=ref_ts.num_samples, ne=10_000.0)\n",
    "rho /= 1e5\n",
    "\n",
    "alleles = np.arange(4)\n",
    "imputed_alleles = np.zeros((query_h_m.shape[0], len(site_idx_x)), dtype=np.int32)\n",
    "max_allele_probs = np.zeros((query_h_m.shape[0], len(site_idx_x)), dtype=np.float64)\n",
    "\n",
    "for i in np.arange(query_h_m.shape[0]):\n",
    "    fm = _tskit.CompressedMatrix(ref_ts_m._ll_tree_sequence)\n",
    "    bm = _tskit.CompressedMatrix(ref_ts_m._ll_tree_sequence)\n",
    "    # WARN: Change allele encoding.\n",
    "    ls_hmm = _tskit.LsHmm(ref_ts_m._ll_tree_sequence, mu, rho, acgt_alleles=True)\n",
    "    ls_hmm.forward_matrix(query_h_m[i, :], fm)\n",
    "    ls_hmm.backward_matrix(query_h_m[i, :], fm.normalisation_factor, bm)\n",
    "    sm = beagle_numba.compute_state_probability_matrix(fm.decode(), bm.decode())\n",
    "    ap = beagle_numba.interpolate_allele_probabilities(\n",
    "        sm, ref_h_x,\n",
    "        site_idx_m, site_idx_x,\n",
    "    )\n",
    "    ia, m_ap = beagle_numba.get_map_alleles(ap)\n",
    "    imputed_alleles[i, :] = ia\n",
    "    max_allele_probs[i, :] = m_ap\n"
   ]
  },
  {
   "cell_type": "code",
   "execution_count": null,
   "metadata": {},
   "outputs": [],
   "source": [
    "npy_results_file = prefix + \".ts_beaglelike.inferred_genealogy.results.npy\"\n",
    "with open(npy_results_file, 'wb') as f:\n",
    "    np.save(f, imputed_alleles)\n",
    "    np.save(f, max_allele_probs)\n",
    "    np.save(f, site_pos_x)\n"
   ]
  },
  {
   "cell_type": "markdown",
   "metadata": {},
   "source": [
    "### Impute using the Viteri path"
   ]
  },
  {
   "cell_type": "code",
   "execution_count": null,
   "metadata": {},
   "outputs": [],
   "source": [
    "mu = beagle_numba.get_mismatch_prob(ref_ts.sites_position, miscall_rate=1e-8)\n",
    "rho = beagle_numba.get_switch_prob(ref_ts.sites_position, h=ref_ts.num_samples, ne=10_000.0)\n",
    "rho /= 1e5\n",
    "\n",
    "H1 = query_h_masked.T\n",
    "print(H1.shape)\n",
    "\n",
    "H2 = np.zeros_like(H1)\n",
    "\n",
    "def wrapper_get_traceback_path(arg):\n",
    "    H2 = tsimpute.get_traceback_path(\n",
    "        ts=arg['ts'],\n",
    "        sample_sequence=arg['H1'],\n",
    "        recombination_rates=arg['switch_prob'],\n",
    "        mutation_rates=arg['mismatch_prob'],\n",
    "        precision=arg['precision'],\n",
    "    )\n",
    "    return H2\n",
    "\n",
    "H2_args = []\n",
    "for i in np.arange(H1.shape[0]):\n",
    "    H2_args.append({'ts': ref_ts, 'H1': H1[i, :], 'switch_prob': rho, 'mismatch_prob': mu, 'precision': 25})\n",
    "\n",
    "parallel_runs = parallelise.threaded_map(wrapper_get_traceback_path, H2_args, 6)\n",
    "for i, result in enumerate(parallel_runs):\n",
    "    H2[i, :] = result\n",
    "\n",
    "H3 = tsimpute.impute_samples(ref_ts, H2)\n"
   ]
  },
  {
   "cell_type": "code",
   "execution_count": null,
   "metadata": {},
   "outputs": [],
   "source": [
    "npy_results_file = prefix + \".ts_viterbi.inferred_genealogy.results.npy\"\n",
    "with open(npy_results_file, 'wb') as f:\n",
    "    np.save(f, site_pos_x)\n",
    "    np.save(f, H1)\n",
    "    np.save(f, H2)\n",
    "    np.save(f, H3)\n"
   ]
  },
  {
   "cell_type": "markdown",
   "metadata": {},
   "source": [
    "### Compare imputation results"
   ]
  },
  {
   "cell_type": "code",
   "execution_count": null,
   "metadata": {},
   "outputs": [],
   "source": [
    "# Subset to ungenotyped markers in groundtruth data.\n",
    "query_h_truth = query_h[site_idx_x, :].T\n",
    "assert not np.any(query_h_truth == -1)\n",
    "assert query_h_truth.shape[0] == imputed_alleles.shape[0]\n",
    "\n",
    "# Count number of wrongly imputed sites per query haplotype\n",
    "num_diff_sites_ts_beagle = np.zeros(query_h_truth.shape[0], dtype=np.int32) - 1\n",
    "for i in np.arange(query_h_truth.shape[0]):\n",
    "    num_diff_sites_ts_beagle[i] = np.sum(\n",
    "        np.invert(np.equal(query_h_truth[i, :], imputed_alleles[i, :]))\n",
    "    )\n"
   ]
  },
  {
   "cell_type": "code",
   "execution_count": null,
   "metadata": {},
   "outputs": [],
   "source": [
    "# Subset to ungenotyped markers in groundtruth data.\n",
    "query_h_truth = query_h[site_idx_x, :].T\n",
    "assert not np.any(query_h_truth == -1)\n",
    "H3_ungenotyped = H3[:, site_idx_x]\n",
    "assert query_h_truth.shape[0] == H3_ungenotyped.shape[0]\n",
    "\n",
    "# Count number of wrongly imputed sites per query haplotype.\n",
    "num_diff_sites_ts_viterbi = np.zeros(query_h_truth.shape[0], dtype=np.int32) - 1\n",
    "for i in np.arange(query_h_truth.shape[0]):\n",
    "    num_diff_sites_ts_viterbi[i] = np.sum(\n",
    "        np.invert(np.equal(query_h_truth[i, :], H3_ungenotyped[i, :]))\n",
    "    )\n"
   ]
  },
  {
   "cell_type": "code",
   "execution_count": null,
   "metadata": {},
   "outputs": [],
   "source": [
    "plt.hist(num_diff_sites_ts_beagle, bins=100)\n",
    "plt.title(\"tsimpute a la BEAGLE\")\n",
    "plt.ylabel(\"Number of query haplotypes\")\n",
    "plt.xlabel(\"Number of incorrectly imputed sites\");\n"
   ]
  },
  {
   "cell_type": "code",
   "execution_count": null,
   "metadata": {},
   "outputs": [],
   "source": [
    "plt.hist(num_diff_sites_ts_viterbi, bins=100)\n",
    "plt.title(\"tsimpute Viterbi\")\n",
    "plt.ylabel(\"Number of query haplotypes\")\n",
    "plt.xlabel(\"Number of incorrectly imputed sites\");\n"
   ]
  },
  {
   "cell_type": "code",
   "execution_count": null,
   "metadata": {},
   "outputs": [],
   "source": [
    "plt.scatter(\n",
    "    y=num_diff_sites_ts_beagle,\n",
    "    x=num_diff_sites_ts_viterbi,\n",
    ")\n",
    "plt.title(\"Number of incorrectly imputed sites\")\n",
    "plt.ylabel(\"tsimpute a la BEAGLE\")\n",
    "plt.xlabel(\"tsimpute Viterbi\");\n"
   ]
  },
  {
   "cell_type": "code",
   "execution_count": null,
   "metadata": {},
   "outputs": [],
   "source": [
    "print(np.median(num_diff_sites_ts_beagle))\n",
    "print(np.median(num_diff_sites_ts_viterbi))\n",
    "\n",
    "print(np.mean(num_diff_sites_ts_beagle))\n",
    "print(np.mean(num_diff_sites_ts_viterbi))\n"
   ]
  },
  {
   "cell_type": "code",
   "execution_count": null,
   "metadata": {},
   "outputs": [],
   "source": [
    "print(f\"Equally good: {np.sum(num_diff_sites_ts_beagle == num_diff_sites_ts_viterbi)}\")\n",
    "print(f\"a la BEAGLE is better: {np.sum(num_diff_sites_ts_beagle < num_diff_sites_ts_viterbi)}\")\n",
    "print(f\"a la BEAGLE is worse: {np.sum(num_diff_sites_ts_beagle > num_diff_sites_ts_viterbi)}\")\n"
   ]
  },
  {
   "cell_type": "code",
   "execution_count": null,
   "metadata": {},
   "outputs": [],
   "source": []
  }
 ],
 "metadata": {
  "kernelspec": {
   "display_name": "Python 3",
   "language": "python",
   "name": "python3"
  },
  "language_info": {
   "codemirror_mode": {
    "name": "ipython",
    "version": 3
   },
   "file_extension": ".py",
   "mimetype": "text/x-python",
   "name": "python",
   "nbconvert_exporter": "python",
   "pygments_lexer": "ipython3",
   "version": "3.9.0"
  },
  "orig_nbformat": 4
 },
 "nbformat": 4,
 "nbformat_minor": 2
}
