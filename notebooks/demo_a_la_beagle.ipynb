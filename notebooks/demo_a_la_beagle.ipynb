{
 "cells": [
  {
   "cell_type": "code",
   "execution_count": 1,
   "metadata": {},
   "outputs": [],
   "source": [
    "import _tskit\n",
    "import tskit\n",
    "\n",
    "import numpy as np\n",
    "\n",
    "import matplotlib.pyplot as plt\n",
    "\n",
    "import sys\n",
    "sys.path.append(\"/Users/szhan/Projects/tskit/python/tests/\")\n",
    "import beagle_numba\n",
    "\n",
    "sys.path.append(\"/Users/szhan/Projects/tsimpute/src/\")\n",
    "import impute_by_sample_matching as tsimpute\n",
    "import parallelise\n"
   ]
  },
  {
   "cell_type": "code",
   "execution_count": 2,
   "metadata": {},
   "outputs": [],
   "source": [
    "in_dir = \"/Users/szhan/Projects/tsimpute/notebooks/\"\n",
    "prefix = \"jacobs_ceu_ceu_2k\"\n"
   ]
  },
  {
   "cell_type": "code",
   "execution_count": 3,
   "metadata": {},
   "outputs": [
    {
     "data": {
      "text/html": [
       "\n",
       "            <div>\n",
       "              <style>\n",
       "                .tskit-table thead tr th {text-align: left;padding: 0.5em 0.5em;}\n",
       "                .tskit-table tbody tr td {padding: 0.5em 0.5em;}\n",
       "                .tskit-table tbody tr td:first-of-type {text-align: left;}\n",
       "                .tskit-details-label {vertical-align: top; padding-right:5px;}\n",
       "                .tskit-table-set {display: inline-flex;flex-wrap: wrap;margin: -12px 0 0 -12px;width: calc(100% + 12px);}\n",
       "                .tskit-table-set-table {margin: 12px 0 0 12px;}\n",
       "                details {display: inline-block;}\n",
       "                summary {cursor: pointer; outline: 0; display: list-item;}\n",
       "              </style>\n",
       "              <div class=\"tskit-table-set\">\n",
       "                <div class=\"tskit-table-set-table\">\n",
       "                  <table class=\"tskit-table\">\n",
       "                    <thead>\n",
       "                      <tr>\n",
       "                        <th style=\"padding:0;line-height:21px;\">\n",
       "                          <img style=\"height: 32px;display: inline-block;padding: 3px 5px 3px 0;\" src=\"https://raw.githubusercontent.com/tskit-dev/administrative/main/tskit_logo.svg\"/>\n",
       "                          <a target=\"_blank\" href=\"https://tskit.dev/tskit/docs/latest/python-api.html#the-treesequence-class\"> Tree Sequence </a>\n",
       "                        </th>\n",
       "                      </tr>\n",
       "                    </thead>\n",
       "                    <tbody>\n",
       "                      <tr><td>Trees</td><td>37706</td></tr>\n",
       "                      <tr><td>Sequence Length</td><td>10000000.0</td></tr>\n",
       "                      <tr><td>Time Units</td><td>uncalibrated</td></tr>\n",
       "                      <tr><td>Sample Nodes</td><td>3000</td></tr>\n",
       "                      <tr><td>Total Size</td><td>14.5 MiB</td></tr>\n",
       "                      <tr>\n",
       "                        <td>Metadata</td><td style=\"text-align: left;\">\n",
       "                <div>\n",
       "                  <span class=\"tskit-details-label\"></span>\n",
       "                  <details open>\n",
       "                    <summary>dict</summary>\n",
       "                    \n",
       "                  </details>\n",
       "                </div>\n",
       "                </td></tr>\n",
       "                    </tbody>\n",
       "                  </table>\n",
       "                </div>\n",
       "                <div class=\"tskit-table-set-table\">\n",
       "                  <table class=\"tskit-table\">\n",
       "                    <thead>\n",
       "                      <tr>\n",
       "                        <th style=\"line-height:21px;\">Table</th>\n",
       "                        <th>Rows</th>\n",
       "                        <th>Size</th>\n",
       "                        <th>Has Metadata</th>\n",
       "                      </tr>\n",
       "                    </thead>\n",
       "                    <tbody>\n",
       "                    \n",
       "                  <tr>\n",
       "                    <td>Edges</td>\n",
       "                      <td>147186</td>\n",
       "                      <td>4.5 MiB</td>\n",
       "                      <td style=\"text-align: center;\">\n",
       "                        \n",
       "                      </td>\n",
       "                    </tr>\n",
       "                \n",
       "                  <tr>\n",
       "                    <td>Individuals</td>\n",
       "                      <td>1500</td>\n",
       "                      <td>44.0 KiB</td>\n",
       "                      <td style=\"text-align: center;\">\n",
       "                        ✅\n",
       "                      </td>\n",
       "                    </tr>\n",
       "                \n",
       "                  <tr>\n",
       "                    <td>Migrations</td>\n",
       "                      <td>0</td>\n",
       "                      <td>8 Bytes</td>\n",
       "                      <td style=\"text-align: center;\">\n",
       "                        \n",
       "                      </td>\n",
       "                    </tr>\n",
       "                \n",
       "                  <tr>\n",
       "                    <td>Mutations</td>\n",
       "                      <td>72001</td>\n",
       "                      <td>2.5 MiB</td>\n",
       "                      <td style=\"text-align: center;\">\n",
       "                        \n",
       "                      </td>\n",
       "                    </tr>\n",
       "                \n",
       "                  <tr>\n",
       "                    <td>Nodes</td>\n",
       "                      <td>55255</td>\n",
       "                      <td>2.7 MiB</td>\n",
       "                      <td style=\"text-align: center;\">\n",
       "                        ✅\n",
       "                      </td>\n",
       "                    </tr>\n",
       "                \n",
       "                  <tr>\n",
       "                    <td>Populations</td>\n",
       "                      <td>0</td>\n",
       "                      <td>183 Bytes</td>\n",
       "                      <td style=\"text-align: center;\">\n",
       "                        \n",
       "                      </td>\n",
       "                    </tr>\n",
       "                \n",
       "                  <tr>\n",
       "                    <td>Provenances</td>\n",
       "                      <td>9</td>\n",
       "                      <td>12.1 KiB</td>\n",
       "                      <td style=\"text-align: center;\">\n",
       "                        \n",
       "                      </td>\n",
       "                    </tr>\n",
       "                \n",
       "                  <tr>\n",
       "                    <td>Sites</td>\n",
       "                      <td>72001</td>\n",
       "                      <td>3.5 MiB</td>\n",
       "                      <td style=\"text-align: center;\">\n",
       "                        ✅\n",
       "                      </td>\n",
       "                    </tr>\n",
       "                \n",
       "                    </tbody>\n",
       "                  </table>\n",
       "                </div>\n",
       "              </div>\n",
       "            </div>\n",
       "            "
      ],
      "text/plain": [
       "<tskit.trees.TreeSequence at 0x7fa1e4316a30>"
      ]
     },
     "execution_count": 3,
     "metadata": {},
     "output_type": "execute_result"
    }
   ],
   "source": [
    "#ref_ts_file = in_dir + \"/\" + prefix + \".ref.trees\"\n",
    "ref_ts_file = \"./jacobs_ceu_ceu_2k/default.inferred.trees\"\n",
    "ref_ts = tskit.load(ref_ts_file)\n",
    "ref_ts\n"
   ]
  },
  {
   "cell_type": "code",
   "execution_count": 7,
   "metadata": {},
   "outputs": [],
   "source": [
    "npy_query_file = in_dir + \"/\" + prefix + \".query.npy\"\n",
    "with open(npy_query_file, 'rb') as f:\n",
    "    ts_query_h = np.load(f)\n",
    "    ts_query_h_masked = np.load(f)\n",
    "    genotyped_markers = np.load(f)\n",
    "    ungenotyped_markers = np.load(f)\n",
    "    genotyped_site_pos = np.load(f)\n",
    "    ungenotyped_site_pos = np.load(f)\n"
   ]
  },
  {
   "cell_type": "code",
   "execution_count": 8,
   "metadata": {},
   "outputs": [],
   "source": [
    "ref_ts_m = ref_ts.delete_sites(site_ids=ungenotyped_markers)\n",
    "ref_ts_x = ref_ts.delete_sites(site_ids=genotyped_markers)\n",
    "ref_h_x = ref_ts_x.genotype_matrix(alleles=tskit.ALLELES_ACGT)\n"
   ]
  },
  {
   "cell_type": "markdown",
   "metadata": {},
   "source": [
    "### Impute a la BEAGLE"
   ]
  },
  {
   "cell_type": "code",
   "execution_count": null,
   "metadata": {},
   "outputs": [],
   "source": [
    "# ACGT encoding\n",
    "query_h_m = ts_query_h[genotyped_markers, :].T\n",
    "print(query_h_m.shape)\n"
   ]
  },
  {
   "cell_type": "code",
   "execution_count": null,
   "metadata": {},
   "outputs": [],
   "source": [
    "mu = beagle_numba.get_mismatch_prob(genotyped_site_pos, miscall_rate=1e-8)\n",
    "rho = beagle_numba.get_switch_prob(genotyped_site_pos, h=ref_ts.num_samples, ne=10_000.0)\n",
    "rho /= 1e5\n",
    "\n",
    "alleles = np.arange(4)\n",
    "imputed_alleles = np.zeros((query_h_m.shape[0], len(ungenotyped_markers)), dtype=np.int32)\n",
    "max_allele_probs = np.zeros((query_h_m.shape[0], len(ungenotyped_markers)), dtype=np.float64)\n",
    "\n",
    "for i in np.arange(query_h_m.shape[0]):\n",
    "    fm = _tskit.CompressedMatrix(ref_ts_m._ll_tree_sequence)\n",
    "    bm = _tskit.CompressedMatrix(ref_ts_m._ll_tree_sequence)\n",
    "    # WARN: Change allele encoding.\n",
    "    ls_hmm = _tskit.LsHmm(ref_ts_m._ll_tree_sequence, mu, rho, acgt_alleles=True)\n",
    "    ls_hmm.forward_matrix(query_h_m[i, :], fm)\n",
    "    ls_hmm.backward_matrix(query_h_m[i, :], fm.normalisation_factor, bm)\n",
    "    sm = beagle_numba.compute_state_probability_matrix(\n",
    "        fm.decode(),\n",
    "        bm.decode(),\n",
    "    )\n",
    "    ap = beagle_numba.interpolate_allele_probabilities(\n",
    "        sm,\n",
    "        ref_h_x,\n",
    "        alleles,\n",
    "        genotyped_site_pos,\n",
    "        ungenotyped_site_pos,\n",
    "    )\n",
    "    ia, map = beagle_numba.get_map_alleles(ap)\n",
    "    imputed_alleles[i, :] = ia\n",
    "    max_allele_probs[i, :] = map\n"
   ]
  },
  {
   "cell_type": "markdown",
   "metadata": {},
   "source": [
    "### Impute using the Viteri path"
   ]
  },
  {
   "cell_type": "code",
   "execution_count": 45,
   "metadata": {},
   "outputs": [
    {
     "name": "stdout",
     "output_type": "stream",
     "text": [
      "(1000, 72001)\n"
     ]
    }
   ],
   "source": [
    "mu = beagle_numba.get_mismatch_prob(ref_ts.sites_position, miscall_rate=1e-8)\n",
    "rho = beagle_numba.get_switch_prob(ref_ts.sites_position, h=ref_ts.num_samples, ne=10_000.0)\n",
    "rho /= 1e5\n",
    "\n",
    "H1 = ts_query_h_masked.T\n",
    "print(H1.shape)\n",
    "\n",
    "H2 = np.zeros_like(H1)\n",
    "\n",
    "def wrapper_get_traceback_path(arg):\n",
    "    H2 = tsimpute.get_traceback_path(\n",
    "        ts=arg['ts'],\n",
    "        sample_sequence=arg['H1'],\n",
    "        recombination_rates=arg['switch_prob'],\n",
    "        mutation_rates=arg['mismatch_prob'],\n",
    "        precision=arg['precision'],\n",
    "    )\n",
    "    return H2\n",
    "\n",
    "H2_args = []\n",
    "for i in np.arange(H1.shape[0]):\n",
    "    H2_args.append({'ts': ref_ts, 'H1': H1[i, :], 'switch_prob': rho, 'mismatch_prob': mu, 'precision': 25})\n",
    "\n",
    "parallel_runs = parallelise.threaded_map(wrapper_get_traceback_path, H2_args, 6)\n",
    "for i, result in enumerate(parallel_runs):\n",
    "    H2[i, :] = result\n"
   ]
  },
  {
   "cell_type": "code",
   "execution_count": 46,
   "metadata": {},
   "outputs": [
    {
     "name": "stderr",
     "output_type": "stream",
     "text": [
      "100%|██████████| 72001/72001 [00:01<00:00, 50234.61it/s]\n"
     ]
    }
   ],
   "source": [
    "H3 = tsimpute.impute_samples(ref_ts, H2)\n"
   ]
  },
  {
   "cell_type": "code",
   "execution_count": 47,
   "metadata": {},
   "outputs": [],
   "source": [
    "# Change file name\n",
    "npy_results_file = prefix + \".ts_imputed.inferred_genealogy.results.npy\"\n",
    "with open(npy_results_file, 'wb') as f:\n",
    "    #np.save(f, imputed_alleles)\n",
    "    #np.save(f, max_allele_probs)\n",
    "    np.save(f, H1)\n",
    "    np.save(f, H2)\n",
    "    np.save(f, H3)\n",
    "    np.save(f, genotyped_markers)\n",
    "    np.save(f, ungenotyped_markers)\n",
    "    np.save(f, genotyped_site_pos)\n",
    "    np.save(f, ungenotyped_site_pos)\n"
   ]
  },
  {
   "cell_type": "markdown",
   "metadata": {},
   "source": [
    "### Compare imputation results"
   ]
  },
  {
   "cell_type": "code",
   "execution_count": null,
   "metadata": {},
   "outputs": [],
   "source": [
    "# Subset to ungenotyped markers in groundtruth data.\n",
    "query_h_truth = ts_query_h[ungenotyped_markers, :].T\n",
    "assert not np.any(query_h_truth == -1)\n",
    "assert query_h_truth.shape[0] == imputed_alleles.shape[0]\n",
    "\n",
    "# Count number of wrongly imputed sites per query haplotype\n",
    "num_diff_sites_beagle = np.zeros(query_h_truth.shape[0], dtype=np.int32) - 1\n",
    "for i in np.arange(query_h_truth.shape[0]):\n",
    "    num_diff_sites_beagle[i] = np.sum(\n",
    "        np.invert(np.equal(query_h_truth[i, :], imputed_alleles[i, :]))\n",
    "    )\n"
   ]
  },
  {
   "cell_type": "code",
   "execution_count": null,
   "metadata": {},
   "outputs": [],
   "source": [
    "# Subset to ungenotyped markers in groundtruth data.\n",
    "query_h_truth = ts_query_h[ungenotyped_markers, :].T\n",
    "assert not np.any(query_h_truth == -1)\n",
    "H3_ungenotyped = H3[:, ungenotyped_markers]\n",
    "assert query_h_truth.shape[0] == H3_ungenotyped.shape[0]\n",
    "\n",
    "# Count number of wrongly imputed sites per query haplotype\n",
    "num_diff_sites_path = np.zeros(query_h_truth.shape[0], dtype=np.int32) - 1\n",
    "for i in np.arange(query_h_truth.shape[0]):\n",
    "    num_diff_sites_path[i] = np.sum(\n",
    "        np.invert(np.equal(query_h_truth[i, :], H3_ungenotyped[i, :]))\n",
    "    )\n"
   ]
  },
  {
   "cell_type": "code",
   "execution_count": null,
   "metadata": {},
   "outputs": [],
   "source": [
    "plt.hist(num_diff_sites_beagle, bins=100)\n",
    "plt.title(\"a la BEAGLE\")\n",
    "plt.ylabel(\"Number of query haplotypes\")\n",
    "plt.xlabel(\"Number of incorrectly imputed sites\");\n"
   ]
  },
  {
   "cell_type": "code",
   "execution_count": null,
   "metadata": {},
   "outputs": [],
   "source": [
    "plt.hist(num_diff_sites_path, bins=100)\n",
    "plt.title(\"Using Viterbi path\")\n",
    "plt.ylabel(\"Number of query haplotypes\")\n",
    "plt.xlabel(\"Number of incorrectly imputed sites\");\n"
   ]
  },
  {
   "cell_type": "code",
   "execution_count": null,
   "metadata": {},
   "outputs": [],
   "source": [
    "plt.scatter(\n",
    "    y=num_diff_sites_beagle,\n",
    "    x=num_diff_sites_path\n",
    ")\n",
    "plt.title(\"Number of incorrectly imputed sites\")\n",
    "plt.ylabel(\"a la BEAGLE\")\n",
    "plt.xlabel(\"Using Viterbi path\");\n"
   ]
  },
  {
   "cell_type": "code",
   "execution_count": null,
   "metadata": {},
   "outputs": [],
   "source": [
    "print(np.mean(num_diff_sites_beagle))\n",
    "print(np.mean(num_diff_sites_path))\n"
   ]
  },
  {
   "cell_type": "code",
   "execution_count": null,
   "metadata": {},
   "outputs": [],
   "source": [
    "print(f\"Equally good: {np.sum(num_diff_sites_beagle == num_diff_sites_path)}\")\n",
    "print(f\"a la BEAGLE is better: {np.sum(num_diff_sites_beagle < num_diff_sites_path)}\")\n",
    "print(f\"a la BEAGLE is worse: {np.sum(num_diff_sites_beagle > num_diff_sites_path)}\")\n"
   ]
  },
  {
   "cell_type": "code",
   "execution_count": null,
   "metadata": {},
   "outputs": [],
   "source": []
  }
 ],
 "metadata": {
  "kernelspec": {
   "display_name": "Python 3",
   "language": "python",
   "name": "python3"
  },
  "language_info": {
   "codemirror_mode": {
    "name": "ipython",
    "version": 3
   },
   "file_extension": ".py",
   "mimetype": "text/x-python",
   "name": "python",
   "nbconvert_exporter": "python",
   "pygments_lexer": "ipython3",
   "version": "3.9.0"
  },
  "orig_nbformat": 4
 },
 "nbformat": 4,
 "nbformat_minor": 2
}
