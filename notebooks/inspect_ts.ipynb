{
 "cells": [
  {
   "cell_type": "code",
   "execution_count": null,
   "metadata": {},
   "outputs": [],
   "source": [
    "import numpy as np\n",
    "import pandas as pd\n",
    "import matplotlib.pyplot as plt\n",
    "\n",
    "import tskit\n",
    "import tsinfer\n",
    "\n",
    "print(f\"tskit {tskit.__version__}\")\n",
    "print(f\"tsinfer {tsinfer.__version__}\")"
   ]
  },
  {
   "cell_type": "markdown",
   "metadata": {},
   "source": [
    "### Load data"
   ]
  },
  {
   "cell_type": "code",
   "execution_count": null,
   "metadata": {},
   "outputs": [],
   "source": [
    "ts_file = \"/Users/szhan/Projects/tsimpute/analysis/test/single_panmictic_inferred_default.inferred.trees\""
   ]
  },
  {
   "cell_type": "code",
   "execution_count": null,
   "metadata": {},
   "outputs": [],
   "source": [
    "ts = tskit.load(ts_file)\n",
    "ts"
   ]
  },
  {
   "cell_type": "markdown",
   "metadata": {},
   "source": [
    "### Correlation between edge span and edge time"
   ]
  },
  {
   "cell_type": "code",
   "execution_count": null,
   "metadata": {},
   "outputs": [],
   "source": [
    "edge_spans = ts.edges_right - ts.edges_left\n",
    "edge_parent_times = ts.nodes_time[ts.edges_parent]\n",
    "edge_child_times = ts.nodes_time[ts.edges_child]\n",
    "\n",
    "if edge_spans[-1] == ts.sequence_length:\n",
    "    edge_spans = edge_spans[:-2]\n",
    "    edge_parent_times = edge_parent_times[:-2]\n",
    "    edge_child_times = edge_child_times[:-2]\n",
    "\n",
    "edge_spans = edge_spans / 1e6\n",
    "\n",
    "df_edges = pd.DataFrame({\n",
    "    'edge_spans': edge_spans,\n",
    "    'edge_parent_times': edge_parent_times,\n",
    "    'edge_child_times': edge_child_times,\n",
    "})"
   ]
  },
  {
   "cell_type": "code",
   "execution_count": null,
   "metadata": {},
   "outputs": [],
   "source": [
    "plt.figure(figsize=(20, 20,))\n",
    "\n",
    "plt.subplot(331)\n",
    "plt.title(\"Range: 0.0 - 1.0\", fontsize=\"xx-large\")\n",
    "plt.xlabel(\"Edge parent time\", fontsize=\"x-large\")\n",
    "plt.ylabel(\"Edge span (Mb)\", fontsize=\"x-large\")\n",
    "plt.xlim(0.0, 1.0)\n",
    "plt.plot(\n",
    "    df_edges[\"edge_parent_times\"],\n",
    "    df_edges[\"edge_spans\"],\n",
    "    linestyle='none', marker='+', markersize=6, alpha=0.2,\n",
    ");\n",
    "\n",
    "plt.subplot(332)\n",
    "plt.title(\"Range: 0.0 - 0.1\", fontsize=\"xx-large\")\n",
    "plt.xlabel(\"Edge parent time\", fontsize=\"x-large\")\n",
    "plt.ylabel(\"Edge span (Mb)\", fontsize=\"x-large\")\n",
    "plt.xlim(0.0, 0.1)\n",
    "plt.plot(\n",
    "    df_edges[\"edge_parent_times\"],\n",
    "    df_edges[\"edge_spans\"],\n",
    "    linestyle='none', marker='+', markersize=6, alpha=0.2,\n",
    ");\n",
    "\n",
    "plt.subplot(333)\n",
    "plt.title(\"Range: 0.9 - 1.0\", fontsize=\"xx-large\")\n",
    "plt.xlabel(\"Edge parent time\", fontsize=\"x-large\")\n",
    "plt.ylabel(\"Edge span (Mb)\", fontsize=\"x-large\")\n",
    "plt.xlim(0.9, 1.0)\n",
    "plt.plot(\n",
    "    df_edges[\"edge_parent_times\"],\n",
    "    df_edges[\"edge_spans\"],\n",
    "    linestyle='none', marker='+', markersize=6, alpha=0.2,\n",
    ");\n",
    "\n",
    "plt.subplot(334)\n",
    "plt.title(\"Range: 0.0 - 1.0\", fontsize=\"xx-large\")\n",
    "plt.xlabel(\"Edge child time\", fontsize=\"x-large\")\n",
    "plt.ylabel(\"Edge span (Mb)\", fontsize=\"x-large\")\n",
    "plt.plot(\n",
    "    df_edges[\"edge_child_times\"],\n",
    "    df_edges[\"edge_spans\"],\n",
    "    linestyle='none', marker='+', markersize=6, alpha=0.2,\n",
    ");\n",
    "\n",
    "plt.subplot(335)\n",
    "plt.title(\"Range: 0.0 - 0.1\", fontsize=\"xx-large\")\n",
    "plt.xlabel(\"Edge child time\", fontsize=\"x-large\")\n",
    "plt.ylabel(\"Edge span (Mb)\", fontsize=\"x-large\")\n",
    "plt.xlim(0.0, 0.1)\n",
    "plt.plot(\n",
    "    df_edges[\"edge_child_times\"],\n",
    "    df_edges[\"edge_spans\"],\n",
    "    linestyle='none', marker='+', markersize=6, alpha=0.2,\n",
    ");\n",
    "\n",
    "plt.subplot(336)\n",
    "plt.title(\"Range: 0.9 - 1.0\", fontsize=\"xx-large\")\n",
    "plt.xlabel(\"Edge child time\", fontsize=\"x-large\")\n",
    "plt.ylabel(\"Edge span (Mb)\", fontsize=\"x-large\")\n",
    "plt.xlim(0.9, 1.0)\n",
    "plt.plot(\n",
    "    df_edges[\"edge_child_times\"],\n",
    "    df_edges[\"edge_spans\"],\n",
    "    linestyle='none', marker='+', markersize=6, alpha=0.2,\n",
    ");\n",
    "\n",
    "plt.show()"
   ]
  },
  {
   "cell_type": "markdown",
   "metadata": {},
   "source": [
    "### Correlation between node span and node time"
   ]
  },
  {
   "cell_type": "code",
   "execution_count": null,
   "metadata": {},
   "outputs": [],
   "source": [
    "node_spans = tsinfer.node_span(ts)\n",
    "node_times = ts.nodes_time\n",
    "\n",
    "if node_spans[-1] == ts.sequence_length:\n",
    "    node_spans = node_spans[:-2]\n",
    "    node_times = node_times[:-2]\n",
    "\n",
    "node_spans = node_spans / 1e6\n",
    "\n",
    "df_nodes = pd.DataFrame({\n",
    "    'node_spans': node_spans,\n",
    "    'node_times': node_times,\n",
    "})"
   ]
  },
  {
   "cell_type": "code",
   "execution_count": null,
   "metadata": {},
   "outputs": [],
   "source": [
    "plt.figure(figsize=(20, 5,))\n",
    "\n",
    "plt.subplot(131)\n",
    "plt.title(\"Range: 0.0 - 1.0\", fontsize=\"xx-large\")\n",
    "plt.xlabel(\"Node time\", fontsize=\"x-large\")\n",
    "plt.ylabel(\"Node span (Mb)\", fontsize=\"x-large\")\n",
    "plt.plot(\n",
    "    df_nodes[\"node_times\"],\n",
    "    df_nodes[\"node_spans\"],\n",
    "    linestyle='none', marker='+', markersize=6, alpha=0.2,\n",
    ");\n",
    "\n",
    "plt.subplot(132)\n",
    "plt.title(\"Range: 0.0 - 0.1\", fontsize=\"xx-large\")\n",
    "plt.xlabel(\"Node time\", fontsize=\"x-large\")\n",
    "plt.ylabel(\"Node span (Mb)\", fontsize=\"x-large\")\n",
    "plt.xlim(0.0, 0.1)\n",
    "plt.plot(\n",
    "    df_nodes[\"node_times\"],\n",
    "    df_nodes[\"node_spans\"],\n",
    "    linestyle='none', marker='+', markersize=6, alpha=0.2,\n",
    ");\n",
    "\n",
    "plt.subplot(133)\n",
    "plt.title(\"Range: 0.9 - 1.0\", fontsize=\"xx-large\")\n",
    "plt.xlabel(\"Node time\", fontsize=\"x-large\")\n",
    "plt.ylabel(\"Node span (Mb)\", fontsize=\"x-large\")\n",
    "plt.xlim(0.9, 1.0)\n",
    "plt.plot(\n",
    "    df_nodes[\"node_times\"],\n",
    "    df_nodes[\"node_spans\"],\n",
    "    linestyle='none', marker='+', markersize=6, alpha=0.2,\n",
    ");"
   ]
  },
  {
   "cell_type": "markdown",
   "metadata": {},
   "source": [
    "### Distribution of mutations per site"
   ]
  },
  {
   "cell_type": "code",
   "execution_count": null,
   "metadata": {},
   "outputs": [],
   "source": [
    "site_pos, counts = np.unique(ts.mutations_site, return_counts=True)\n",
    "num_sites_with_mutation = len(site_pos)\n",
    "print(f\"Sites total: {'{:,}'.format(ts.num_sites)}\")\n",
    "print(f\"Sites with >= 1 mutation: {'{:,}'.format(num_sites_with_mutation)}\")\n",
    "print(f\"Sites with >= 1 mutation: {round(num_sites_with_mutation / ts.num_sites, 2)}\")"
   ]
  },
  {
   "cell_type": "code",
   "execution_count": null,
   "metadata": {},
   "outputs": [],
   "source": [
    "plt.figure(figsize=(10, 5,))\n",
    "plt.ylabel(\"Site count\", fontsize=\"xx-large\")\n",
    "plt.xlabel(\"Number of mutations\", fontsize=\"xx-large\")\n",
    "plt.hist(counts, bins=range(11));\n",
    "plt.show()"
   ]
  },
  {
   "cell_type": "markdown",
   "metadata": {},
   "source": [
    "### Distribution of arity"
   ]
  },
  {
   "cell_type": "code",
   "execution_count": null,
   "metadata": {},
   "outputs": [],
   "source": [
    "# Unsimplified, a tree sequence contains unary nodes,\n",
    "# so exclude them before calculating arity.\n",
    "ts_simplified = ts.simplify()\n",
    "\n",
    "# For each tree, take the mean arity across its nodes.\n",
    "tree_arity = np.empty(ts_simplified.num_trees - 2)\n",
    "for i, tree in enumerate(ts_simplified.trees()):\n",
    "    # Exclude the first and last trees, as the parent id of all the nodes are -1.\n",
    "    if i in [0, ts_simplified.num_trees - 1]:\n",
    "        continue\n",
    "    parent_id, count = np.unique(tree.parent_array[tree.preorder()], return_counts=True)\n",
    "    tree_arity[i - 1] = count[parent_id != tskit.NULL].mean()\n",
    "\n",
    "# For each node, take the mean arity across trees.\n",
    "# Exclude the sample nodes, as they have arity of 0.\n",
    "node_arity = np.zeros(ts_simplified.num_nodes - ts_simplified.num_samples)\n",
    "node_span = np.zeros(ts_simplified.num_nodes - ts_simplified.num_samples)\n",
    "for tree in ts_simplified.trees():\n",
    "    node_arity += tree.num_children_array[ts_simplified.num_samples:-1] * tree.span\n",
    "    node_span[tree.num_children_array[ts_simplified.num_samples:-1] > 0] += tree.span\n",
    "node_arity /= node_span"
   ]
  },
  {
   "cell_type": "code",
   "execution_count": null,
   "metadata": {},
   "outputs": [],
   "source": [
    "plt.figure(figsize=(12, 12,))\n",
    "\n",
    "plt.subplot(221)\n",
    "plt.title(\"Mean arity of internal nodes in a tree\", fontsize=\"xx-large\")\n",
    "plt.ylabel(\"Mean arity\", fontsize=\"x-large\")\n",
    "plt.xlabel(\"Tree index\", fontsize=\"x-large\")\n",
    "plt.plot(\n",
    "    np.arange(tree_arity.shape[0]),\n",
    "    tree_arity,\n",
    "    linestyle=\"none\", marker=\"+\", markersize=6, alpha=0.2,\n",
    ");\n",
    "\n",
    "plt.subplot(222)\n",
    "plt.title(\"Mean arity of internal nodes in a tree\", fontsize=\"xx-large\")\n",
    "plt.ylabel(\"Tree count\", fontsize=\"x-large\")\n",
    "plt.xlabel(\"Mean arity\", fontsize=\"x-large\")\n",
    "plt.hist(tree_arity, bins=50);\n",
    "\n",
    "plt.subplot(223)\n",
    "plt.title(\"Mean arity of a node across trees\", fontsize=\"xx-large\")\n",
    "plt.ylabel(\"Mean arity\", fontsize=\"x-large\")\n",
    "plt.xlabel(\"Node time\", fontsize=\"x-large\")\n",
    "plt.plot(\n",
    "    ts_simplified.nodes_time[ts_simplified.num_samples:],\n",
    "    node_arity,\n",
    "    linestyle='none', marker='+', markersize=6, alpha=0.2,\n",
    ");\n",
    "\n",
    "plt.subplot(224)\n",
    "plt.title(\"Mean arity of a node across trees\", fontsize=\"xx-large\")\n",
    "plt.ylabel(\"Mean arity\", fontsize=\"x-large\")\n",
    "plt.xlabel(\"Node time\", fontsize=\"x-large\")\n",
    "plt.ylim(0, 3)\n",
    "plt.plot(\n",
    "    ts_simplified.nodes_time[ts_simplified.num_samples:],\n",
    "    node_arity,\n",
    "    linestyle='none', marker='+', markersize=6, alpha=0.2,\n",
    ")\n",
    "\n",
    "plt.show()"
   ]
  },
  {
   "cell_type": "markdown",
   "metadata": {},
   "source": [
    "### Distribution of edge diffs"
   ]
  },
  {
   "cell_type": "code",
   "execution_count": null,
   "metadata": {},
   "outputs": [],
   "source": [
    "tree_edges_out = np.empty(ts.num_trees)\n",
    "tree_edges_in = np.empty(ts.num_trees)\n",
    "for i, (interval, edges_out, edges_in,) in enumerate(ts.edge_diffs()):\n",
    "    tree_edges_out[i] = len(edges_out)\n",
    "    tree_edges_in[i] = len(edges_in)"
   ]
  },
  {
   "cell_type": "code",
   "execution_count": null,
   "metadata": {},
   "outputs": [],
   "source": [
    "# Exclude the first, second, penultimate, and last sets of edge diffs.\n",
    "plt.figure(figsize=(12, 12,))\n",
    "\n",
    "plt.subplot(221)\n",
    "plt.title(\"Edges OUT\", fontsize=\"x-large\")\n",
    "plt.ylabel(\"Number of edges\", fontsize=\"x-large\")\n",
    "plt.xlabel(\"Tree index\", fontsize=\"x-large\")\n",
    "plt.plot(\n",
    "    np.arange(2, ts.num_trees - 2),\n",
    "    tree_edges_out[2:-2],\n",
    "    linestyle=\"none\", marker=\"+\", markersize=6, alpha=0.2,\n",
    ");\n",
    "\n",
    "plt.subplot(222)\n",
    "plt.title(\"Edges OUT\", fontsize=\"x-large\")\n",
    "plt.ylabel(\"Tree count\", fontsize=\"x-large\")\n",
    "plt.xlabel(\"Number of edges\", fontsize=\"x-large\")\n",
    "plt.hist(tree_edges_out[2:-2], bins=50);\n",
    "\n",
    "plt.subplot(223)\n",
    "plt.title(\"Edges IN\", fontsize=\"x-large\")\n",
    "plt.ylabel(\"Number of edges\", fontsize=\"x-large\")\n",
    "plt.xlabel(\"Tree index\", fontsize=\"x-large\")\n",
    "plt.plot(\n",
    "    np.arange(2, ts.num_trees - 2),\n",
    "    tree_edges_in[2:-2],\n",
    "    linestyle=\"none\", marker=\"+\", markersize=6, alpha=0.2,\n",
    ");\n",
    "\n",
    "plt.subplot(224)\n",
    "plt.title(\"Edges IN\", fontsize=\"x-large\")\n",
    "plt.ylabel(\"Tree count\", fontsize=\"x-large\")\n",
    "plt.xlabel(\"Number of edges\", fontsize=\"x-large\")\n",
    "plt.hist(tree_edges_in[2:-2], bins=50);\n",
    "\n",
    "plt.show()"
   ]
  },
  {
   "cell_type": "markdown",
   "metadata": {},
   "source": [
    "### Sample edges"
   ]
  },
  {
   "cell_type": "code",
   "execution_count": null,
   "metadata": {},
   "outputs": [],
   "source": [
    "per_sample_num_edges = np.empty(ts.num_samples)\n",
    "per_sample_bkpt_density = np.empty(ts.num_samples)\n",
    "per_sample_mean_parent_time = np.empty(ts.num_samples)\n",
    "\n",
    "# TODO: Is there a faster way than appending to a Python list?\n",
    "left_coords_all = []\n",
    "parent_times_all = []\n",
    "\n",
    "all_edges = ts.tables.edges\n",
    "for i in ts.samples():\n",
    "    assert ts.nodes_time[i] == 0\n",
    "    # Subset edges table\n",
    "    tmp_tb = all_edges[ts.tables.edges.child == i]\n",
    "    # Get number of edges copying into a sample\n",
    "    tmp_num_edges = tmp_tb.child.shape[0]\n",
    "    per_sample_num_edges[i] = tmp_num_edges\n",
    "    # Get the left coordinates of these edges\n",
    "    tmp_left_coords = tmp_tb.left\n",
    "    left_coords_all += list(tmp_left_coords)\n",
    "    # Get the parent times of these edges\n",
    "    tmp_parent_times = ts.nodes_time[tmp_tb.parent]\n",
    "    parent_times_all += list(tmp_parent_times)\n",
    "    assert tmp_left_coords.shape[0] == tmp_parent_times.shape[0]\n",
    "    # Get the per-sample breakpoint density (per 1 Mb)\n",
    "    per_sample_bkpt_density[i] = tmp_left_coords.shape[0] / (ts.sequence_length / 1e6)\n",
    "    # Get the per-sample mean parent time\n",
    "    per_sample_mean_parent_time[i] = np.mean(tmp_parent_times)\n",
    "\n",
    "left_coords_all = np.array(left_coords_all)\n",
    "parent_times_all = np.array(parent_times_all)"
   ]
  },
  {
   "cell_type": "code",
   "execution_count": null,
   "metadata": {},
   "outputs": [],
   "source": [
    "plt.figure(figsize=(20, 5,))\n",
    "\n",
    "plt.subplot(131)\n",
    "plt.ylabel(\"Sample counts\", fontsize=\"x-large\")\n",
    "plt.xlabel(\"Number of edges\", fontsize=\"x-large\")\n",
    "plt.hist(per_sample_num_edges, bins=20);\n",
    "\n",
    "plt.subplot(132)\n",
    "plt.ylabel(\"Sample counts\", fontsize=\"x-large\")\n",
    "plt.xlabel(\"Breakpoint density (per 1 Mb)\", fontsize=\"x-large\")\n",
    "plt.hist(per_sample_bkpt_density, bins=20);\n",
    "\n",
    "plt.subplot(133)\n",
    "plt.ylabel(\"Sample counts\", fontsize=\"x-large\")\n",
    "plt.xlabel(\"Mean parent time\", fontsize=\"x-large\")\n",
    "plt.hist(per_sample_mean_parent_time, bins=20);\n",
    "\n",
    "plt.show()"
   ]
  },
  {
   "cell_type": "code",
   "execution_count": null,
   "metadata": {},
   "outputs": [],
   "source": [
    "plt.figure(figsize=(15, 8,))\n",
    "plt.title(\"Parent times of edges along the sequence\", fontsize=\"xx-large\")\n",
    "plt.ylabel(\"Parent time\", fontsize=\"xx-large\")\n",
    "plt.xlabel(\"Position of the left coordinate\", fontsize=\"xx-large\")\n",
    "plt.plot(\n",
    "    left_coords_all,\n",
    "    parent_times_all,\n",
    "    linestyle=\"none\", marker=\"+\", markersize=6, alpha=0.4,\n",
    ");\n",
    "plt.show()"
   ]
  },
  {
   "cell_type": "code",
   "execution_count": null,
   "metadata": {},
   "outputs": [],
   "source": [
    "num_bins = int(np.ceil(ts.sequence_length / 1e6))\n",
    "bkpt_binned_counts = np.zeros(num_bins)\n",
    "for i in np.arange(num_bins):\n",
    "    is_right = i * 1e6 <= left_coords_all\n",
    "    is_left = left_coords_all < (i + 1) * 1e6\n",
    "    bkpt_binned_counts[i] = np.sum(is_right & is_left) / 1e6    # No need to normalize"
   ]
  },
  {
   "cell_type": "code",
   "execution_count": null,
   "metadata": {},
   "outputs": [],
   "source": [
    "plt.figure(figsize=(15, 8,))\n",
    "plt.title(\"Breakpoint density along the sequence (combining all the sample edges)\", fontsize=\"xx-large\")\n",
    "plt.ylabel(\"Breakpoint density (per 1 Mbp)\", fontsize=\"x-large\")\n",
    "plt.xlabel(\"Position (1 Mbp bins)\", fontsize=\"x-large\")\n",
    "plt.bar(\n",
    "    np.arange(num_bins),\n",
    "    bkpt_binned_counts,\n",
    ");\n",
    "plt.show()"
   ]
  },
  {
   "cell_type": "markdown",
   "metadata": {},
   "source": [
    "### Sites per tree"
   ]
  },
  {
   "cell_type": "code",
   "execution_count": null,
   "metadata": {},
   "outputs": [],
   "source": [
    "per_tree_num_sites = np.empty(ts.num_trees)\n",
    "tree_span = np.empty(ts.num_trees)\n",
    "for i, t in enumerate(ts.trees()):\n",
    "    per_tree_num_sites[i] = t.num_sites\n",
    "    tree_span[i] = t.span"
   ]
  },
  {
   "cell_type": "code",
   "execution_count": null,
   "metadata": {},
   "outputs": [],
   "source": [
    "plt.figure(figsize=(20, 5,))\n",
    "\n",
    "plt.subplot(131)\n",
    "plt.ylabel(\"Number of sites\", fontsize=\"x-large\")\n",
    "plt.xlabel(\"Tree index\", fontsize=\"x-large\")\n",
    "plt.bar(\n",
    "    np.arange(ts.num_trees),\n",
    "    per_tree_num_sites\n",
    ");\n",
    "\n",
    "plt.subplot(132)\n",
    "plt.ylabel(\"Tree count\", fontsize=\"x-large\")\n",
    "plt.xlabel(\"Number of sites\", fontsize=\"x-large\")\n",
    "plt.hist(per_tree_num_sites, bins=range(int(np.max(per_tree_num_sites))));\n",
    "\n",
    "plt.subplot(133)\n",
    "plt.ylabel(\"Number of sites\", fontsize=\"x-large\")\n",
    "plt.xlabel(\"Tree span (bp)\", fontsize=\"x-large\")\n",
    "plt.plot(\n",
    "    tree_span,\n",
    "    per_tree_num_sites,\n",
    "    linestyle=\"none\",\n",
    "    marker=\"+\",\n",
    "    markersize=6,\n",
    ");\n",
    "\n",
    "plt.show()"
   ]
  },
  {
   "cell_type": "markdown",
   "metadata": {},
   "source": [
    "### Minor allele frequencies"
   ]
  },
  {
   "cell_type": "code",
   "execution_count": null,
   "metadata": {},
   "outputs": [],
   "source": [
    "# Min threshold to define common minor alleles\n",
    "min_maf_threshold = 0.05\n",
    "\n",
    "maf = np.zeros(ts.num_sites)\n",
    "for i, v in enumerate(ts.variants()):\n",
    "    maf[i] = min(v.frequencies(remove_missing=True).values())\n",
    "    if maf[i] == 0:\n",
    "        print(v.site.position, v.frequencies())\n",
    "\n",
    "num_bins = int(np.ceil(ts.sequence_length / 1e6))\n",
    "maf_binned_counts = np.zeros(num_bins)\n",
    "for i in np.arange(num_bins):\n",
    "    is_right = i * 1e6 < ts.sites_position\n",
    "    is_left = ts.sites_position <= (i + 1) * 1e6\n",
    "    is_lt_min = maf < min_maf_threshold\n",
    "    maf_binned_counts[i] = np.sum(is_right & is_left & is_lt_min)"
   ]
  },
  {
   "cell_type": "code",
   "execution_count": null,
   "metadata": {},
   "outputs": [],
   "source": [
    "plt.figure(figsize=(15, 8,))\n",
    "plt.title(\"Sites with low MAF along the sequence\", fontsize=\"xx-large\")\n",
    "plt.ylabel(f\"Count of sites with MAF < {min_maf_threshold}\", fontsize=\"x-large\")\n",
    "plt.xlabel(\"Position (1 Mbp)\", fontsize=\"x-large\")\n",
    "plt.bar(\n",
    "    np.arange(num_bins),\n",
    "    maf_binned_counts,\n",
    ");"
   ]
  },
  {
   "cell_type": "code",
   "execution_count": null,
   "metadata": {},
   "outputs": [],
   "source": [
    "# Not more useful than above.\n",
    "D = ts.Tajimas_D(mode=\"site\", windows=\"sites\")\n",
    "plt.figure(figsize=(15, 8,))\n",
    "plt.title(\"Tajima's D along the sequence\", fontsize=\"xx-large\")\n",
    "plt.ylabel(\"Tajima's D\", fontsize=\"x-large\")\n",
    "plt.xlabel(\"Position (bp)\", fontsize=\"x-large\")\n",
    "plt.plot(\n",
    "    ts.sites_position,\n",
    "    D,\n",
    "    linestyle=\"none\",\n",
    "    marker=\"+\",\n",
    "    markersize=6,\n",
    "    alpha=0.2,\n",
    ");\n",
    "plt.show()"
   ]
  },
  {
   "cell_type": "code",
   "execution_count": null,
   "metadata": {},
   "outputs": [],
   "source": []
  }
 ],
 "metadata": {
  "kernelspec": {
   "display_name": "Python 3.9.0 ('tskit-dev')",
   "language": "python",
   "name": "python3"
  },
  "language_info": {
   "codemirror_mode": {
    "name": "ipython",
    "version": 3
   },
   "file_extension": ".py",
   "mimetype": "text/x-python",
   "name": "python",
   "nbconvert_exporter": "python",
   "pygments_lexer": "ipython3",
   "version": "3.9.0"
  },
  "orig_nbformat": 4,
  "vscode": {
   "interpreter": {
    "hash": "9f3dfb7c5f33571a94770a54e650c64705c6c692fe5556d8738b916231470591"
   }
  }
 },
 "nbformat": 4,
 "nbformat_minor": 2
}
