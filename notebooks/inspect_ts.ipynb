{
 "cells": [
  {
   "cell_type": "code",
   "execution_count": null,
   "metadata": {},
   "outputs": [],
   "source": [
    "from pathlib import Path\n",
    "\n",
    "import numpy as np\n",
    "import pandas as pd\n",
    "import matplotlib as mpl\n",
    "import matplotlib.pyplot as plt\n",
    "import seaborn as sns\n",
    "\n",
    "import tskit\n",
    "import tsinfer\n",
    "\n",
    "print(f\"tskit {tskit.__version__}\")\n",
    "print(f\"tsinfer {tsinfer.__version__}\")"
   ]
  },
  {
   "cell_type": "markdown",
   "metadata": {},
   "source": [
    "### Load data"
   ]
  },
  {
   "cell_type": "code",
   "execution_count": null,
   "metadata": {},
   "outputs": [],
   "source": [
    "base_dir = Path(\"/Users/szhan/Projects/tsimpute/analysis/test/\")\n",
    "ts_file = base_dir / \"single_panmictic_inferred_default.inferred.trees\""
   ]
  },
  {
   "cell_type": "code",
   "execution_count": null,
   "metadata": {},
   "outputs": [],
   "source": [
    "ts = tskit.load(ts_file)\n",
    "ts"
   ]
  },
  {
   "cell_type": "markdown",
   "metadata": {},
   "source": [
    "### Examine the correlation between edge span and edge time"
   ]
  },
  {
   "cell_type": "code",
   "execution_count": null,
   "metadata": {},
   "outputs": [],
   "source": [
    "edge_spans = ts.edges_right - ts.edges_left\n",
    "edge_parent_times = ts.nodes_time[ts.edges_parent]\n",
    "edge_child_times = ts.nodes_time[ts.edges_child]\n",
    "\n",
    "if edge_spans[-1] == ts.sequence_length:\n",
    "    edge_spans = edge_spans[:-2]\n",
    "    edge_parent_times = edge_parent_times[:-2]\n",
    "    edge_child_times = edge_child_times[:-2]\n",
    "\n",
    "edge_spans = edge_spans / 1e6\n",
    "\n",
    "df_edges = pd.DataFrame({\n",
    "    'edge_spans': edge_spans,\n",
    "    'edge_parent_times': edge_parent_times,\n",
    "    'edge_child_times': edge_child_times,\n",
    "})"
   ]
  },
  {
   "cell_type": "code",
   "execution_count": null,
   "metadata": {},
   "outputs": [],
   "source": [
    "plt.figure(figsize=(20, 15,))\n",
    "\n",
    "plt.subplot(331)\n",
    "plt.xlabel(\"Edge parent time\", fontsize=\"xx-large\")\n",
    "plt.ylabel(\"Edge span (Mb)\", fontsize=\"xx-large\")\n",
    "plt.plot(\n",
    "    df_edges[\"edge_parent_times\"],\n",
    "    df_edges[\"edge_spans\"],\n",
    "    linestyle='none', marker='+', markersize=6, alpha=0.2,\n",
    ");\n",
    "\n",
    "plt.subplot(332)\n",
    "plt.xlabel(\"Edge parent time\", fontsize=\"xx-large\")\n",
    "plt.ylabel(\"Edge span (Mb)\", fontsize=\"xx-large\")\n",
    "plt.xlim(0.0, 0.1)\n",
    "plt.plot(\n",
    "    df_edges[\"edge_parent_times\"],\n",
    "    df_edges[\"edge_spans\"],\n",
    "    linestyle='none', marker='+', markersize=6, alpha=0.2,\n",
    ");\n",
    "\n",
    "plt.subplot(333)\n",
    "plt.xlabel(\"Edge parent time\", fontsize=\"xx-large\")\n",
    "plt.ylabel(\"Edge span (Mb)\", fontsize=\"xx-large\")\n",
    "plt.xlim(0.9, 1.0)\n",
    "plt.plot(\n",
    "    df_edges[\"edge_parent_times\"],\n",
    "    df_edges[\"edge_spans\"],\n",
    "    linestyle='none', marker='+', markersize=6, alpha=0.2,\n",
    ");\n",
    "\n",
    "plt.subplot(334)\n",
    "plt.xlabel(\"Edge child time\", fontsize=\"xx-large\")\n",
    "plt.ylabel(\"Edge span (Mb)\", fontsize=\"xx-large\")\n",
    "plt.plot(\n",
    "    df_edges[\"edge_child_times\"],\n",
    "    df_edges[\"edge_spans\"],\n",
    "    linestyle='none', marker='+', markersize=6, alpha=0.2,\n",
    ");\n",
    "\n",
    "plt.subplot(335)\n",
    "plt.xlabel(\"Edge child time\", fontsize=\"xx-large\")\n",
    "plt.ylabel(\"Edge span (Mb)\", fontsize=\"xx-large\")\n",
    "plt.xlim(0.0, 0.1)\n",
    "plt.plot(\n",
    "    df_edges[\"edge_child_times\"],\n",
    "    df_edges[\"edge_spans\"],\n",
    "    linestyle='none', marker='+', markersize=6, alpha=0.2,\n",
    ");\n",
    "\n",
    "plt.subplot(336)\n",
    "plt.xlabel(\"Edge child time\", fontsize=\"xx-large\")\n",
    "plt.ylabel(\"Edge span (Mb)\", fontsize=\"xx-large\")\n",
    "plt.xlim(0.9, 1.0)\n",
    "plt.plot(\n",
    "    df_edges[\"edge_child_times\"],\n",
    "    df_edges[\"edge_spans\"],\n",
    "    linestyle='none', marker='+', markersize=6, alpha=0.2,\n",
    ");\n",
    "\n",
    "plt.show()\n"
   ]
  },
  {
   "cell_type": "markdown",
   "metadata": {},
   "source": [
    "### Examine the correlation between node span and node time"
   ]
  },
  {
   "cell_type": "code",
   "execution_count": null,
   "metadata": {},
   "outputs": [],
   "source": [
    "node_spans = tsinfer.node_span(ts)\n",
    "node_times = ts.nodes_time\n",
    "\n",
    "if node_spans[-1] == ts.sequence_length:\n",
    "    node_spans = node_spans[:-2]\n",
    "    node_times = node_times[:-2]\n",
    "\n",
    "node_spans = node_spans / 1e6\n",
    "\n",
    "df_nodes = pd.DataFrame({\n",
    "    'node_spans': node_spans,\n",
    "    'node_times': node_times,\n",
    "})"
   ]
  },
  {
   "cell_type": "code",
   "execution_count": null,
   "metadata": {},
   "outputs": [],
   "source": [
    "plt.figure(figsize=(15, 5,))\n",
    "\n",
    "plt.subplot(131)\n",
    "plt.xlabel(\"Node time\", fontsize=\"xx-large\")\n",
    "plt.ylabel(\"Node span (Mb)\", fontsize=\"xx-large\")\n",
    "plt.plot(\n",
    "    df_nodes[\"node_times\"],\n",
    "    df_nodes[\"node_spans\"],\n",
    "    linestyle='none', marker='+', markersize=6, alpha=0.2,\n",
    ");\n",
    "\n",
    "plt.subplot(132)\n",
    "plt.xlabel(\"Node time\", fontsize=\"xx-large\")\n",
    "plt.ylabel(\"Node span (Mb)\", fontsize=\"xx-large\")\n",
    "plt.xlim(0.0, 0.1)\n",
    "plt.plot(\n",
    "    df_nodes[\"node_times\"],\n",
    "    df_nodes[\"node_spans\"],\n",
    "    linestyle='none', marker='+', markersize=6, alpha=0.2,\n",
    ");\n",
    "\n",
    "plt.subplot(133)\n",
    "plt.xlabel(\"Node time\", fontsize=\"xx-large\")\n",
    "plt.ylabel(\"Node span (Mb)\", fontsize=\"xx-large\")\n",
    "plt.xlim(0.9, 1.0)\n",
    "plt.plot(\n",
    "    df_nodes[\"node_times\"],\n",
    "    df_nodes[\"node_spans\"],\n",
    "    linestyle='none', marker='+', markersize=6, alpha=0.2,\n",
    ");\n"
   ]
  },
  {
   "cell_type": "markdown",
   "metadata": {},
   "source": [
    "### Distribution of mutations per site"
   ]
  },
  {
   "cell_type": "code",
   "execution_count": null,
   "metadata": {},
   "outputs": [],
   "source": [
    "site_pos, counts = np.unique(ts.mutations_site, return_counts=True)\n",
    "num_sites_with_mutation = len(site_pos)\n",
    "print(f\"Sites total: {ts.num_sites}\")\n",
    "print(f\"Sites with at least one mutation: {num_sites_with_mutation}\")"
   ]
  },
  {
   "cell_type": "code",
   "execution_count": null,
   "metadata": {},
   "outputs": [],
   "source": [
    "plt.figure(figsize=(10, 5,))\n",
    "plt.ylabel(\"Site count\", fontsize=\"xx-large\")\n",
    "plt.xlabel(\"Number of mutations\", fontsize=\"xx-large\")\n",
    "plt.hist(counts, bins=range(11));\n",
    "plt.show()"
   ]
  },
  {
   "cell_type": "markdown",
   "metadata": {},
   "source": [
    "### Distribution of arity"
   ]
  },
  {
   "cell_type": "code",
   "execution_count": null,
   "metadata": {},
   "outputs": [],
   "source": [
    "# Unsimplified, a tree sequence contains unary nodes,\n",
    "# so exclude them before calculating arity.\n",
    "ts_simplified = ts.simplify()\n",
    "\n",
    "# For each tree, take the mean arity across its nodes.\n",
    "tree_arity = np.empty(ts_simplified.num_trees)\n",
    "for i, tree in enumerate(ts_simplified.trees()):\n",
    "    parent_id, count = np.unique(tree.parent_array[tree.preorder()], return_counts=True)\n",
    "    tree_arity[i] = count[parent_id != tskit.NULL].mean()\n",
    "\n",
    "# For each node, take the mean arity across trees.\n",
    "node_arity = np.zeros(ts_simplified.num_nodes)\n",
    "for tree in ts_simplified.trees():\n",
    "    node_arity += tree.num_children_array[:-1] * tree.span\n",
    "node_arity /= ts_simplified.sequence_length"
   ]
  },
  {
   "cell_type": "code",
   "execution_count": null,
   "metadata": {},
   "outputs": [],
   "source": [
    "plt.figure(figsize=(20, 10,))\n",
    "\n",
    "plt.subplot(221)\n",
    "plt.ylabel(\"Mean arity of internal nodes in a tree\", fontsize=\"xx-large\")\n",
    "plt.xlabel(\"Tree index\", fontsize=\"xx-large\")\n",
    "plt.plot(\n",
    "    np.arange(ts_simplified.num_trees),\n",
    "    tree_arity,\n",
    "    linestyle=\"none\", marker=\"+\", markersize=6, alpha=0.2,\n",
    ");\n",
    "\n",
    "plt.subplot(222)\n",
    "plt.ylabel(\"Tree count\", fontsize=\"xx-large\")\n",
    "plt.xlabel(\"Mean arity of internal nodes in a tree\", fontsize=\"xx-large\")\n",
    "plt.hist(tree_arity, bins=50);\n",
    "\n",
    "plt.subplot(223)\n",
    "plt.ylabel(\"Mean arity of a node across trees\", fontsize=\"xx-large\")\n",
    "plt.xlabel(\"Node time\", fontsize=\"xx-large\")\n",
    "plt.plot(\n",
    "    ts_simplified.nodes_time,\n",
    "    node_arity,\n",
    "    linestyle='none', marker='+', markersize=6, alpha=0.2,\n",
    ");\n",
    "\n",
    "plt.show()"
   ]
  },
  {
   "cell_type": "markdown",
   "metadata": {},
   "source": [
    "### Distribution of edge diffs"
   ]
  },
  {
   "cell_type": "code",
   "execution_count": null,
   "metadata": {},
   "outputs": [],
   "source": [
    "tree_edges_out = np.empty(ts.num_trees)\n",
    "tree_edges_in = np.empty(ts.num_trees)\n",
    "for i, (interval, edges_out, edges_in,) in enumerate(ts.edge_diffs()):\n",
    "    tree_edges_out[i] = len(edges_out)\n",
    "    tree_edges_in[i] = len(edges_in)"
   ]
  },
  {
   "cell_type": "code",
   "execution_count": null,
   "metadata": {},
   "outputs": [],
   "source": [
    "# Exclude the first, second, penultimate, and last sets of edge diffs.\n",
    "plt.figure(figsize=(20, 20,))\n",
    "\n",
    "plt.subplot(221)\n",
    "plt.ylabel(\"Edges OUT\", fontsize=\"xx-large\")\n",
    "plt.xlabel(\"Tree index\", fontsize=\"xx-large\")\n",
    "plt.plot(\n",
    "    np.arange(2, ts.num_trees - 2),\n",
    "    tree_edges_out[2:-2],\n",
    "    linestyle=\"none\", marker=\"+\", markersize=6, alpha=0.2,\n",
    ");\n",
    "\n",
    "plt.subplot(222)\n",
    "plt.ylabel(\"Tree count\", fontsize=\"xx-large\")\n",
    "plt.xlabel(\"Number of edges OUT\", fontsize=\"xx-large\")\n",
    "plt.hist(tree_edges_out[2:-2], bins=50);\n",
    "\n",
    "plt.subplot(223)\n",
    "plt.ylabel(\"Edges IN\", fontsize=\"xx-large\")\n",
    "plt.xlabel(\"Tree index\", fontsize=\"xx-large\")\n",
    "plt.plot(\n",
    "    np.arange(2, ts.num_trees - 2),\n",
    "    tree_edges_in[2:-2],\n",
    "    linestyle=\"none\", marker=\"+\", markersize=6, alpha=0.2,\n",
    ");\n",
    "\n",
    "plt.subplot(224)\n",
    "plt.ylabel(\"Tree count\", fontsize=\"xx-large\")\n",
    "plt.xlabel(\"Number of edges IN\", fontsize=\"xx-large\")\n",
    "plt.hist(tree_edges_in[2:-2], bins=50);\n",
    "\n",
    "plt.show()"
   ]
  },
  {
   "cell_type": "markdown",
   "metadata": {},
   "source": [
    "### Examine the edges copying into the samples"
   ]
  },
  {
   "cell_type": "code",
   "execution_count": null,
   "metadata": {},
   "outputs": [],
   "source": [
    "per_sample_num_edges = np.empty(ts.num_samples)\n",
    "per_sample_bkpt_density = np.empty(ts.num_samples)\n",
    "per_sample_mean_parent_time = np.empty(ts.num_samples)\n",
    "\n",
    "# TODO: Is there a faster way than appending to a Python list?\n",
    "left_coords_all = []\n",
    "parent_times_all = []\n",
    "\n",
    "all_edges = ts.tables.edges\n",
    "for i in ts.samples():\n",
    "    assert ts.nodes_time[i] == 0\n",
    "    # Subset edges table\n",
    "    tmp_tb = all_edges[ts.tables.edges.child == i]\n",
    "    # Get number of edges copying into a sample\n",
    "    tmp_num_edges = tmp_tb.child.shape[0]\n",
    "    per_sample_num_edges[i] = tmp_num_edges\n",
    "    # Get the left coordinates of these edges\n",
    "    tmp_left_coords = tmp_tb.left\n",
    "    left_coords_all += list(tmp_left_coords)\n",
    "    # Get the parent times of these edges\n",
    "    tmp_parent_times = ts.nodes_time[tmp_tb.parent]\n",
    "    parent_times_all += list(tmp_parent_times)\n",
    "    assert tmp_left_coords.shape[0] == tmp_parent_times.shape[0]\n",
    "    # Get the per-sample breakpoint density (per 1 Mb)\n",
    "    per_sample_bkpt_density[i] = tmp_left_coords.shape[0] / (ts.sequence_length / 1e6)\n",
    "    # Get the per-sample mean parent time\n",
    "    per_sample_mean_parent_time[i] = np.mean(tmp_parent_times)"
   ]
  },
  {
   "cell_type": "code",
   "execution_count": null,
   "metadata": {},
   "outputs": [],
   "source": [
    "plt.figure(figsize=(12, 12,))\n",
    "plt.subplot(221)\n",
    "plt.ylabel(\"Sample counts\", fontsize=\"x-large\")\n",
    "plt.xlabel(\"Number of edges\", fontsize=\"x-large\")\n",
    "plt.hist(per_sample_num_edges, bins=20);\n",
    "\n",
    "plt.subplot(222)\n",
    "plt.ylabel(\"Sample counts\", fontsize=\"x-large\")\n",
    "plt.xlabel(\"Breakpoint density (per 1 Mb)\", fontsize=\"x-large\")\n",
    "plt.hist(per_sample_bkpt_density, bins=20);\n",
    "\n",
    "#plt.ylabel(\"Sample counts\", fontsize=\"xx-large\")\n",
    "#plt.xlabel(\"Parent time density\", fontsize=\"xx-large\")\n",
    "#plt.hist(per_sample_parent_time_density, bins=20);\n",
    "\n",
    "plt.subplot(223)\n",
    "plt.ylabel(\"Sample counts\", fontsize=\"x-large\")\n",
    "plt.xlabel(\"Mean parent time\", fontsize=\"x-large\")\n",
    "plt.hist(per_sample_mean_parent_time, bins=20);"
   ]
  },
  {
   "cell_type": "code",
   "execution_count": null,
   "metadata": {},
   "outputs": [],
   "source": [
    "plt.figure(figsize=(10, 5,))\n",
    "plt.title(\"Parent times of edges along the sequence\", fontsize=\"xx-large\")\n",
    "plt.ylabel(\"Parent time of an edge\", fontsize=\"xx-large\")\n",
    "plt.xlabel(\"Position of the left coordinate of an edge\", fontsize=\"xx-large\")\n",
    "plt.plot(\n",
    "    left_coords_all,\n",
    "    parent_times_all,\n",
    "    linestyle=\"none\", marker=\"+\", markersize=6, alpha=0.3,\n",
    ");"
   ]
  },
  {
   "cell_type": "code",
   "execution_count": null,
   "metadata": {},
   "outputs": [],
   "source": []
  }
 ],
 "metadata": {
  "kernelspec": {
   "display_name": "Python 3.8.12 ('tskit-play')",
   "language": "python",
   "name": "python3"
  },
  "language_info": {
   "codemirror_mode": {
    "name": "ipython",
    "version": 3
   },
   "file_extension": ".py",
   "mimetype": "text/x-python",
   "name": "python",
   "nbconvert_exporter": "python",
   "pygments_lexer": "ipython3",
   "version": "3.8.12"
  },
  "orig_nbformat": 4,
  "vscode": {
   "interpreter": {
    "hash": "eb113df21e86d0d3285e00d2b797ac04a99a0d10196b81a01bbc3abb92b92d53"
   }
  }
 },
 "nbformat": 4,
 "nbformat_minor": 2
}
