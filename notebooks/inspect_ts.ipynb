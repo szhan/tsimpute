{
 "cells": [
  {
   "cell_type": "code",
   "execution_count": 1,
   "metadata": {},
   "outputs": [
    {
     "name": "stdout",
     "output_type": "stream",
     "text": [
      "tskit 0.5.3\n",
      "tsinfer 0.3.0\n"
     ]
    }
   ],
   "source": [
    "from pathlib import Path\n",
    "\n",
    "import numpy as np\n",
    "import pandas as pd\n",
    "import matplotlib.pyplot as plt\n",
    "\n",
    "import tskit\n",
    "import tsinfer\n",
    "\n",
    "print(f\"tskit {tskit.__version__}\")\n",
    "print(f\"tsinfer {tsinfer.__version__}\")"
   ]
  },
  {
   "cell_type": "markdown",
   "metadata": {},
   "source": [
    "### Load data"
   ]
  },
  {
   "cell_type": "code",
   "execution_count": 2,
   "metadata": {},
   "outputs": [],
   "source": [
    "base_dir = Path(\"/Users/szhan/Projects/tsimpute/analysis/test/\")\n",
    "ts_file = base_dir / \"single_panmictic_inferred_default.inferred.trees\""
   ]
  },
  {
   "cell_type": "code",
   "execution_count": 3,
   "metadata": {},
   "outputs": [
    {
     "data": {
      "text/html": [
       "\n",
       "            <div>\n",
       "              <style>\n",
       "                .tskit-table thead tr th {text-align: left;padding: 0.5em 0.5em;}\n",
       "                .tskit-table tbody tr td {padding: 0.5em 0.5em;}\n",
       "                .tskit-table tbody tr td:first-of-type {text-align: left;}\n",
       "                .tskit-details-label {vertical-align: top; padding-right:5px;}\n",
       "                .tskit-table-set {display: inline-flex;flex-wrap: wrap;margin: -12px 0 0 -12px;width: calc(100% + 12px);}\n",
       "                .tskit-table-set-table {margin: 12px 0 0 12px;}\n",
       "                details {display: inline-block;}\n",
       "                summary {cursor: pointer; outline: 0; display: list-item;}\n",
       "              </style>\n",
       "              <div class=\"tskit-table-set\">\n",
       "                <div class=\"tskit-table-set-table\">\n",
       "                  <table class=\"tskit-table\">\n",
       "                    <thead>\n",
       "                      <tr>\n",
       "                        <th style=\"padding:0;line-height:21px;\">\n",
       "                          <img style=\"height: 32px;display: inline-block;padding: 3px 5px 3px 0;\" src=\"https://raw.githubusercontent.com/tskit-dev/administrative/main/tskit_logo.svg\"/>\n",
       "                          <a target=\"_blank\" href=\"https://tskit.dev/tskit/docs/latest/python-api.html#the-treesequence-class\"> Tree Sequence </a>\n",
       "                        </th>\n",
       "                      </tr>\n",
       "                    </thead>\n",
       "                    <tbody>\n",
       "                      <tr><td>Trees</td><td>1771</td></tr>\n",
       "                      <tr><td>Sequence Length</td><td>1000000.0</td></tr>\n",
       "                      <tr><td>Time Units</td><td>uncalibrated</td></tr>\n",
       "                      <tr><td>Sample Nodes</td><td>11000</td></tr>\n",
       "                      <tr><td>Total Size</td><td>2.0 MiB</td></tr>\n",
       "                      <tr>\n",
       "                        <td>Metadata</td><td style=\"text-align: left;\">\n",
       "                <div>\n",
       "                  <span class=\"tskit-details-label\"></span>\n",
       "                  <details open>\n",
       "                    <summary>dict</summary>\n",
       "                    \n",
       "                  </details>\n",
       "                </div>\n",
       "                </td></tr>\n",
       "                    </tbody>\n",
       "                  </table>\n",
       "                </div>\n",
       "                <div class=\"tskit-table-set-table\">\n",
       "                  <table class=\"tskit-table\">\n",
       "                    <thead>\n",
       "                      <tr>\n",
       "                        <th style=\"line-height:21px;\">Table</th>\n",
       "                        <th>Rows</th>\n",
       "                        <th>Size</th>\n",
       "                        <th>Has Metadata</th>\n",
       "                      </tr>\n",
       "                    </thead>\n",
       "                    <tbody>\n",
       "                    \n",
       "                  <tr>\n",
       "                    <td>Edges</td>\n",
       "                      <td>21417</td>\n",
       "                      <td>669.3 KiB</td>\n",
       "                      <td style=\"text-align: center;\">\n",
       "                        \n",
       "                      </td>\n",
       "                    </tr>\n",
       "                \n",
       "                  <tr>\n",
       "                    <td>Individuals</td>\n",
       "                      <td>11000</td>\n",
       "                      <td>322.3 KiB</td>\n",
       "                      <td style=\"text-align: center;\">\n",
       "                        ✅\n",
       "                      </td>\n",
       "                    </tr>\n",
       "                \n",
       "                  <tr>\n",
       "                    <td>Migrations</td>\n",
       "                      <td>0</td>\n",
       "                      <td>8 Bytes</td>\n",
       "                      <td style=\"text-align: center;\">\n",
       "                        \n",
       "                      </td>\n",
       "                    </tr>\n",
       "                \n",
       "                  <tr>\n",
       "                    <td>Mutations</td>\n",
       "                      <td>4045</td>\n",
       "                      <td>146.2 KiB</td>\n",
       "                      <td style=\"text-align: center;\">\n",
       "                        \n",
       "                      </td>\n",
       "                    </tr>\n",
       "                \n",
       "                  <tr>\n",
       "                    <td>Nodes</td>\n",
       "                      <td>14807</td>\n",
       "                      <td>484.2 KiB</td>\n",
       "                      <td style=\"text-align: center;\">\n",
       "                        ✅\n",
       "                      </td>\n",
       "                    </tr>\n",
       "                \n",
       "                  <tr>\n",
       "                    <td>Populations</td>\n",
       "                      <td>0</td>\n",
       "                      <td>183 Bytes</td>\n",
       "                      <td style=\"text-align: center;\">\n",
       "                        \n",
       "                      </td>\n",
       "                    </tr>\n",
       "                \n",
       "                  <tr>\n",
       "                    <td>Provenances</td>\n",
       "                      <td>7</td>\n",
       "                      <td>5.5 KiB</td>\n",
       "                      <td style=\"text-align: center;\">\n",
       "                        \n",
       "                      </td>\n",
       "                    </tr>\n",
       "                \n",
       "                  <tr>\n",
       "                    <td>Sites</td>\n",
       "                      <td>4045</td>\n",
       "                      <td>203.2 KiB</td>\n",
       "                      <td style=\"text-align: center;\">\n",
       "                        ✅\n",
       "                      </td>\n",
       "                    </tr>\n",
       "                \n",
       "                    </tbody>\n",
       "                  </table>\n",
       "                </div>\n",
       "              </div>\n",
       "            </div>\n",
       "            "
      ],
      "text/plain": [
       "<tskit.trees.TreeSequence at 0x7fc7d7187520>"
      ]
     },
     "execution_count": 3,
     "metadata": {},
     "output_type": "execute_result"
    }
   ],
   "source": [
    "ts = tskit.load(ts_file)\n",
    "ts"
   ]
  },
  {
   "cell_type": "markdown",
   "metadata": {},
   "source": [
    "### Examine the correlation between edge span and edge time"
   ]
  },
  {
   "cell_type": "code",
   "execution_count": null,
   "metadata": {},
   "outputs": [],
   "source": [
    "edge_spans = ts.edges_right - ts.edges_left\n",
    "edge_parent_times = ts.nodes_time[ts.edges_parent]\n",
    "edge_child_times = ts.nodes_time[ts.edges_child]\n",
    "\n",
    "if edge_spans[-1] == ts.sequence_length:\n",
    "    edge_spans = edge_spans[:-2]\n",
    "    edge_parent_times = edge_parent_times[:-2]\n",
    "    edge_child_times = edge_child_times[:-2]\n",
    "\n",
    "edge_spans = edge_spans / 1e6\n",
    "\n",
    "df_edges = pd.DataFrame({\n",
    "    'edge_spans': edge_spans,\n",
    "    'edge_parent_times': edge_parent_times,\n",
    "    'edge_child_times': edge_child_times,\n",
    "})"
   ]
  },
  {
   "cell_type": "code",
   "execution_count": null,
   "metadata": {},
   "outputs": [],
   "source": [
    "plt.figure(figsize=(20, 20,))\n",
    "\n",
    "plt.subplot(331)\n",
    "plt.title(\"Range: 0.0 - 1.0\", fontsize=\"xx-large\")\n",
    "plt.xlabel(\"Edge parent time\", fontsize=\"x-large\")\n",
    "plt.ylabel(\"Edge span (Mb)\", fontsize=\"x-large\")\n",
    "plt.xlim(0.0, 1.0)\n",
    "plt.plot(\n",
    "    df_edges[\"edge_parent_times\"],\n",
    "    df_edges[\"edge_spans\"],\n",
    "    linestyle='none', marker='+', markersize=6, alpha=0.2,\n",
    ");\n",
    "\n",
    "plt.subplot(332)\n",
    "plt.title(\"Range: 0.0 - 0.1\", fontsize=\"xx-large\")\n",
    "plt.xlabel(\"Edge parent time\", fontsize=\"x-large\")\n",
    "plt.ylabel(\"Edge span (Mb)\", fontsize=\"x-large\")\n",
    "plt.xlim(0.0, 0.1)\n",
    "plt.plot(\n",
    "    df_edges[\"edge_parent_times\"],\n",
    "    df_edges[\"edge_spans\"],\n",
    "    linestyle='none', marker='+', markersize=6, alpha=0.2,\n",
    ");\n",
    "\n",
    "plt.subplot(333)\n",
    "plt.title(\"Range: 0.9 - 1.0\", fontsize=\"xx-large\")\n",
    "plt.xlabel(\"Edge parent time\", fontsize=\"x-large\")\n",
    "plt.ylabel(\"Edge span (Mb)\", fontsize=\"x-large\")\n",
    "plt.xlim(0.9, 1.0)\n",
    "plt.plot(\n",
    "    df_edges[\"edge_parent_times\"],\n",
    "    df_edges[\"edge_spans\"],\n",
    "    linestyle='none', marker='+', markersize=6, alpha=0.2,\n",
    ");\n",
    "\n",
    "plt.subplot(334)\n",
    "plt.title(\"Range: 0.0 - 1.0\", fontsize=\"xx-large\")\n",
    "plt.xlabel(\"Edge child time\", fontsize=\"x-large\")\n",
    "plt.ylabel(\"Edge span (Mb)\", fontsize=\"x-large\")\n",
    "plt.plot(\n",
    "    df_edges[\"edge_child_times\"],\n",
    "    df_edges[\"edge_spans\"],\n",
    "    linestyle='none', marker='+', markersize=6, alpha=0.2,\n",
    ");\n",
    "\n",
    "plt.subplot(335)\n",
    "plt.title(\"Range: 0.0 - 0.1\", fontsize=\"xx-large\")\n",
    "plt.xlabel(\"Edge child time\", fontsize=\"x-large\")\n",
    "plt.ylabel(\"Edge span (Mb)\", fontsize=\"x-large\")\n",
    "plt.xlim(0.0, 0.1)\n",
    "plt.plot(\n",
    "    df_edges[\"edge_child_times\"],\n",
    "    df_edges[\"edge_spans\"],\n",
    "    linestyle='none', marker='+', markersize=6, alpha=0.2,\n",
    ");\n",
    "\n",
    "plt.subplot(336)\n",
    "plt.title(\"Range: 0.9 - 1.0\", fontsize=\"xx-large\")\n",
    "plt.xlabel(\"Edge child time\", fontsize=\"x-large\")\n",
    "plt.ylabel(\"Edge span (Mb)\", fontsize=\"x-large\")\n",
    "plt.xlim(0.9, 1.0)\n",
    "plt.plot(\n",
    "    df_edges[\"edge_child_times\"],\n",
    "    df_edges[\"edge_spans\"],\n",
    "    linestyle='none', marker='+', markersize=6, alpha=0.2,\n",
    ");\n",
    "\n",
    "plt.show()"
   ]
  },
  {
   "cell_type": "markdown",
   "metadata": {},
   "source": [
    "### Examine the correlation between node span and node time"
   ]
  },
  {
   "cell_type": "code",
   "execution_count": null,
   "metadata": {},
   "outputs": [],
   "source": [
    "node_spans = tsinfer.node_span(ts)\n",
    "node_times = ts.nodes_time\n",
    "\n",
    "if node_spans[-1] == ts.sequence_length:\n",
    "    node_spans = node_spans[:-2]\n",
    "    node_times = node_times[:-2]\n",
    "\n",
    "node_spans = node_spans / 1e6\n",
    "\n",
    "df_nodes = pd.DataFrame({\n",
    "    'node_spans': node_spans,\n",
    "    'node_times': node_times,\n",
    "})"
   ]
  },
  {
   "cell_type": "code",
   "execution_count": null,
   "metadata": {},
   "outputs": [],
   "source": [
    "plt.figure(figsize=(20, 5,))\n",
    "\n",
    "plt.subplot(131)\n",
    "plt.title(\"Range: 0.0 - 1.0\", fontsize=\"xx-large\")\n",
    "plt.xlabel(\"Node time\", fontsize=\"x-large\")\n",
    "plt.ylabel(\"Node span (Mb)\", fontsize=\"x-large\")\n",
    "plt.plot(\n",
    "    df_nodes[\"node_times\"],\n",
    "    df_nodes[\"node_spans\"],\n",
    "    linestyle='none', marker='+', markersize=6, alpha=0.2,\n",
    ");\n",
    "\n",
    "plt.subplot(132)\n",
    "plt.title(\"Range: 0.0 - 0.1\", fontsize=\"xx-large\")\n",
    "plt.xlabel(\"Node time\", fontsize=\"x-large\")\n",
    "plt.ylabel(\"Node span (Mb)\", fontsize=\"x-large\")\n",
    "plt.xlim(0.0, 0.1)\n",
    "plt.plot(\n",
    "    df_nodes[\"node_times\"],\n",
    "    df_nodes[\"node_spans\"],\n",
    "    linestyle='none', marker='+', markersize=6, alpha=0.2,\n",
    ");\n",
    "\n",
    "plt.subplot(133)\n",
    "plt.title(\"Range: 0.9 - 1.0\", fontsize=\"xx-large\")\n",
    "plt.xlabel(\"Node time\", fontsize=\"x-large\")\n",
    "plt.ylabel(\"Node span (Mb)\", fontsize=\"x-large\")\n",
    "plt.xlim(0.9, 1.0)\n",
    "plt.plot(\n",
    "    df_nodes[\"node_times\"],\n",
    "    df_nodes[\"node_spans\"],\n",
    "    linestyle='none', marker='+', markersize=6, alpha=0.2,\n",
    ");"
   ]
  },
  {
   "cell_type": "markdown",
   "metadata": {},
   "source": [
    "### Distribution of mutations per site"
   ]
  },
  {
   "cell_type": "code",
   "execution_count": null,
   "metadata": {},
   "outputs": [],
   "source": [
    "site_pos, counts = np.unique(ts.mutations_site, return_counts=True)\n",
    "num_sites_with_mutation = len(site_pos)\n",
    "print(f\"Sites total: {'{:,}'.format(ts.num_sites)}\")\n",
    "print(f\"Sites with >= 1 mutation: {'{:,}'.format(num_sites_with_mutation)}\")"
   ]
  },
  {
   "cell_type": "code",
   "execution_count": null,
   "metadata": {},
   "outputs": [],
   "source": [
    "plt.figure(figsize=(10, 5,))\n",
    "plt.ylabel(\"Site count\", fontsize=\"xx-large\")\n",
    "plt.xlabel(\"Number of mutations\", fontsize=\"xx-large\")\n",
    "plt.hist(counts, bins=range(11));\n",
    "plt.show()"
   ]
  },
  {
   "cell_type": "markdown",
   "metadata": {},
   "source": [
    "### Distribution of arity"
   ]
  },
  {
   "cell_type": "code",
   "execution_count": null,
   "metadata": {},
   "outputs": [],
   "source": [
    "# Unsimplified, a tree sequence contains unary nodes,\n",
    "# so exclude them before calculating arity.\n",
    "ts_simplified = ts.simplify()\n",
    "\n",
    "# For each tree, take the mean arity across its nodes.\n",
    "tree_arity = np.empty(ts_simplified.num_trees - 2)\n",
    "for i, tree in enumerate(ts_simplified.trees()):\n",
    "    # Exclude the first and last trees, as the parent id of all the nodes are -1.\n",
    "    if i in [0, ts_simplified.num_trees - 1]:\n",
    "        continue\n",
    "    parent_id, count = np.unique(tree.parent_array[tree.preorder()], return_counts=True)\n",
    "    tree_arity[i - 1] = count[parent_id != tskit.NULL].mean()\n",
    "\n",
    "# For each node, take the mean arity across trees.\n",
    "# Exclude the sample nodes, as they have arity of 0.\n",
    "node_arity = np.zeros(ts_simplified.num_nodes - ts_simplified.num_samples)\n",
    "node_span = np.zeros(ts_simplified.num_nodes - ts_simplified.num_samples)\n",
    "for tree in ts_simplified.trees():\n",
    "    node_arity += tree.num_children_array[ts_simplified.num_samples:-1] * tree.span\n",
    "    node_span[tree.num_children_array[ts_simplified.num_samples:-1] > 0] += tree.span\n",
    "node_arity /= node_span"
   ]
  },
  {
   "cell_type": "code",
   "execution_count": null,
   "metadata": {},
   "outputs": [],
   "source": [
    "plt.figure(figsize=(12, 12,))\n",
    "\n",
    "plt.subplot(221)\n",
    "plt.title(\"Mean arity of internal nodes in a tree\", fontsize=\"xx-large\")\n",
    "plt.ylabel(\"Mean arity\", fontsize=\"x-large\")\n",
    "plt.xlabel(\"Tree index\", fontsize=\"x-large\")\n",
    "plt.plot(\n",
    "    np.arange(tree_arity.shape[0]),\n",
    "    tree_arity,\n",
    "    linestyle=\"none\", marker=\"+\", markersize=6, alpha=0.2,\n",
    ");\n",
    "\n",
    "plt.subplot(222)\n",
    "plt.title(\"Mean arity of internal nodes in a tree\", fontsize=\"xx-large\")\n",
    "plt.ylabel(\"Tree count\", fontsize=\"x-large\")\n",
    "plt.xlabel(\"Mean arity\", fontsize=\"x-large\")\n",
    "plt.hist(tree_arity, bins=50);\n",
    "\n",
    "plt.subplot(223)\n",
    "plt.title(\"Mean arity of a node across trees\", fontsize=\"xx-large\")\n",
    "plt.ylabel(\"Mean arity\", fontsize=\"x-large\")\n",
    "plt.xlabel(\"Node time\", fontsize=\"x-large\")\n",
    "plt.plot(\n",
    "    ts_simplified.nodes_time[ts_simplified.num_samples:],\n",
    "    node_arity,\n",
    "    linestyle='none', marker='+', markersize=6, alpha=0.2,\n",
    ");\n",
    "\n",
    "plt.subplot(224)\n",
    "plt.title(\"Mean arity of a node across trees\", fontsize=\"xx-large\")\n",
    "plt.ylabel(\"Mean arity\", fontsize=\"x-large\")\n",
    "plt.xlabel(\"Node time\", fontsize=\"x-large\")\n",
    "plt.ylim(0, 3)\n",
    "plt.plot(\n",
    "    ts_simplified.nodes_time[ts_simplified.num_samples:],\n",
    "    node_arity,\n",
    "    linestyle='none', marker='+', markersize=6, alpha=0.2,\n",
    ")\n",
    "\n",
    "plt.show()"
   ]
  },
  {
   "cell_type": "markdown",
   "metadata": {},
   "source": [
    "### Distribution of edge diffs"
   ]
  },
  {
   "cell_type": "code",
   "execution_count": null,
   "metadata": {},
   "outputs": [],
   "source": [
    "tree_edges_out = np.empty(ts.num_trees)\n",
    "tree_edges_in = np.empty(ts.num_trees)\n",
    "for i, (interval, edges_out, edges_in,) in enumerate(ts.edge_diffs()):\n",
    "    tree_edges_out[i] = len(edges_out)\n",
    "    tree_edges_in[i] = len(edges_in)"
   ]
  },
  {
   "cell_type": "code",
   "execution_count": null,
   "metadata": {},
   "outputs": [],
   "source": [
    "# Exclude the first, second, penultimate, and last sets of edge diffs.\n",
    "plt.figure(figsize=(12, 12,))\n",
    "\n",
    "plt.subplot(221)\n",
    "plt.title(\"Edges OUT\", fontsize=\"x-large\")\n",
    "plt.ylabel(\"Number of edges\", fontsize=\"x-large\")\n",
    "plt.xlabel(\"Tree index\", fontsize=\"x-large\")\n",
    "plt.plot(\n",
    "    np.arange(2, ts.num_trees - 2),\n",
    "    tree_edges_out[2:-2],\n",
    "    linestyle=\"none\", marker=\"+\", markersize=6, alpha=0.2,\n",
    ");\n",
    "\n",
    "plt.subplot(222)\n",
    "plt.title(\"Edges OUT\", fontsize=\"x-large\")\n",
    "plt.ylabel(\"Tree count\", fontsize=\"x-large\")\n",
    "plt.xlabel(\"Number of edges\", fontsize=\"x-large\")\n",
    "plt.hist(tree_edges_out[2:-2], bins=50);\n",
    "\n",
    "plt.subplot(223)\n",
    "plt.title(\"Edges IN\", fontsize=\"x-large\")\n",
    "plt.ylabel(\"Number of edges\", fontsize=\"x-large\")\n",
    "plt.xlabel(\"Tree index\", fontsize=\"x-large\")\n",
    "plt.plot(\n",
    "    np.arange(2, ts.num_trees - 2),\n",
    "    tree_edges_in[2:-2],\n",
    "    linestyle=\"none\", marker=\"+\", markersize=6, alpha=0.2,\n",
    ");\n",
    "\n",
    "plt.subplot(224)\n",
    "plt.title(\"Edges IN\", fontsize=\"x-large\")\n",
    "plt.ylabel(\"Tree count\", fontsize=\"x-large\")\n",
    "plt.xlabel(\"Number of edges\", fontsize=\"x-large\")\n",
    "plt.hist(tree_edges_in[2:-2], bins=50);\n",
    "\n",
    "plt.show()"
   ]
  },
  {
   "cell_type": "markdown",
   "metadata": {},
   "source": [
    "### Examine the edges copying into the samples"
   ]
  },
  {
   "cell_type": "code",
   "execution_count": null,
   "metadata": {},
   "outputs": [],
   "source": [
    "per_sample_num_edges = np.empty(ts.num_samples)\n",
    "per_sample_bkpt_density = np.empty(ts.num_samples)\n",
    "per_sample_mean_parent_time = np.empty(ts.num_samples)\n",
    "\n",
    "# TODO: Is there a faster way than appending to a Python list?\n",
    "left_coords_all = []\n",
    "parent_times_all = []\n",
    "\n",
    "all_edges = ts.tables.edges\n",
    "for i in ts.samples():\n",
    "    assert ts.nodes_time[i] == 0\n",
    "    # Subset edges table\n",
    "    tmp_tb = all_edges[ts.tables.edges.child == i]\n",
    "    # Get number of edges copying into a sample\n",
    "    tmp_num_edges = tmp_tb.child.shape[0]\n",
    "    per_sample_num_edges[i] = tmp_num_edges\n",
    "    # Get the left coordinates of these edges\n",
    "    tmp_left_coords = tmp_tb.left\n",
    "    left_coords_all += list(tmp_left_coords)\n",
    "    # Get the parent times of these edges\n",
    "    tmp_parent_times = ts.nodes_time[tmp_tb.parent]\n",
    "    parent_times_all += list(tmp_parent_times)\n",
    "    assert tmp_left_coords.shape[0] == tmp_parent_times.shape[0]\n",
    "    # Get the per-sample breakpoint density (per 1 Mb)\n",
    "    per_sample_bkpt_density[i] = tmp_left_coords.shape[0] / (ts.sequence_length / 1e6)\n",
    "    # Get the per-sample mean parent time\n",
    "    per_sample_mean_parent_time[i] = np.mean(tmp_parent_times)\n",
    "\n",
    "left_coords_all = np.array(left_coords_all)\n",
    "parent_times_all = np.array(parent_times_all)"
   ]
  },
  {
   "cell_type": "code",
   "execution_count": null,
   "metadata": {},
   "outputs": [],
   "source": [
    "plt.figure(figsize=(20, 5,))\n",
    "\n",
    "plt.subplot(131)\n",
    "plt.ylabel(\"Sample counts\", fontsize=\"x-large\")\n",
    "plt.xlabel(\"Number of edges\", fontsize=\"x-large\")\n",
    "plt.hist(per_sample_num_edges, bins=20);\n",
    "\n",
    "plt.subplot(132)\n",
    "plt.ylabel(\"Sample counts\", fontsize=\"x-large\")\n",
    "plt.xlabel(\"Breakpoint density (per 1 Mb)\", fontsize=\"x-large\")\n",
    "plt.hist(per_sample_bkpt_density, bins=20);\n",
    "\n",
    "plt.subplot(133)\n",
    "plt.ylabel(\"Sample counts\", fontsize=\"x-large\")\n",
    "plt.xlabel(\"Mean parent time\", fontsize=\"x-large\")\n",
    "plt.hist(per_sample_mean_parent_time, bins=20);\n",
    "\n",
    "plt.show()"
   ]
  },
  {
   "cell_type": "code",
   "execution_count": null,
   "metadata": {},
   "outputs": [],
   "source": [
    "plt.figure(figsize=(15, 8,))\n",
    "plt.title(\"Parent times of edges along the sequence\", fontsize=\"xx-large\")\n",
    "plt.ylabel(\"Parent time of an edge\", fontsize=\"xx-large\")\n",
    "plt.xlabel(\"Position of the left coordinate of an edge\", fontsize=\"xx-large\")\n",
    "plt.plot(\n",
    "    left_coords_all,\n",
    "    parent_times_all,\n",
    "    linestyle=\"none\", marker=\"+\", markersize=6, alpha=0.4,\n",
    ");\n",
    "plt.show()"
   ]
  },
  {
   "cell_type": "code",
   "execution_count": null,
   "metadata": {},
   "outputs": [],
   "source": [
    "num_bins = int(np.ceil(ts.sequence_length / 1e6))\n",
    "bkpt_binned_counts = np.zeros(num_bins)\n",
    "for i in np.arange(num_bins):\n",
    "    is_left = i * 1e6 <= left_coords_all\n",
    "    is_right = left_coords_all < (i + 1) * 1e6\n",
    "    bkpt_binned_counts[i] = np.sum(is_left & is_right) / 1e6    # No need to normalize"
   ]
  },
  {
   "cell_type": "code",
   "execution_count": null,
   "metadata": {},
   "outputs": [],
   "source": [
    "plt.figure(figsize=(15, 8,))\n",
    "plt.title(\"Breakpoint density along the sequence (combining all the sample edges)\", fontsize=\"xx-large\")\n",
    "plt.ylabel(\"Breakpoint density (per 1 Mb)\", fontsize=\"xx-large\")\n",
    "plt.xlabel(\"Genomic position (1 Mb bins)\", fontsize=\"xx-large\")\n",
    "plt.bar(\n",
    "    np.arange(num_bins),\n",
    "    bkpt_binned_counts,\n",
    ");\n",
    "plt.show()"
   ]
  },
  {
   "cell_type": "markdown",
   "metadata": {},
   "source": [
    "### Examine the trees"
   ]
  },
  {
   "cell_type": "code",
   "execution_count": 15,
   "metadata": {},
   "outputs": [],
   "source": [
    "per_tree_num_sites = np.empty(ts.num_trees)\n",
    "tree_span = np.empty(ts.num_trees)\n",
    "for i, t in enumerate(ts.trees()):\n",
    "    per_tree_num_sites[i] = t.num_sites\n",
    "    tree_span[i] = t.span"
   ]
  },
  {
   "cell_type": "code",
   "execution_count": 18,
   "metadata": {},
   "outputs": [
    {
     "data": {
      "image/png": "[encoded data removed]",
      "text/plain": [
       "<Figure size 1440x360 with 3 Axes>"
      ]
     },
     "metadata": {
      "needs_background": "light"
     },
     "output_type": "display_data"
    }
   ],
   "source": [
    "plt.figure(figsize=(20, 5,))\n",
    "\n",
    "plt.subplot(131)\n",
    "plt.ylabel(\"Number of sites\", fontsize=\"x-large\")\n",
    "plt.xlabel(\"Tree index\", fontsize=\"x-large\")\n",
    "plt.bar(\n",
    "    np.arange(ts.num_trees),\n",
    "    per_tree_num_sites\n",
    ");\n",
    "\n",
    "plt.subplot(132)\n",
    "plt.ylabel(\"Tree count\", fontsize=\"x-large\")\n",
    "plt.xlabel(\"Number of sites\", fontsize=\"x-large\")\n",
    "plt.hist(per_tree_num_sites, bins=20);\n",
    "\n",
    "plt.subplot(133)\n",
    "plt.ylabel(\"Number of sites\", fontsize=\"x-large\")\n",
    "plt.xlabel(\"Tree span (bp)\", fontsize=\"x-large\")\n",
    "plt.plot(\n",
    "    tree_span,\n",
    "    per_tree_num_sites,\n",
    "    linestyle=\"none\",\n",
    "    marker=\"+\",\n",
    "    markersize=6,\n",
    ");\n",
    "\n",
    "plt.show()"
   ]
  },
  {
   "cell_type": "code",
   "execution_count": null,
   "metadata": {},
   "outputs": [],
   "source": []
  }
 ],
 "metadata": {
  "kernelspec": {
   "display_name": "Python 3.9.0 ('tskit-dev')",
   "language": "python",
   "name": "python3"
  },
  "language_info": {
   "codemirror_mode": {
    "name": "ipython",
    "version": 3
   },
   "file_extension": ".py",
   "mimetype": "text/x-python",
   "name": "python",
   "nbconvert_exporter": "python",
   "pygments_lexer": "ipython3",
   "version": "3.9.0"
  },
  "orig_nbformat": 4,
  "vscode": {
   "interpreter": {
    "hash": "9f3dfb7c5f33571a94770a54e650c64705c6c692fe5556d8738b916231470591"
   }
  }
 },
 "nbformat": 4,
 "nbformat_minor": 2
}
