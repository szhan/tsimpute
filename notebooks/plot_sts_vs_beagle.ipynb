{
 "cells": [
  {
   "cell_type": "code",
   "execution_count": null,
   "metadata": {},
   "outputs": [],
   "source": [
    "from pathlib import Path\n",
    "import math\n",
    "\n",
    "import pandas as pd\n",
    "import numpy as np\n",
    "from scipy import stats\n",
    "\n",
    "import seaborn as sns\n",
    "import matplotlib.pyplot as plt\n",
    "sns.set_theme(style=\"whitegrid\")"
   ]
  },
  {
   "cell_type": "code",
   "execution_count": null,
   "metadata": {},
   "outputs": [],
   "source": [
    "# Sites with low-confidence AA, sites with unknown AA, and singletons are included.\n",
    "# Multi-allelic sites and sites with indels are excluded."
   ]
  },
  {
   "cell_type": "code",
   "execution_count": null,
   "metadata": {},
   "outputs": [],
   "source": [
    "base_dir = Path(\"/Users/szhan/Projects/tsimpute/results/\")\n",
    "prefix = \"chr20_p.\"\n",
    "suffix = \".imputation.csv.gz\"\n",
    "\n",
    "# tsinfer \n",
    "#in_ts_csv_file = base_dir / str(prefix + \"default\" + suffix)    # withOUT genetic map\n",
    "#in_ts_map_csv_file = base_dir / str(prefix + \"default.genetic_map\" + suffix)    # with genetic map\n",
    "\n",
    "# Sample-matching\n",
    "in_sm_csv_file = base_dir / str(prefix + \"sample_matched.precision10\" + suffix)  # withOUT genetic map\n",
    "in_sm_map_csv_file = base_dir / str(prefix + \"sample_matched.genetic_map.precision10\" + suffix)  # with genetic map\n",
    "\n",
    "# BEAGLE\n",
    "in_beagle_csv_file = base_dir / str(prefix + \"beagle\" + suffix) # with genetic map\n"
   ]
  },
  {
   "cell_type": "code",
   "execution_count": null,
   "metadata": {},
   "outputs": [],
   "source": [
    "#df_ts = pd.read_csv(in_ts_csv_file, comment=\"#\")\n",
    "#df_ts_map = pd.read_csv(in_ts_map_csv_file, comment=\"#\")\n",
    "\n",
    "df_sm = pd.read_csv(in_sm_csv_file, comment=\"#\")\n",
    "df_sm_map = pd.read_csv(in_sm_map_csv_file, comment=\"#\")\n",
    "\n",
    "df_beagle = pd.read_csv(in_beagle_csv_file, comment=\"#\")\n"
   ]
  },
  {
   "cell_type": "code",
   "execution_count": null,
   "metadata": {},
   "outputs": [],
   "source": [
    "#print(df_ts.shape)\n",
    "#print(df_ts_map.shape)\n",
    "print(df_sm.shape)\n",
    "print(df_sm_map.shape)\n",
    "print(df_beagle.shape)\n"
   ]
  },
  {
   "cell_type": "code",
   "execution_count": null,
   "metadata": {},
   "outputs": [],
   "source": [
    "sm_site_pos = set(df_sm[\"position\"].to_numpy())\n",
    "beagle_site_pos = set(df_beagle[\"position\"].to_numpy())\n",
    "shared_site_pos = list(sm_site_pos & beagle_site_pos)\n",
    "print(f\"SHARED SITES: {len(shared_site_pos)}\")\n"
   ]
  },
  {
   "cell_type": "code",
   "execution_count": null,
   "metadata": {},
   "outputs": [],
   "source": [
    "#df_ts = df_ts[np.isin(df_ts[\"position\"], shared_site_pos)]\n",
    "#df_ts_map = df_ts_map[np.isin(df_ts_map[\"position\"], shared_site_pos)]\n",
    "\n",
    "df_sm = df_sm[np.isin(df_sm[\"position\"], shared_site_pos)]\n",
    "df_sm_map = df_sm_map[np.isin(df_sm_map[\"position\"], shared_site_pos)]\n",
    "\n",
    "df_beagle = df_beagle[np.isin(df_beagle[\"position\"], shared_site_pos)]\n"
   ]
  },
  {
   "cell_type": "code",
   "execution_count": null,
   "metadata": {},
   "outputs": [],
   "source": [
    "#df_ts = df_ts[[\"ref_minor_allele_freq\", \"iqs\"]].dropna(axis=0).reset_index()\n",
    "#df_ts_map = df_ts_map[[\"ref_minor_allele_freq\", \"iqs\"]].dropna(axis=0).reset_index()\n",
    "\n",
    "df_sm = df_sm[[\"ref_minor_allele_freq\", \"iqs\"]].dropna(axis=0).reset_index()\n",
    "df_sm_map = df_sm_map[[\"ref_minor_allele_freq\", \"iqs\"]].dropna(axis=0).reset_index()\n",
    "\n",
    "df_beagle = df_beagle[[\"ref_minor_allele_freq\", \"iqs\"]].dropna(axis=0).reset_index()\n"
   ]
  },
  {
   "cell_type": "code",
   "execution_count": null,
   "metadata": {},
   "outputs": [],
   "source": [
    "#print(df_ts.shape)\n",
    "#print(df_ts_map.shape)\n",
    "\n",
    "print(df_sm.shape)\n",
    "print(df_sm_map.shape)\n",
    "\n",
    "print(df_beagle.shape)\n"
   ]
  },
  {
   "cell_type": "code",
   "execution_count": null,
   "metadata": {},
   "outputs": [],
   "source": [
    "def plot_results(df, method, out_png_file=None, max_maf=0.50, dpi=100, subsample_fraction=0.01):\n",
    "    assert 0.0 <= subsample_fraction <= 1.0\n",
    "    subsample_size = math.ceil(df.shape[0] * subsample_fraction)\n",
    "    subsample = np.random.choice(np.arange(df.shape[0]), subsample_size)\n",
    "\n",
    "    values = np.vstack([df[\"ref_minor_allele_freq\"][subsample], df[\"iqs\"][subsample]])\n",
    "    kernel = stats.gaussian_kde(values)\n",
    "    x = kernel(np.vstack([df[\"ref_minor_allele_freq\"], df[\"iqs\"]]))\n",
    "\n",
    "    fig, ax = plt.subplots(figsize=(7, 7,))\n",
    "\n",
    "    ax.set_title(f\"{method}\", size=20)\n",
    "    ax.set_xlim([0, max_maf])\n",
    "    ax.set_ylabel(\"IQS\", size=20)\n",
    "    ax.set_xlabel(\"MAF\", size=20)\n",
    "    ax.tick_params(axis='both', which='major', labelsize=20)\n",
    "\n",
    "    g = sns.scatterplot(\n",
    "        y=\"iqs\",\n",
    "        x=\"ref_minor_allele_freq\",\n",
    "        data=df,\n",
    "        c=x,\n",
    "        cmap=\"viridis\",\n",
    "        #x_jitter=True,\n",
    "        ax=ax\n",
    "    );\n",
    "\n",
    "    if out_png_file is not None:\n",
    "        g.get_figure().savefig(out_png_file, dpi=dpi)\n"
   ]
  },
  {
   "cell_type": "code",
   "execution_count": null,
   "metadata": {},
   "outputs": [],
   "source": [
    "#plot_results(df_ts, \"tsinfer (default) without genetic map\")"
   ]
  },
  {
   "cell_type": "code",
   "execution_count": null,
   "metadata": {},
   "outputs": [],
   "source": [
    "#plot_results(df_ts_map, \"tsinfer (default) with genetic map\")"
   ]
  },
  {
   "cell_type": "code",
   "execution_count": null,
   "metadata": {},
   "outputs": [],
   "source": [
    "plot_results(df_sm, \"Sample-matching without genetic map\")"
   ]
  },
  {
   "cell_type": "code",
   "execution_count": null,
   "metadata": {},
   "outputs": [],
   "source": [
    "plot_results(df_sm_map, \"Sample-matching with genetic map\")"
   ]
  },
  {
   "cell_type": "code",
   "execution_count": null,
   "metadata": {},
   "outputs": [],
   "source": [
    "plot_results(df_beagle, \"BEAGLE with genetic map\")"
   ]
  },
  {
   "cell_type": "code",
   "execution_count": null,
   "metadata": {},
   "outputs": [],
   "source": [
    "min_iqs = 0.90\n",
    "\n",
    "#score_ts = np.sum(df_ts[\"iqs\"] >= min_iqs) / float(df_ts.shape[0])\n",
    "#score_ts_map = np.sum(df_ts_map[\"iqs\"] >= min_iqs) / float(df_ts_map.shape[0])\n",
    "\n",
    "score_sm = np.sum(df_sm[\"iqs\"] >= min_iqs) / float(df_sm.shape[0])\n",
    "score_sm_map = np.sum(df_sm_map[\"iqs\"] >= min_iqs) / float(df_sm_map.shape[0])\n",
    "\n",
    "score_beagle = np.sum(df_beagle[\"iqs\"] >= min_iqs) / float(df_beagle.shape[0])\n"
   ]
  },
  {
   "cell_type": "code",
   "execution_count": null,
   "metadata": {},
   "outputs": [],
   "source": [
    "print(f\"% sites with IQS >= {min_iqs}\")\n",
    "\n",
    "#print(f\"tsinfer withOUT map         : {score_ts}\")\n",
    "#print(f\"tsinfer with map            : {score_ts_map}\")\n",
    "\n",
    "print(f\"sample-matching withOUT map : {score_sm}\")\n",
    "print(f\"sample-matching with map    : {score_sm_map}\")\n",
    "\n",
    "print(f\"beagle with map             : {score_beagle}\")\n"
   ]
  }
 ],
 "metadata": {
  "kernelspec": {
   "display_name": "Python 3.9.0 ('tskit-dev')",
   "language": "python",
   "name": "python3"
  },
  "language_info": {
   "codemirror_mode": {
    "name": "ipython",
    "version": 3
   },
   "file_extension": ".py",
   "mimetype": "text/x-python",
   "name": "python",
   "nbconvert_exporter": "python",
   "pygments_lexer": "ipython3",
   "version": "3.9.0"
  },
  "orig_nbformat": 4,
  "vscode": {
   "interpreter": {
    "hash": "9f3dfb7c5f33571a94770a54e650c64705c6c692fe5556d8738b916231470591"
   }
  }
 },
 "nbformat": 4,
 "nbformat_minor": 2
}
