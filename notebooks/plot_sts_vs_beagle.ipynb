{
 "cells": [
  {
   "cell_type": "code",
   "execution_count": 12,
   "metadata": {},
   "outputs": [],
   "source": [
    "import os\n",
    "\n",
    "import pandas as pd\n",
    "import numpy as np\n",
    "from scipy import stats\n",
    "\n",
    "import seaborn as sns\n",
    "import matplotlib.pyplot as plt\n",
    "sns.set_theme(style=\"whitegrid\")"
   ]
  },
  {
   "cell_type": "code",
   "execution_count": 20,
   "metadata": {},
   "outputs": [],
   "source": [
    "base_dir = \"/Users/szhan/Projects/tsimpute/viz/\"\n",
    "prefix = \"sisu42_into_sisu3.imputation.results\"\n",
    "\n",
    "in_sts_csv_file = base_dir + \"sts\" + \".\" + prefix + \".\" + \"pass_2\" + \".\" + \"csv\"\n",
    "out_sts_png_file = base_dir + \"sts\" + \".\" + prefix + \".\" + \"pass_2\" + \".\" + \"png\"\n",
    "\n",
    "in_beagle_csv_file = base_dir + \"beagle\" + \".\" + prefix + \".\" + \"csv\"\n",
    "out_beagle_png_file = base_dir + \"beagle\" + \".\" + prefix + \".\" + \"png\"\n"
   ]
  },
  {
   "cell_type": "code",
   "execution_count": 21,
   "metadata": {},
   "outputs": [],
   "source": [
    "df_sts = pd.read_csv(in_sts_csv_file, comment=\"#\")\n",
    "df_beagle = pd.read_csv(in_beagle_csv_file, comment=\"#\")"
   ]
  },
  {
   "cell_type": "code",
   "execution_count": 15,
   "metadata": {},
   "outputs": [
    {
     "name": "stdout",
     "output_type": "stream",
     "text": [
      "97114\n",
      "96075\n",
      "95024\n"
     ]
    }
   ],
   "source": [
    "shared_site_pos = np.sort(list(set(df_sts[\"position\"].to_numpy()) & set(df_beagle[\"position\"].to_numpy())))\n",
    "\n",
    "print(f\"{df_sts.shape[0]}\")\n",
    "print(f\"{df_beagle.shape[0]}\")\n",
    "print(f\"{len(shared_site_pos)}\")"
   ]
  },
  {
   "cell_type": "code",
   "execution_count": 16,
   "metadata": {},
   "outputs": [],
   "source": [
    "df_sts = df_sts[np.isin(df_sts[\"position\"], shared_site_pos)]\n",
    "df_beagle = df_beagle[np.isin(df_beagle[\"position\"], shared_site_pos)]\n",
    "\n",
    "df_sts = df_sts[[\"ref_minor_allele_freq\", \"iqs\"]].dropna(axis=0)\n",
    "df_beagle = df_beagle[[\"ref_minor_allele_freq\", \"iqs\"]].dropna(axis=0)"
   ]
  },
  {
   "cell_type": "code",
   "execution_count": null,
   "metadata": {},
   "outputs": [],
   "source": [
    "def plot_results(df, method, out_png_file, max_maf=0.50, dpi=100):\n",
    "    values = np.vstack([df[\"ref_minor_allele_freq\"], df[\"iqs\"]])\n",
    "    kernel = stats.gaussian_kde(values)\n",
    "    x = kernel(np.vstack([df[\"ref_minor_allele_freq\"], df[\"iqs\"]]))\n",
    "\n",
    "    fig, ax = plt.subplots(figsize=(10, 10))\n",
    "\n",
    "    ax.set_title(\n",
    "        f\"{method}: from SiSu v4.2 into SiSu v3.0\",\n",
    "        size=45\n",
    "    )\n",
    "    ax.set_xlim([0, max_maf])\n",
    "    ax.set_ylabel(\"IQS\", size=40)\n",
    "    ax.set_xlabel(\"MAF\", size=40)\n",
    "    ax.tick_params(axis='both', which='major', labelsize=35)\n",
    "\n",
    "    g = sns.scatterplot(\n",
    "        y=\"iqs\",\n",
    "        x=\"ref_minor_allele_freq\",\n",
    "        data=df,\n",
    "        c=x,\n",
    "        cmap=\"viridis\",\n",
    "        #x_jitter=True,\n",
    "        ax=ax\n",
    "    );\n",
    "\n",
    "    g.get_figure().savefig(out_png_file, dpi=dpi)"
   ]
  },
  {
   "cell_type": "code",
   "execution_count": null,
   "metadata": {},
   "outputs": [],
   "source": [
    "plot_results(df_sts, \"Tree sequence\", out_sts_png_file, dpi=1_000)"
   ]
  },
  {
   "cell_type": "code",
   "execution_count": null,
   "metadata": {},
   "outputs": [],
   "source": [
    "plot_results(df_beagle, \"BEAGLE\", out_beagle_png_file, dpi=1_000)"
   ]
  },
  {
   "cell_type": "code",
   "execution_count": 27,
   "metadata": {},
   "outputs": [],
   "source": [
    "# Rare\n",
    "df_sts_rare = df_sts[df_sts[\"ref_minor_allele_freq\"] <= 0.01]\n",
    "df_beagle_rare = df_beagle[df_beagle[\"ref_minor_allele_freq\"] <= 0.01]\n",
    "\n",
    "# Uncommon\n",
    "df_sts_uncommon = df_sts[df_sts[\"ref_minor_allele_freq\"] > 0.01]\n",
    "df_sts_uncommon = df_sts_uncommon[df_sts_uncommon[\"ref_minor_allele_freq\"] <= 0.05]\n",
    "\n",
    "df_beagle_uncommon = df_beagle[df_beagle[\"ref_minor_allele_freq\"] > 0.01]\n",
    "df_beagle_uncommon = df_beagle_uncommon[df_beagle_uncommon[\"ref_minor_allele_freq\"] <= 0.05]\n",
    "\n",
    "# Common\n",
    "df_sts_common = df_sts[df_sts[\"ref_minor_allele_freq\"] > 0.05]\n",
    "df_beagle_common = df_beagle[df_beagle[\"ref_minor_allele_freq\"] > 0.05]"
   ]
  },
  {
   "cell_type": "code",
   "execution_count": null,
   "metadata": {},
   "outputs": [],
   "source": [
    "min_iqs = 0.90\n",
    "\n",
    "print(f\"Percent sites with IQS >= {min_iqs}\")\n",
    "print(\"ALL\")\n",
    "score_sts_all = float(df_sts[df_sts[\"iqs\"] >= min_iqs].shape[0]) / float(df_sts.shape[0])\n",
    "score_beagle_all = float(\n",
    "    df_beagle[df_beagle[\"iqs\"] >= min_iqs].shape[0]) / float(df_beagle.shape[0])\n",
    "print(f\"STS: {round(score_sts_all, 4)}\")\n",
    "print(f\"BGL: {round(score_beagle_all, 4)}\")\n",
    "print(f\"DIF: {round(score_beagle_all - score_sts_all, 4)}\")\n",
    "\n",
    "print(\"RARE\")\n",
    "score_sts_rare = df_sts_rare[df_sts_rare[\"iqs\"] >= min_iqs].shape[0] / float(df_sts_rare.shape[0])\n",
    "score_beagle_rare = df_beagle_rare[df_beagle_rare[\"iqs\"] >= min_iqs].shape[0] / float(df_beagle_rare.shape[0])\n",
    "print(f\"STS: {round(score_sts_rare, 4)}\")\n",
    "print(f\"BGL: {round(score_beagle_rare, 4)}\")\n",
    "print(f\"DIF: {round(score_beagle_rare - score_sts_rare, 4)}\")\n",
    "\n",
    "print(\"UNCOMMON\")\n",
    "score_sts_uncommon = df_sts_uncommon[df_sts_uncommon[\"iqs\"] >= min_iqs].shape[0] / float(df_sts_uncommon.shape[0])\n",
    "score_beagle_uncommon = df_beagle_uncommon[df_beagle_uncommon[\"iqs\"] >= min_iqs].shape[0] / float(df_beagle_uncommon.shape[0])\n",
    "print(f\"STS: {round(score_sts_uncommon, 4)}\")\n",
    "print(f\"BGL: {round(score_beagle_uncommon, 4)}\")\n",
    "print(f\"DIF: {round(score_beagle_uncommon - score_sts_uncommon, 4)}\")\n",
    "\n",
    "print(\"COMMON\")\n",
    "score_sts_common = df_sts_common[df_sts_common[\"iqs\"] >= min_iqs].shape[0] / float(df_sts_common.shape[0])\n",
    "score_beagle_common = df_beagle_common[df_beagle_common[\"iqs\"] >= min_iqs].shape[0] / float(df_beagle_common.shape[0])\n",
    "print(f\"STS: {round(score_sts_common, 4)}\")\n",
    "print(f\"BGL: {round(score_beagle_common, 4)}\")\n",
    "print(f\"DIF: {round(score_beagle_common - score_sts_common, 4)}\")"
   ]
  }
 ],
 "metadata": {
  "kernelspec": {
   "display_name": "Python 3.8.12 ('tskit-play')",
   "language": "python",
   "name": "python3"
  },
  "language_info": {
   "codemirror_mode": {
    "name": "ipython",
    "version": 3
   },
   "file_extension": ".py",
   "mimetype": "text/x-python",
   "name": "python",
   "nbconvert_exporter": "python",
   "pygments_lexer": "ipython3",
   "version": "3.8.12"
  },
  "orig_nbformat": 4,
  "vscode": {
   "interpreter": {
    "hash": "eb113df21e86d0d3285e00d2b797ac04a99a0d10196b81a01bbc3abb92b92d53"
   }
  }
 },
 "nbformat": 4,
 "nbformat_minor": 2
}
