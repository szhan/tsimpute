{
 "cells": [
  {
   "cell_type": "code",
   "execution_count": 1,
   "metadata": {},
   "outputs": [],
   "source": [
    "import os\n",
    "\n",
    "import pandas as pd\n",
    "import numpy as np\n",
    "from scipy import stats\n",
    "\n",
    "import seaborn as sns\n",
    "import matplotlib.pyplot as plt\n",
    "sns.set_theme(style=\"whitegrid\")\n"
   ]
  },
  {
   "cell_type": "code",
   "execution_count": 49,
   "metadata": {},
   "outputs": [],
   "source": [
    "base_dir = \"/Users/szhan/Projects/tsimpute/viz/\"\n",
    "prefix = \"sisu42_into_sisu3.imputation.results\"\n",
    "\n",
    "in_sts_csv_file = base_dir + \"sts\" + \".\" + prefix + \".\" + \"csv\"\n",
    "out_sts_png_file = base_dir + \"sts\" + \".\" + prefix + \".\" + \"png\"\n",
    "\n",
    "in_beagle_csv_file = base_dir + \"beagle\" + \".\" + prefix + \".\" + \"csv\"\n",
    "out_beagle_png_file = base_dir + \"beagle\" + \".\" + prefix + \".\" + \"png\""
   ]
  },
  {
   "cell_type": "code",
   "execution_count": 64,
   "metadata": {},
   "outputs": [],
   "source": [
    "df_sts = pd.read_csv(in_sts_csv_file, comment=\"#\")\n",
    "df_beagle = pd.read_csv(in_beagle_csv_file, comment=\"#\")"
   ]
  },
  {
   "cell_type": "code",
   "execution_count": 79,
   "metadata": {},
   "outputs": [
    {
     "name": "stdout",
     "output_type": "stream",
     "text": [
      "97570\n",
      "96075\n",
      "96075\n"
     ]
    }
   ],
   "source": [
    "shared_site_pos = np.sort(list(set(df_sts[\"position\"].to_numpy()) & set(df_beagle[\"position\"].to_numpy())))\n",
    "\n",
    "print(f\"{df_sts.shape[0]}\")\n",
    "print(f\"{df_beagle.shape[0]}\")\n",
    "print(f\"{len(shared_site_pos)}\")"
   ]
  },
  {
   "cell_type": "code",
   "execution_count": 82,
   "metadata": {},
   "outputs": [],
   "source": [
    "df_sts = df_sts[np.isin(df_sts[\"position\"], shared_site_pos)]\n",
    "df_beagle = df_beagle[np.isin(df_beagle[\"position\"], shared_site_pos)]\n",
    "\n",
    "df_sts = df_sts[[\"ref_minor_allele_freq\", \"iqs\"]].dropna(axis=0)\n",
    "df_beagle = df_beagle[[\"ref_minor_allele_freq\", \"iqs\"]].dropna(axis=0)"
   ]
  },
  {
   "cell_type": "code",
   "execution_count": 61,
   "metadata": {},
   "outputs": [],
   "source": [
    "def plot_results(df, method, out_png_file, max_maf=0.50, dpi=1000):\n",
    "    values = np.vstack([df[\"ref_minor_allele_freq\"], df[\"iqs\"]])\n",
    "    kernel = stats.gaussian_kde(values)\n",
    "    x = kernel(np.vstack([df[\"ref_minor_allele_freq\"], df[\"iqs\"]]))\n",
    "\n",
    "    fig, ax = plt.subplots(figsize=(10, 10))\n",
    "\n",
    "    ax.set_title(\n",
    "        f\"{method}: from SiSu v4.2 into SiSu v3.0\",\n",
    "        size=25\n",
    "    )\n",
    "    ax.set_xlim([0, max_maf])\n",
    "    ax.set_ylabel(\"IQS\", size=20)\n",
    "    ax.set_xlabel(\"MAF\", size=20)\n",
    "    ax.tick_params(axis='both', which='major', labelsize=20)\n",
    "\n",
    "    g = sns.scatterplot(\n",
    "        y=\"iqs\",\n",
    "        x=\"ref_minor_allele_freq\",\n",
    "        data=df,\n",
    "        c=x,\n",
    "        cmap=\"viridis\",\n",
    "        #x_jitter=True,\n",
    "        ax=ax\n",
    "    );\n",
    "\n",
    "    g.get_figure().savefig(out_png_file, dpi=dpi)"
   ]
  },
  {
   "cell_type": "code",
   "execution_count": 83,
   "metadata": {},
   "outputs": [],
   "source": [
    "plot_results(df_sts, \"Tree sequence\", out_sts_png_file)"
   ]
  },
  {
   "cell_type": "code",
   "execution_count": null,
   "metadata": {},
   "outputs": [],
   "source": [
    "plot_results(df_beagle, \"BEAGLE\", out_sts_png_file)"
   ]
  }
 ],
 "metadata": {
  "kernelspec": {
   "display_name": "Python 3.9.7 ('base')",
   "language": "python",
   "name": "python3"
  },
  "language_info": {
   "codemirror_mode": {
    "name": "ipython",
    "version": 3
   },
   "file_extension": ".py",
   "mimetype": "text/x-python",
   "name": "python",
   "nbconvert_exporter": "python",
   "pygments_lexer": "ipython3",
   "version": "3.9.7"
  },
  "orig_nbformat": 4,
  "vscode": {
   "interpreter": {
    "hash": "6508399feca9d36d9ec0fa2671e1f761673cb5612db7c9ffd604e0f839b53a39"
   }
  }
 },
 "nbformat": 4,
 "nbformat_minor": 2
}
