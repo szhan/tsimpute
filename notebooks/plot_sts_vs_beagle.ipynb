{
 "cells": [
  {
   "cell_type": "code",
   "execution_count": null,
   "metadata": {},
   "outputs": [],
   "source": [
    "from pathlib import Path\n",
    "import math\n",
    "\n",
    "import pandas as pd\n",
    "import numpy as np\n",
    "from scipy import stats\n",
    "\n",
    "import seaborn as sns\n",
    "import matplotlib.pyplot as plt\n",
    "sns.set_theme(style=\"whitegrid\")"
   ]
  },
  {
   "cell_type": "code",
   "execution_count": null,
   "metadata": {},
   "outputs": [],
   "source": [
    "# Sites with low-confidence AA, sites with unknown AA, and singletons are included.\n",
    "# Multi-allelic sites and sites with indels are excluded."
   ]
  },
  {
   "cell_type": "code",
   "execution_count": null,
   "metadata": {},
   "outputs": [],
   "source": [
    "base_dir = Path(\"/Users/szhan/Projects/tsimpute/results/\")\n",
    "prefix = \"chr20_p.\"\n",
    "suffix = \".imputation.csv.gz\"\n",
    "\n",
    "# tsinfer\n",
    "# withOUT sites with low-confidence or unknown AA\n",
    "in_ts_csv_file = base_dir / str(prefix + \"default\" + suffix)\n",
    "# with sites with low-confidence or unknown AA\n",
    "in_ts_no_csv_file = base_dir / str(prefix + \"default_no\" + suffix)\n",
    "# with genetic map\n",
    "in_ts_map_csv_file = base_dir / str(prefix + \"default_no.genetic_map\" + suffix)\n",
    "\n",
    "# Sample-matching\n",
    "# withOUT genetic map\n",
    "in_sm_csv_file = base_dir / str(prefix + \"sample_matched_no.precision10\" + suffix)\n",
    "# with genetic map\n",
    "in_sm_map_csv_file = base_dir / str(prefix + \"sample_matched_no.genetic_map.precision10\" + suffix)\n",
    "\n",
    "# BEAGLE\n",
    "# with genetic map\n",
    "in_beagle_csv_file = base_dir / str(prefix + \"beagle_no\" + suffix)\n"
   ]
  },
  {
   "cell_type": "code",
   "execution_count": null,
   "metadata": {},
   "outputs": [],
   "source": [
    "df_ts = pd.read_csv(in_ts_csv_file, comment=\"#\")\n",
    "df_ts_no = pd.read_csv(in_ts_no_csv_file, comment=\"#\")\n",
    "df_ts_map = pd.read_csv(in_ts_map_csv_file, comment=\"#\")\n",
    "\n",
    "df_sm = pd.read_csv(in_sm_csv_file, comment=\"#\")\n",
    "df_sm_map = pd.read_csv(in_sm_map_csv_file, comment=\"#\")\n",
    "\n",
    "df_beagle = pd.read_csv(in_beagle_csv_file, comment=\"#\")\n"
   ]
  },
  {
   "cell_type": "code",
   "execution_count": null,
   "metadata": {},
   "outputs": [],
   "source": [
    "print(df_ts.shape)\n",
    "print(df_ts_no.shape)\n",
    "print(df_ts_map.shape)\n",
    "print(df_sm.shape)\n",
    "print(df_sm_map.shape)\n",
    "print(df_beagle.shape)\n"
   ]
  },
  {
   "cell_type": "code",
   "execution_count": null,
   "metadata": {},
   "outputs": [],
   "source": [
    "df_ts.head(5)\n"
   ]
  },
  {
   "cell_type": "code",
   "execution_count": null,
   "metadata": {},
   "outputs": [],
   "source": [
    "sm_site_pos = set(df_sm[\"position\"].to_numpy())\n",
    "beagle_site_pos = set(df_beagle[\"position\"].to_numpy())\n",
    "shared_site_pos = list(sm_site_pos & beagle_site_pos)\n",
    "print(f\"SHARED SITES: {len(shared_site_pos)}\")\n"
   ]
  },
  {
   "cell_type": "code",
   "execution_count": null,
   "metadata": {},
   "outputs": [],
   "source": [
    "df_ts = df_ts[[\"ref_minor_allele_freq\", \"iqs\"]].dropna(axis=0).reset_index()\n",
    "df_ts_no = df_ts_no[[\"ref_minor_allele_freq\", \"iqs\"]].dropna(axis=0).reset_index()\n",
    "df_ts_map = df_ts_map[[\"ref_minor_allele_freq\", \"iqs\"]].dropna(axis=0).reset_index()\n",
    "\n",
    "df_sm = df_sm[[\"ref_minor_allele_freq\", \"iqs\"]].dropna(axis=0).reset_index()\n",
    "df_sm_map = df_sm_map[[\"ref_minor_allele_freq\", \"iqs\"]].dropna(axis=0).reset_index()\n",
    "\n",
    "df_beagle = df_beagle[[\"ref_minor_allele_freq\", \"iqs\"]].dropna(axis=0).reset_index()\n"
   ]
  },
  {
   "cell_type": "code",
   "execution_count": null,
   "metadata": {},
   "outputs": [],
   "source": [
    "print(df_ts.shape)\n",
    "print(df_ts_no.shape)\n",
    "print(df_ts_map.shape)\n",
    "print(df_sm.shape)\n",
    "print(df_sm_map.shape)\n",
    "print(df_beagle.shape)\n"
   ]
  },
  {
   "cell_type": "code",
   "execution_count": null,
   "metadata": {},
   "outputs": [],
   "source": [
    "def plot_results(df, method, out_png_file=None, max_maf=0.50, dpi=100, subsample_fraction=0.01):\n",
    "    assert 0.0 <= subsample_fraction <= 1.0\n",
    "    subsample_size = math.ceil(df.shape[0] * subsample_fraction)\n",
    "    subsample = np.random.choice(np.arange(df.shape[0]), subsample_size)\n",
    "\n",
    "    values = np.vstack([df[\"ref_minor_allele_freq\"][subsample], df[\"iqs\"][subsample]])\n",
    "    kernel = stats.gaussian_kde(values)\n",
    "    x = kernel(np.vstack([df[\"ref_minor_allele_freq\"], df[\"iqs\"]]))\n",
    "\n",
    "    fig, ax = plt.subplots(figsize=(7, 7,))\n",
    "\n",
    "    ax.set_title(f\"{method}\", size=20)\n",
    "    ax.set_xlim([0, max_maf])\n",
    "    ax.set_ylabel(\"IQS\", size=20)\n",
    "    ax.set_xlabel(\"MAF\", size=20)\n",
    "    ax.tick_params(axis='both', which='major', labelsize=20)\n",
    "\n",
    "    g = sns.scatterplot(\n",
    "        y=\"iqs\",\n",
    "        x=\"ref_minor_allele_freq\",\n",
    "        data=df,\n",
    "        c=x,\n",
    "        cmap=\"viridis\",\n",
    "        #x_jitter=True,\n",
    "        ax=ax\n",
    "    );\n",
    "\n",
    "    if out_png_file is not None:\n",
    "        g.get_figure().savefig(out_png_file, dpi=dpi)\n"
   ]
  },
  {
   "cell_type": "code",
   "execution_count": null,
   "metadata": {},
   "outputs": [],
   "source": [
    "# Minimum IQS threshold\n",
    "min_iqs = 0.90\n"
   ]
  },
  {
   "cell_type": "code",
   "execution_count": null,
   "metadata": {},
   "outputs": [],
   "source": [
    "# Without sites having low-confidence or unknown AA\n",
    "plot_results(df_ts, \"tsinfer (default) without genetic map\")\n",
    "\n",
    "num_sites_min_iqs = np.sum(df_ts[\"iqs\"] >= min_iqs)\n",
    "prop_sites_min_iqs = num_sites_min_iqs / float(df_ts.shape[0])\n",
    "print(f\"% sites with min IQS: {round(prop_sites_min_iqs * 100.0, 2)}\")\n"
   ]
  },
  {
   "cell_type": "code",
   "execution_count": null,
   "metadata": {},
   "outputs": [],
   "source": [
    "# With sites having low-confidence or unknown AA\n",
    "plot_results(df_ts_no, \"tsinfer (default) without genetic map\")\n",
    "\n",
    "num_sites_min_iqs = np.sum(df_ts_no[\"iqs\"] >= min_iqs)\n",
    "prop_sites_min_iqs = num_sites_min_iqs / float(df_ts_no.shape[0])\n",
    "print(f\"% sites with min IQS: {round(prop_sites_min_iqs * 100.0, 2)}\")\n"
   ]
  },
  {
   "cell_type": "code",
   "execution_count": null,
   "metadata": {},
   "outputs": [],
   "source": [
    "plot_results(df_ts_map, \"tsinfer (default) with genetic map\")\n",
    "\n",
    "num_sites_min_iqs = np.sum(df_ts_map[\"iqs\"] >= min_iqs)\n",
    "prop_sites_min_iqs = num_sites_min_iqs / float(df_ts_map.shape[0])\n",
    "print(f\"% sites with min IQS: {round(prop_sites_min_iqs * 100.0, 2)}\")\n"
   ]
  },
  {
   "cell_type": "code",
   "execution_count": null,
   "metadata": {},
   "outputs": [],
   "source": [
    "plot_results(df_beagle, \"BEAGLE with genetic map\")\n",
    "\n",
    "num_sites_min_iqs = np.sum(df_beagle[\"iqs\"] >= min_iqs)\n",
    "prop_sites_min_iqs = num_sites_min_iqs / float(df_beagle.shape[0])\n",
    "print(f\"% sites with min IQS: {round(prop_sites_min_iqs * 100.0, 2)}\")\n"
   ]
  },
  {
   "cell_type": "code",
   "execution_count": null,
   "metadata": {},
   "outputs": [],
   "source": [
    "plot_results(df_sm, \"Sample matching without genetic map\")\n",
    "\n",
    "num_sites_min_iqs = np.sum(df_sm[\"iqs\"] >= min_iqs)\n",
    "prop_sites_min_iqs = num_sites_min_iqs / float(df_sm.shape[0])\n",
    "print(f\"% sites with min IQS: {round(prop_sites_min_iqs * 100.0, 2)}\")\n"
   ]
  },
  {
   "cell_type": "code",
   "execution_count": null,
   "metadata": {},
   "outputs": [],
   "source": [
    "plot_results(df_sm_map, \"Sample matching with genetic map\")\n",
    "\n",
    "num_sites_min_iqs = np.sum(df_sm_map[\"iqs\"] >= min_iqs)\n",
    "prop_sites_min_iqs = num_sites_min_iqs / float(df_sm_map.shape[0])\n",
    "print(f\"% sites with min IQS: {round(prop_sites_min_iqs * 100.0, 2)}\")\n"
   ]
  },
  {
   "cell_type": "markdown",
   "metadata": {},
   "source": [
    "### Deep dive into wrongly imputed sites in relatively high MAF bins"
   ]
  },
  {
   "cell_type": "code",
   "execution_count": null,
   "metadata": {},
   "outputs": [],
   "source": [
    "# Focus on sites with MAF >= 0.40 and IQS <= 0.80\n",
    "subset_sites = df_sm[(df_sm[\"ref_minor_allele_freq\"] >= 0.40) & (df_sm[\"iqs\"] <= 0.80)]"
   ]
  },
  {
   "cell_type": "code",
   "execution_count": null,
   "metadata": {},
   "outputs": [],
   "source": [
    "# Questions\n",
    "# 1. Are these sites near regions with high breakpoint density?\n",
    "# 2. What % samples in subtree under MRCA of all wrongly imputed samples are correctly imputed?"
   ]
  },
  {
   "cell_type": "code",
   "execution_count": null,
   "metadata": {},
   "outputs": [],
   "source": []
  }
 ],
 "metadata": {
  "kernelspec": {
   "display_name": "Python 3.9.0 ('tskit-dev')",
   "language": "python",
   "name": "python3"
  },
  "language_info": {
   "codemirror_mode": {
    "name": "ipython",
    "version": 3
   },
   "file_extension": ".py",
   "mimetype": "text/x-python",
   "name": "python",
   "nbconvert_exporter": "python",
   "pygments_lexer": "ipython3",
   "version": "3.9.0"
  },
  "orig_nbformat": 4,
  "vscode": {
   "interpreter": {
    "hash": "9f3dfb7c5f33571a94770a54e650c64705c6c692fe5556d8738b916231470591"
   }
  }
 },
 "nbformat": 4,
 "nbformat_minor": 2
}
